{
  "nbformat": 4,
  "nbformat_minor": 0,
  "metadata": {
    "colab": {
      "name": "Car Resale Project.ipynb",
      "provenance": [],
      "collapsed_sections": [],
      "include_colab_link": true
    },
    "kernelspec": {
      "name": "python3",
      "display_name": "Python 3"
    }
  },
  "cells": [
    {
      "cell_type": "markdown",
      "metadata": {
        "id": "view-in-github",
        "colab_type": "text"
      },
      "source": [
        "<a href=\"https://colab.research.google.com/github/sinishibu/IntroToDataScience/blob/master/Car_Resale_Project.ipynb\" target=\"_parent\"><img src=\"https://colab.research.google.com/assets/colab-badge.svg\" alt=\"Open In Colab\"/></a>"
      ]
    },
    {
      "cell_type": "markdown",
      "metadata": {
        "id": "vcBwYUtb5S7X"
      },
      "source": [
        "#How can I store my Dataset for analysis?"
      ]
    },
    {
      "cell_type": "code",
      "metadata": {
        "id": "z8VhlOZo5Rka"
      },
      "source": [
        "import pandas as pd\n",
        "data=pd.read_csv(\"Car resale.csv\")"
      ],
      "execution_count": null,
      "outputs": []
    },
    {
      "cell_type": "markdown",
      "metadata": {
        "id": "3AMEzeGZ6F3l"
      },
      "source": [
        "#How can I see the data in the Dataset?"
      ]
    },
    {
      "cell_type": "code",
      "metadata": {
        "id": "1V_0t8-56NkX",
        "colab": {
          "base_uri": "https://localhost:8080/",
          "height": 402
        },
        "outputId": "a473f358-f973-453a-bfe6-9f96eaf80ecb"
      },
      "source": [
        "data"
      ],
      "execution_count": null,
      "outputs": [
        {
          "output_type": "execute_result",
          "data": {
            "text/html": [
              "<div>\n",
              "<style scoped>\n",
              "    .dataframe tbody tr th:only-of-type {\n",
              "        vertical-align: middle;\n",
              "    }\n",
              "\n",
              "    .dataframe tbody tr th {\n",
              "        vertical-align: top;\n",
              "    }\n",
              "\n",
              "    .dataframe thead th {\n",
              "        text-align: right;\n",
              "    }\n",
              "</style>\n",
              "<table border=\"1\" class=\"dataframe\">\n",
              "  <thead>\n",
              "    <tr style=\"text-align: right;\">\n",
              "      <th></th>\n",
              "      <th>Brand</th>\n",
              "      <th>Price</th>\n",
              "      <th>Body</th>\n",
              "      <th>Mileage</th>\n",
              "      <th>EngineV</th>\n",
              "      <th>Engine Type</th>\n",
              "      <th>Registration</th>\n",
              "      <th>Year</th>\n",
              "      <th>Model</th>\n",
              "    </tr>\n",
              "  </thead>\n",
              "  <tbody>\n",
              "    <tr>\n",
              "      <th>0</th>\n",
              "      <td>BMW</td>\n",
              "      <td>4200.0</td>\n",
              "      <td>sedan</td>\n",
              "      <td>277</td>\n",
              "      <td>2.0</td>\n",
              "      <td>Petrol</td>\n",
              "      <td>yes</td>\n",
              "      <td>1991</td>\n",
              "      <td>320</td>\n",
              "    </tr>\n",
              "    <tr>\n",
              "      <th>1</th>\n",
              "      <td>Mercedes-Benz</td>\n",
              "      <td>7900.0</td>\n",
              "      <td>van</td>\n",
              "      <td>427</td>\n",
              "      <td>2.9</td>\n",
              "      <td>Diesel</td>\n",
              "      <td>yes</td>\n",
              "      <td>1999</td>\n",
              "      <td>Sprinter 212</td>\n",
              "    </tr>\n",
              "    <tr>\n",
              "      <th>2</th>\n",
              "      <td>Mercedes-Benz</td>\n",
              "      <td>13300.0</td>\n",
              "      <td>sedan</td>\n",
              "      <td>358</td>\n",
              "      <td>5.0</td>\n",
              "      <td>Gas</td>\n",
              "      <td>yes</td>\n",
              "      <td>2003</td>\n",
              "      <td>S 500</td>\n",
              "    </tr>\n",
              "    <tr>\n",
              "      <th>3</th>\n",
              "      <td>Audi</td>\n",
              "      <td>23000.0</td>\n",
              "      <td>crossover</td>\n",
              "      <td>240</td>\n",
              "      <td>4.2</td>\n",
              "      <td>Petrol</td>\n",
              "      <td>yes</td>\n",
              "      <td>2007</td>\n",
              "      <td>Q7</td>\n",
              "    </tr>\n",
              "    <tr>\n",
              "      <th>4</th>\n",
              "      <td>Toyota</td>\n",
              "      <td>18300.0</td>\n",
              "      <td>crossover</td>\n",
              "      <td>120</td>\n",
              "      <td>2.0</td>\n",
              "      <td>Petrol</td>\n",
              "      <td>yes</td>\n",
              "      <td>2011</td>\n",
              "      <td>Rav 4</td>\n",
              "    </tr>\n",
              "    <tr>\n",
              "      <th>...</th>\n",
              "      <td>...</td>\n",
              "      <td>...</td>\n",
              "      <td>...</td>\n",
              "      <td>...</td>\n",
              "      <td>...</td>\n",
              "      <td>...</td>\n",
              "      <td>...</td>\n",
              "      <td>...</td>\n",
              "      <td>...</td>\n",
              "    </tr>\n",
              "    <tr>\n",
              "      <th>4340</th>\n",
              "      <td>Mercedes-Benz</td>\n",
              "      <td>125000.0</td>\n",
              "      <td>sedan</td>\n",
              "      <td>9</td>\n",
              "      <td>3.0</td>\n",
              "      <td>Diesel</td>\n",
              "      <td>yes</td>\n",
              "      <td>2014</td>\n",
              "      <td>S 350</td>\n",
              "    </tr>\n",
              "    <tr>\n",
              "      <th>4341</th>\n",
              "      <td>BMW</td>\n",
              "      <td>6500.0</td>\n",
              "      <td>sedan</td>\n",
              "      <td>1</td>\n",
              "      <td>3.5</td>\n",
              "      <td>Petrol</td>\n",
              "      <td>yes</td>\n",
              "      <td>1999</td>\n",
              "      <td>535</td>\n",
              "    </tr>\n",
              "    <tr>\n",
              "      <th>4342</th>\n",
              "      <td>BMW</td>\n",
              "      <td>8000.0</td>\n",
              "      <td>sedan</td>\n",
              "      <td>194</td>\n",
              "      <td>2.0</td>\n",
              "      <td>Petrol</td>\n",
              "      <td>yes</td>\n",
              "      <td>1985</td>\n",
              "      <td>520</td>\n",
              "    </tr>\n",
              "    <tr>\n",
              "      <th>4343</th>\n",
              "      <td>Toyota</td>\n",
              "      <td>14200.0</td>\n",
              "      <td>sedan</td>\n",
              "      <td>31</td>\n",
              "      <td>NaN</td>\n",
              "      <td>Petrol</td>\n",
              "      <td>yes</td>\n",
              "      <td>2014</td>\n",
              "      <td>Corolla</td>\n",
              "    </tr>\n",
              "    <tr>\n",
              "      <th>4344</th>\n",
              "      <td>Volkswagen</td>\n",
              "      <td>13500.0</td>\n",
              "      <td>van</td>\n",
              "      <td>124</td>\n",
              "      <td>2.0</td>\n",
              "      <td>Diesel</td>\n",
              "      <td>yes</td>\n",
              "      <td>2013</td>\n",
              "      <td>T5 (Transporter)</td>\n",
              "    </tr>\n",
              "  </tbody>\n",
              "</table>\n",
              "<p>4345 rows × 9 columns</p>\n",
              "</div>"
            ],
            "text/plain": [
              "              Brand     Price       Body  ...  Registration  Year              Model\n",
              "0               BMW    4200.0      sedan  ...           yes  1991                320\n",
              "1     Mercedes-Benz    7900.0        van  ...           yes  1999       Sprinter 212\n",
              "2     Mercedes-Benz   13300.0      sedan  ...           yes  2003              S 500\n",
              "3              Audi   23000.0  crossover  ...           yes  2007                 Q7\n",
              "4            Toyota   18300.0  crossover  ...           yes  2011              Rav 4\n",
              "...             ...       ...        ...  ...           ...   ...                ...\n",
              "4340  Mercedes-Benz  125000.0      sedan  ...           yes  2014              S 350\n",
              "4341            BMW    6500.0      sedan  ...           yes  1999                535\n",
              "4342            BMW    8000.0      sedan  ...           yes  1985                520\n",
              "4343         Toyota   14200.0      sedan  ...           yes  2014            Corolla\n",
              "4344     Volkswagen   13500.0        van  ...           yes  2013  T5 (Transporter) \n",
              "\n",
              "[4345 rows x 9 columns]"
            ]
          },
          "metadata": {
            "tags": []
          },
          "execution_count": 2
        }
      ]
    },
    {
      "cell_type": "markdown",
      "metadata": {
        "id": "j_-tNDjj6Vjz"
      },
      "source": [
        "#What are the important statistical measures in my Dataset?"
      ]
    },
    {
      "cell_type": "code",
      "metadata": {
        "id": "71do8j8Y6dPq",
        "colab": {
          "base_uri": "https://localhost:8080/",
          "height": 284
        },
        "outputId": "088c96de-f232-4cf5-ce6a-b49294f27f30"
      },
      "source": [
        "data.describe()"
      ],
      "execution_count": null,
      "outputs": [
        {
          "output_type": "execute_result",
          "data": {
            "text/html": [
              "<div>\n",
              "<style scoped>\n",
              "    .dataframe tbody tr th:only-of-type {\n",
              "        vertical-align: middle;\n",
              "    }\n",
              "\n",
              "    .dataframe tbody tr th {\n",
              "        vertical-align: top;\n",
              "    }\n",
              "\n",
              "    .dataframe thead th {\n",
              "        text-align: right;\n",
              "    }\n",
              "</style>\n",
              "<table border=\"1\" class=\"dataframe\">\n",
              "  <thead>\n",
              "    <tr style=\"text-align: right;\">\n",
              "      <th></th>\n",
              "      <th>Price</th>\n",
              "      <th>Mileage</th>\n",
              "      <th>EngineV</th>\n",
              "      <th>Year</th>\n",
              "    </tr>\n",
              "  </thead>\n",
              "  <tbody>\n",
              "    <tr>\n",
              "      <th>count</th>\n",
              "      <td>4173.000000</td>\n",
              "      <td>4345.000000</td>\n",
              "      <td>4195.000000</td>\n",
              "      <td>4345.000000</td>\n",
              "    </tr>\n",
              "    <tr>\n",
              "      <th>mean</th>\n",
              "      <td>19418.746935</td>\n",
              "      <td>161.237284</td>\n",
              "      <td>2.790734</td>\n",
              "      <td>2006.550058</td>\n",
              "    </tr>\n",
              "    <tr>\n",
              "      <th>std</th>\n",
              "      <td>25584.242620</td>\n",
              "      <td>105.705797</td>\n",
              "      <td>5.066437</td>\n",
              "      <td>6.719097</td>\n",
              "    </tr>\n",
              "    <tr>\n",
              "      <th>min</th>\n",
              "      <td>600.000000</td>\n",
              "      <td>0.000000</td>\n",
              "      <td>0.600000</td>\n",
              "      <td>1969.000000</td>\n",
              "    </tr>\n",
              "    <tr>\n",
              "      <th>25%</th>\n",
              "      <td>6999.000000</td>\n",
              "      <td>86.000000</td>\n",
              "      <td>1.800000</td>\n",
              "      <td>2003.000000</td>\n",
              "    </tr>\n",
              "    <tr>\n",
              "      <th>50%</th>\n",
              "      <td>11500.000000</td>\n",
              "      <td>155.000000</td>\n",
              "      <td>2.200000</td>\n",
              "      <td>2008.000000</td>\n",
              "    </tr>\n",
              "    <tr>\n",
              "      <th>75%</th>\n",
              "      <td>21700.000000</td>\n",
              "      <td>230.000000</td>\n",
              "      <td>3.000000</td>\n",
              "      <td>2012.000000</td>\n",
              "    </tr>\n",
              "    <tr>\n",
              "      <th>max</th>\n",
              "      <td>300000.000000</td>\n",
              "      <td>980.000000</td>\n",
              "      <td>99.990000</td>\n",
              "      <td>2016.000000</td>\n",
              "    </tr>\n",
              "  </tbody>\n",
              "</table>\n",
              "</div>"
            ],
            "text/plain": [
              "               Price      Mileage      EngineV         Year\n",
              "count    4173.000000  4345.000000  4195.000000  4345.000000\n",
              "mean    19418.746935   161.237284     2.790734  2006.550058\n",
              "std     25584.242620   105.705797     5.066437     6.719097\n",
              "min       600.000000     0.000000     0.600000  1969.000000\n",
              "25%      6999.000000    86.000000     1.800000  2003.000000\n",
              "50%     11500.000000   155.000000     2.200000  2008.000000\n",
              "75%     21700.000000   230.000000     3.000000  2012.000000\n",
              "max    300000.000000   980.000000    99.990000  2016.000000"
            ]
          },
          "metadata": {
            "tags": []
          },
          "execution_count": 3
        }
      ]
    },
    {
      "cell_type": "markdown",
      "metadata": {
        "id": "0GqN3cL46zSg"
      },
      "source": [
        "#What are the data types in my Dataset?"
      ]
    },
    {
      "cell_type": "code",
      "metadata": {
        "id": "crgGojxd687Q",
        "colab": {
          "base_uri": "https://localhost:8080/"
        },
        "outputId": "38a03445-02b4-42f0-fcc7-76ff362ac247"
      },
      "source": [
        "data.dtypes"
      ],
      "execution_count": null,
      "outputs": [
        {
          "output_type": "execute_result",
          "data": {
            "text/plain": [
              "Brand            object\n",
              "Price           float64\n",
              "Body             object\n",
              "Mileage           int64\n",
              "EngineV         float64\n",
              "Engine Type      object\n",
              "Registration     object\n",
              "Year              int64\n",
              "Model            object\n",
              "dtype: object"
            ]
          },
          "metadata": {
            "tags": []
          },
          "execution_count": 4
        }
      ]
    },
    {
      "cell_type": "markdown",
      "metadata": {
        "id": "kIcvqZq98SAh"
      },
      "source": [
        "#How many rows and columns are there in my Dataset?"
      ]
    },
    {
      "cell_type": "code",
      "metadata": {
        "id": "YNhPSL518e3i",
        "colab": {
          "base_uri": "https://localhost:8080/"
        },
        "outputId": "769377da-cfed-4b2e-88ab-38d5a0371ab1"
      },
      "source": [
        "data.count"
      ],
      "execution_count": null,
      "outputs": [
        {
          "output_type": "execute_result",
          "data": {
            "text/plain": [
              "<bound method DataFrame.count of               Brand     Price       Body  ...  Registration  Year              Model\n",
              "0               BMW    4200.0      sedan  ...           yes  1991                320\n",
              "1     Mercedes-Benz    7900.0        van  ...           yes  1999       Sprinter 212\n",
              "2     Mercedes-Benz   13300.0      sedan  ...           yes  2003              S 500\n",
              "3              Audi   23000.0  crossover  ...           yes  2007                 Q7\n",
              "4            Toyota   18300.0  crossover  ...           yes  2011              Rav 4\n",
              "...             ...       ...        ...  ...           ...   ...                ...\n",
              "4340  Mercedes-Benz  125000.0      sedan  ...           yes  2014              S 350\n",
              "4341            BMW    6500.0      sedan  ...           yes  1999                535\n",
              "4342            BMW    8000.0      sedan  ...           yes  1985                520\n",
              "4343         Toyota   14200.0      sedan  ...           yes  2014            Corolla\n",
              "4344     Volkswagen   13500.0        van  ...           yes  2013  T5 (Transporter) \n",
              "\n",
              "[4345 rows x 9 columns]>"
            ]
          },
          "metadata": {
            "tags": []
          },
          "execution_count": 5
        }
      ]
    },
    {
      "cell_type": "markdown",
      "metadata": {
        "id": "WgMIrO__P-Fe"
      },
      "source": [
        "#How can I sort the dataset in ascending order of a column value?\n"
      ]
    },
    {
      "cell_type": "code",
      "metadata": {
        "id": "ItrKMsZJQkCz",
        "colab": {
          "base_uri": "https://localhost:8080/",
          "height": 195
        },
        "outputId": "0642daf4-5534-4ba9-8ba3-3ca61be12412"
      },
      "source": [
        "sorted_data= data.sort_values(by=\"Year\")\n",
        "sorted_data.head()"
      ],
      "execution_count": null,
      "outputs": [
        {
          "output_type": "execute_result",
          "data": {
            "text/html": [
              "<div>\n",
              "<style scoped>\n",
              "    .dataframe tbody tr th:only-of-type {\n",
              "        vertical-align: middle;\n",
              "    }\n",
              "\n",
              "    .dataframe tbody tr th {\n",
              "        vertical-align: top;\n",
              "    }\n",
              "\n",
              "    .dataframe thead th {\n",
              "        text-align: right;\n",
              "    }\n",
              "</style>\n",
              "<table border=\"1\" class=\"dataframe\">\n",
              "  <thead>\n",
              "    <tr style=\"text-align: right;\">\n",
              "      <th></th>\n",
              "      <th>Brand</th>\n",
              "      <th>Price</th>\n",
              "      <th>Body</th>\n",
              "      <th>Mileage</th>\n",
              "      <th>EngineV</th>\n",
              "      <th>Engine Type</th>\n",
              "      <th>Registration</th>\n",
              "      <th>Year</th>\n",
              "      <th>Model</th>\n",
              "    </tr>\n",
              "  </thead>\n",
              "  <tbody>\n",
              "    <tr>\n",
              "      <th>810</th>\n",
              "      <td>Mercedes-Benz</td>\n",
              "      <td>34999.0</td>\n",
              "      <td>sedan</td>\n",
              "      <td>150</td>\n",
              "      <td>2.8</td>\n",
              "      <td>Petrol</td>\n",
              "      <td>yes</td>\n",
              "      <td>1969</td>\n",
              "      <td>S 280</td>\n",
              "    </tr>\n",
              "    <tr>\n",
              "      <th>1025</th>\n",
              "      <td>Mercedes-Benz</td>\n",
              "      <td>2300.0</td>\n",
              "      <td>sedan</td>\n",
              "      <td>261</td>\n",
              "      <td>2.3</td>\n",
              "      <td>Gas</td>\n",
              "      <td>yes</td>\n",
              "      <td>1978</td>\n",
              "      <td>E-Class</td>\n",
              "    </tr>\n",
              "    <tr>\n",
              "      <th>4319</th>\n",
              "      <td>Mercedes-Benz</td>\n",
              "      <td>5500.0</td>\n",
              "      <td>sedan</td>\n",
              "      <td>440</td>\n",
              "      <td>2.0</td>\n",
              "      <td>Petrol</td>\n",
              "      <td>yes</td>\n",
              "      <td>1978</td>\n",
              "      <td>E-Class</td>\n",
              "    </tr>\n",
              "    <tr>\n",
              "      <th>1896</th>\n",
              "      <td>Mercedes-Benz</td>\n",
              "      <td>1950.0</td>\n",
              "      <td>sedan</td>\n",
              "      <td>1</td>\n",
              "      <td>2.0</td>\n",
              "      <td>Diesel</td>\n",
              "      <td>yes</td>\n",
              "      <td>1979</td>\n",
              "      <td>200</td>\n",
              "    </tr>\n",
              "    <tr>\n",
              "      <th>288</th>\n",
              "      <td>Toyota</td>\n",
              "      <td>600.0</td>\n",
              "      <td>sedan</td>\n",
              "      <td>10</td>\n",
              "      <td>1.5</td>\n",
              "      <td>Petrol</td>\n",
              "      <td>yes</td>\n",
              "      <td>1979</td>\n",
              "      <td>Corolla</td>\n",
              "    </tr>\n",
              "  </tbody>\n",
              "</table>\n",
              "</div>"
            ],
            "text/plain": [
              "              Brand    Price   Body  ...  Registration  Year    Model\n",
              "810   Mercedes-Benz  34999.0  sedan  ...           yes  1969    S 280\n",
              "1025  Mercedes-Benz   2300.0  sedan  ...           yes  1978  E-Class\n",
              "4319  Mercedes-Benz   5500.0  sedan  ...           yes  1978  E-Class\n",
              "1896  Mercedes-Benz   1950.0  sedan  ...           yes  1979      200\n",
              "288          Toyota    600.0  sedan  ...           yes  1979  Corolla\n",
              "\n",
              "[5 rows x 9 columns]"
            ]
          },
          "metadata": {
            "tags": []
          },
          "execution_count": 6
        }
      ]
    },
    {
      "cell_type": "markdown",
      "metadata": {
        "id": "BkUAVyYnYHGm"
      },
      "source": [
        "#How can I sort the dataset in ascending order of multiple column values?"
      ]
    },
    {
      "cell_type": "code",
      "metadata": {
        "id": "9gixnCnPYR3S",
        "colab": {
          "base_uri": "https://localhost:8080/",
          "height": 343
        },
        "outputId": "ada1e2f9-55a3-4d82-aab2-d603aebbcf6d"
      },
      "source": [
        "sorted_data= data.sort_values(by=[\"Year\",\"Price\"])\n",
        "sorted_data.head(10)"
      ],
      "execution_count": null,
      "outputs": [
        {
          "output_type": "execute_result",
          "data": {
            "text/html": [
              "<div>\n",
              "<style scoped>\n",
              "    .dataframe tbody tr th:only-of-type {\n",
              "        vertical-align: middle;\n",
              "    }\n",
              "\n",
              "    .dataframe tbody tr th {\n",
              "        vertical-align: top;\n",
              "    }\n",
              "\n",
              "    .dataframe thead th {\n",
              "        text-align: right;\n",
              "    }\n",
              "</style>\n",
              "<table border=\"1\" class=\"dataframe\">\n",
              "  <thead>\n",
              "    <tr style=\"text-align: right;\">\n",
              "      <th></th>\n",
              "      <th>Brand</th>\n",
              "      <th>Price</th>\n",
              "      <th>Body</th>\n",
              "      <th>Mileage</th>\n",
              "      <th>EngineV</th>\n",
              "      <th>Engine Type</th>\n",
              "      <th>Registration</th>\n",
              "      <th>Year</th>\n",
              "      <th>Model</th>\n",
              "    </tr>\n",
              "  </thead>\n",
              "  <tbody>\n",
              "    <tr>\n",
              "      <th>810</th>\n",
              "      <td>Mercedes-Benz</td>\n",
              "      <td>34999.00</td>\n",
              "      <td>sedan</td>\n",
              "      <td>150</td>\n",
              "      <td>2.8</td>\n",
              "      <td>Petrol</td>\n",
              "      <td>yes</td>\n",
              "      <td>1969</td>\n",
              "      <td>S 280</td>\n",
              "    </tr>\n",
              "    <tr>\n",
              "      <th>1025</th>\n",
              "      <td>Mercedes-Benz</td>\n",
              "      <td>2300.00</td>\n",
              "      <td>sedan</td>\n",
              "      <td>261</td>\n",
              "      <td>2.3</td>\n",
              "      <td>Gas</td>\n",
              "      <td>yes</td>\n",
              "      <td>1978</td>\n",
              "      <td>E-Class</td>\n",
              "    </tr>\n",
              "    <tr>\n",
              "      <th>4319</th>\n",
              "      <td>Mercedes-Benz</td>\n",
              "      <td>5500.00</td>\n",
              "      <td>sedan</td>\n",
              "      <td>440</td>\n",
              "      <td>2.0</td>\n",
              "      <td>Petrol</td>\n",
              "      <td>yes</td>\n",
              "      <td>1978</td>\n",
              "      <td>E-Class</td>\n",
              "    </tr>\n",
              "    <tr>\n",
              "      <th>288</th>\n",
              "      <td>Toyota</td>\n",
              "      <td>600.00</td>\n",
              "      <td>sedan</td>\n",
              "      <td>10</td>\n",
              "      <td>1.5</td>\n",
              "      <td>Petrol</td>\n",
              "      <td>yes</td>\n",
              "      <td>1979</td>\n",
              "      <td>Corolla</td>\n",
              "    </tr>\n",
              "    <tr>\n",
              "      <th>1896</th>\n",
              "      <td>Mercedes-Benz</td>\n",
              "      <td>1950.00</td>\n",
              "      <td>sedan</td>\n",
              "      <td>1</td>\n",
              "      <td>2.0</td>\n",
              "      <td>Diesel</td>\n",
              "      <td>yes</td>\n",
              "      <td>1979</td>\n",
              "      <td>200</td>\n",
              "    </tr>\n",
              "    <tr>\n",
              "      <th>2122</th>\n",
              "      <td>Mercedes-Benz</td>\n",
              "      <td>2990.00</td>\n",
              "      <td>sedan</td>\n",
              "      <td>300</td>\n",
              "      <td>2.8</td>\n",
              "      <td>Gas</td>\n",
              "      <td>yes</td>\n",
              "      <td>1979</td>\n",
              "      <td>S 280</td>\n",
              "    </tr>\n",
              "    <tr>\n",
              "      <th>141</th>\n",
              "      <td>Audi</td>\n",
              "      <td>600.00</td>\n",
              "      <td>sedan</td>\n",
              "      <td>112</td>\n",
              "      <td>1.6</td>\n",
              "      <td>Petrol</td>\n",
              "      <td>yes</td>\n",
              "      <td>1980</td>\n",
              "      <td>80</td>\n",
              "    </tr>\n",
              "    <tr>\n",
              "      <th>4234</th>\n",
              "      <td>Volkswagen</td>\n",
              "      <td>1296.75</td>\n",
              "      <td>sedan</td>\n",
              "      <td>1</td>\n",
              "      <td>1.6</td>\n",
              "      <td>Petrol</td>\n",
              "      <td>yes</td>\n",
              "      <td>1980</td>\n",
              "      <td>Jetta</td>\n",
              "    </tr>\n",
              "    <tr>\n",
              "      <th>3346</th>\n",
              "      <td>Mercedes-Benz</td>\n",
              "      <td>7777.00</td>\n",
              "      <td>other</td>\n",
              "      <td>230</td>\n",
              "      <td>2.8</td>\n",
              "      <td>Petrol</td>\n",
              "      <td>yes</td>\n",
              "      <td>1980</td>\n",
              "      <td>E-Class</td>\n",
              "    </tr>\n",
              "    <tr>\n",
              "      <th>3852</th>\n",
              "      <td>Volkswagen</td>\n",
              "      <td>1950.00</td>\n",
              "      <td>hatch</td>\n",
              "      <td>94</td>\n",
              "      <td>1.1</td>\n",
              "      <td>Petrol</td>\n",
              "      <td>yes</td>\n",
              "      <td>1982</td>\n",
              "      <td>Golf II</td>\n",
              "    </tr>\n",
              "  </tbody>\n",
              "</table>\n",
              "</div>"
            ],
            "text/plain": [
              "              Brand     Price   Body  ...  Registration  Year    Model\n",
              "810   Mercedes-Benz  34999.00  sedan  ...           yes  1969    S 280\n",
              "1025  Mercedes-Benz   2300.00  sedan  ...           yes  1978  E-Class\n",
              "4319  Mercedes-Benz   5500.00  sedan  ...           yes  1978  E-Class\n",
              "288          Toyota    600.00  sedan  ...           yes  1979  Corolla\n",
              "1896  Mercedes-Benz   1950.00  sedan  ...           yes  1979      200\n",
              "2122  Mercedes-Benz   2990.00  sedan  ...           yes  1979    S 280\n",
              "141            Audi    600.00  sedan  ...           yes  1980       80\n",
              "4234     Volkswagen   1296.75  sedan  ...           yes  1980    Jetta\n",
              "3346  Mercedes-Benz   7777.00  other  ...           yes  1980  E-Class\n",
              "3852     Volkswagen   1950.00  hatch  ...           yes  1982  Golf II\n",
              "\n",
              "[10 rows x 9 columns]"
            ]
          },
          "metadata": {
            "tags": []
          },
          "execution_count": 7
        }
      ]
    },
    {
      "cell_type": "markdown",
      "metadata": {
        "id": "L_kW4V1dQ-aU"
      },
      "source": [
        "#How can I sort the dataset in descending order of a column value?"
      ]
    },
    {
      "cell_type": "code",
      "metadata": {
        "id": "V0g_9LBxRNBM",
        "colab": {
          "base_uri": "https://localhost:8080/",
          "height": 195
        },
        "outputId": "c8f9f4b0-aede-4827-80eb-3a09fa7f9ad0"
      },
      "source": [
        "sorted_data= data.sort_values(by=\"Year\", ascending=False)\n",
        "sorted_data.head()"
      ],
      "execution_count": null,
      "outputs": [
        {
          "output_type": "execute_result",
          "data": {
            "text/html": [
              "<div>\n",
              "<style scoped>\n",
              "    .dataframe tbody tr th:only-of-type {\n",
              "        vertical-align: middle;\n",
              "    }\n",
              "\n",
              "    .dataframe tbody tr th {\n",
              "        vertical-align: top;\n",
              "    }\n",
              "\n",
              "    .dataframe thead th {\n",
              "        text-align: right;\n",
              "    }\n",
              "</style>\n",
              "<table border=\"1\" class=\"dataframe\">\n",
              "  <thead>\n",
              "    <tr style=\"text-align: right;\">\n",
              "      <th></th>\n",
              "      <th>Brand</th>\n",
              "      <th>Price</th>\n",
              "      <th>Body</th>\n",
              "      <th>Mileage</th>\n",
              "      <th>EngineV</th>\n",
              "      <th>Engine Type</th>\n",
              "      <th>Registration</th>\n",
              "      <th>Year</th>\n",
              "      <th>Model</th>\n",
              "    </tr>\n",
              "  </thead>\n",
              "  <tbody>\n",
              "    <tr>\n",
              "      <th>2910</th>\n",
              "      <td>Mitsubishi</td>\n",
              "      <td>40800.0</td>\n",
              "      <td>crossover</td>\n",
              "      <td>0</td>\n",
              "      <td>2.4</td>\n",
              "      <td>Diesel</td>\n",
              "      <td>yes</td>\n",
              "      <td>2016</td>\n",
              "      <td>Pajero Sport</td>\n",
              "    </tr>\n",
              "    <tr>\n",
              "      <th>2521</th>\n",
              "      <td>Toyota</td>\n",
              "      <td>195000.0</td>\n",
              "      <td>crossover</td>\n",
              "      <td>0</td>\n",
              "      <td>4.5</td>\n",
              "      <td>Diesel</td>\n",
              "      <td>yes</td>\n",
              "      <td>2016</td>\n",
              "      <td>Land Cruiser 200</td>\n",
              "    </tr>\n",
              "    <tr>\n",
              "      <th>3993</th>\n",
              "      <td>Mercedes-Benz</td>\n",
              "      <td>58999.0</td>\n",
              "      <td>crossover</td>\n",
              "      <td>0</td>\n",
              "      <td>2.2</td>\n",
              "      <td>Diesel</td>\n",
              "      <td>yes</td>\n",
              "      <td>2016</td>\n",
              "      <td>GLC-Class</td>\n",
              "    </tr>\n",
              "    <tr>\n",
              "      <th>3249</th>\n",
              "      <td>Mercedes-Benz</td>\n",
              "      <td>93555.0</td>\n",
              "      <td>crossover</td>\n",
              "      <td>0</td>\n",
              "      <td>NaN</td>\n",
              "      <td>Other</td>\n",
              "      <td>yes</td>\n",
              "      <td>2016</td>\n",
              "      <td>GLS 350</td>\n",
              "    </tr>\n",
              "    <tr>\n",
              "      <th>3992</th>\n",
              "      <td>BMW</td>\n",
              "      <td>69999.0</td>\n",
              "      <td>crossover</td>\n",
              "      <td>1</td>\n",
              "      <td>2.0</td>\n",
              "      <td>Petrol</td>\n",
              "      <td>yes</td>\n",
              "      <td>2016</td>\n",
              "      <td>X5</td>\n",
              "    </tr>\n",
              "  </tbody>\n",
              "</table>\n",
              "</div>"
            ],
            "text/plain": [
              "              Brand     Price       Body  ...  Registration  Year             Model\n",
              "2910     Mitsubishi   40800.0  crossover  ...           yes  2016      Pajero Sport\n",
              "2521         Toyota  195000.0  crossover  ...           yes  2016  Land Cruiser 200\n",
              "3993  Mercedes-Benz   58999.0  crossover  ...           yes  2016         GLC-Class\n",
              "3249  Mercedes-Benz   93555.0  crossover  ...           yes  2016           GLS 350\n",
              "3992            BMW   69999.0  crossover  ...           yes  2016                X5\n",
              "\n",
              "[5 rows x 9 columns]"
            ]
          },
          "metadata": {
            "tags": []
          },
          "execution_count": 8
        }
      ]
    },
    {
      "cell_type": "markdown",
      "metadata": {
        "id": "Y2qDHkcIY4QQ"
      },
      "source": [
        "#How can I get back the original dataset (dataset prior to sorting)?"
      ]
    },
    {
      "cell_type": "code",
      "metadata": {
        "id": "N5NWfz_DZFsW",
        "colab": {
          "base_uri": "https://localhost:8080/",
          "height": 166
        },
        "outputId": "9d43edaa-8889-4da4-c082-d7d8bdd533f2"
      },
      "source": [
        "sorted_data.sort_index(inplace=True)\n",
        "sorted_data[1:5]"
      ],
      "execution_count": null,
      "outputs": [
        {
          "output_type": "execute_result",
          "data": {
            "text/html": [
              "<div>\n",
              "<style scoped>\n",
              "    .dataframe tbody tr th:only-of-type {\n",
              "        vertical-align: middle;\n",
              "    }\n",
              "\n",
              "    .dataframe tbody tr th {\n",
              "        vertical-align: top;\n",
              "    }\n",
              "\n",
              "    .dataframe thead th {\n",
              "        text-align: right;\n",
              "    }\n",
              "</style>\n",
              "<table border=\"1\" class=\"dataframe\">\n",
              "  <thead>\n",
              "    <tr style=\"text-align: right;\">\n",
              "      <th></th>\n",
              "      <th>Brand</th>\n",
              "      <th>Price</th>\n",
              "      <th>Body</th>\n",
              "      <th>Mileage</th>\n",
              "      <th>EngineV</th>\n",
              "      <th>Engine Type</th>\n",
              "      <th>Registration</th>\n",
              "      <th>Year</th>\n",
              "      <th>Model</th>\n",
              "    </tr>\n",
              "  </thead>\n",
              "  <tbody>\n",
              "    <tr>\n",
              "      <th>1</th>\n",
              "      <td>Mercedes-Benz</td>\n",
              "      <td>7900.0</td>\n",
              "      <td>van</td>\n",
              "      <td>427</td>\n",
              "      <td>2.9</td>\n",
              "      <td>Diesel</td>\n",
              "      <td>yes</td>\n",
              "      <td>1999</td>\n",
              "      <td>Sprinter 212</td>\n",
              "    </tr>\n",
              "    <tr>\n",
              "      <th>2</th>\n",
              "      <td>Mercedes-Benz</td>\n",
              "      <td>13300.0</td>\n",
              "      <td>sedan</td>\n",
              "      <td>358</td>\n",
              "      <td>5.0</td>\n",
              "      <td>Gas</td>\n",
              "      <td>yes</td>\n",
              "      <td>2003</td>\n",
              "      <td>S 500</td>\n",
              "    </tr>\n",
              "    <tr>\n",
              "      <th>3</th>\n",
              "      <td>Audi</td>\n",
              "      <td>23000.0</td>\n",
              "      <td>crossover</td>\n",
              "      <td>240</td>\n",
              "      <td>4.2</td>\n",
              "      <td>Petrol</td>\n",
              "      <td>yes</td>\n",
              "      <td>2007</td>\n",
              "      <td>Q7</td>\n",
              "    </tr>\n",
              "    <tr>\n",
              "      <th>4</th>\n",
              "      <td>Toyota</td>\n",
              "      <td>18300.0</td>\n",
              "      <td>crossover</td>\n",
              "      <td>120</td>\n",
              "      <td>2.0</td>\n",
              "      <td>Petrol</td>\n",
              "      <td>yes</td>\n",
              "      <td>2011</td>\n",
              "      <td>Rav 4</td>\n",
              "    </tr>\n",
              "  </tbody>\n",
              "</table>\n",
              "</div>"
            ],
            "text/plain": [
              "           Brand    Price       Body  ...  Registration  Year         Model\n",
              "1  Mercedes-Benz   7900.0        van  ...           yes  1999  Sprinter 212\n",
              "2  Mercedes-Benz  13300.0      sedan  ...           yes  2003         S 500\n",
              "3           Audi  23000.0  crossover  ...           yes  2007            Q7\n",
              "4         Toyota  18300.0  crossover  ...           yes  2011         Rav 4\n",
              "\n",
              "[4 rows x 9 columns]"
            ]
          },
          "metadata": {
            "tags": []
          },
          "execution_count": 9
        }
      ]
    },
    {
      "cell_type": "markdown",
      "metadata": {
        "id": "tDy7hB18826C"
      },
      "source": [
        "#Which brands of cars are in my Dataset?"
      ]
    },
    {
      "cell_type": "code",
      "metadata": {
        "id": "_E4BI6mu9Av2",
        "colab": {
          "base_uri": "https://localhost:8080/"
        },
        "outputId": "f36b87f4-f40b-4b3b-faa2-e28574c7621f"
      },
      "source": [
        "data['Brand'].unique()"
      ],
      "execution_count": null,
      "outputs": [
        {
          "output_type": "execute_result",
          "data": {
            "text/plain": [
              "array(['BMW', 'Mercedes-Benz', 'Audi', 'Toyota', 'Renault', 'Volkswagen',\n",
              "       'Mitsubishi'], dtype=object)"
            ]
          },
          "metadata": {
            "tags": []
          },
          "execution_count": 10
        }
      ]
    },
    {
      "cell_type": "markdown",
      "metadata": {
        "id": "J4wDDt_s9Pvz"
      },
      "source": [
        "#How do I select top 15 rows from the Dataset?"
      ]
    },
    {
      "cell_type": "code",
      "metadata": {
        "id": "xoqMe2hd9dp3",
        "colab": {
          "base_uri": "https://localhost:8080/",
          "height": 491
        },
        "outputId": "a3630cd7-8a14-482c-fbe7-1155b9a9c875"
      },
      "source": [
        "data.head(15)"
      ],
      "execution_count": null,
      "outputs": [
        {
          "output_type": "execute_result",
          "data": {
            "text/html": [
              "<div>\n",
              "<style scoped>\n",
              "    .dataframe tbody tr th:only-of-type {\n",
              "        vertical-align: middle;\n",
              "    }\n",
              "\n",
              "    .dataframe tbody tr th {\n",
              "        vertical-align: top;\n",
              "    }\n",
              "\n",
              "    .dataframe thead th {\n",
              "        text-align: right;\n",
              "    }\n",
              "</style>\n",
              "<table border=\"1\" class=\"dataframe\">\n",
              "  <thead>\n",
              "    <tr style=\"text-align: right;\">\n",
              "      <th></th>\n",
              "      <th>Brand</th>\n",
              "      <th>Price</th>\n",
              "      <th>Body</th>\n",
              "      <th>Mileage</th>\n",
              "      <th>EngineV</th>\n",
              "      <th>Engine Type</th>\n",
              "      <th>Registration</th>\n",
              "      <th>Year</th>\n",
              "      <th>Model</th>\n",
              "    </tr>\n",
              "  </thead>\n",
              "  <tbody>\n",
              "    <tr>\n",
              "      <th>0</th>\n",
              "      <td>BMW</td>\n",
              "      <td>4200.0</td>\n",
              "      <td>sedan</td>\n",
              "      <td>277</td>\n",
              "      <td>2.00</td>\n",
              "      <td>Petrol</td>\n",
              "      <td>yes</td>\n",
              "      <td>1991</td>\n",
              "      <td>320</td>\n",
              "    </tr>\n",
              "    <tr>\n",
              "      <th>1</th>\n",
              "      <td>Mercedes-Benz</td>\n",
              "      <td>7900.0</td>\n",
              "      <td>van</td>\n",
              "      <td>427</td>\n",
              "      <td>2.90</td>\n",
              "      <td>Diesel</td>\n",
              "      <td>yes</td>\n",
              "      <td>1999</td>\n",
              "      <td>Sprinter 212</td>\n",
              "    </tr>\n",
              "    <tr>\n",
              "      <th>2</th>\n",
              "      <td>Mercedes-Benz</td>\n",
              "      <td>13300.0</td>\n",
              "      <td>sedan</td>\n",
              "      <td>358</td>\n",
              "      <td>5.00</td>\n",
              "      <td>Gas</td>\n",
              "      <td>yes</td>\n",
              "      <td>2003</td>\n",
              "      <td>S 500</td>\n",
              "    </tr>\n",
              "    <tr>\n",
              "      <th>3</th>\n",
              "      <td>Audi</td>\n",
              "      <td>23000.0</td>\n",
              "      <td>crossover</td>\n",
              "      <td>240</td>\n",
              "      <td>4.20</td>\n",
              "      <td>Petrol</td>\n",
              "      <td>yes</td>\n",
              "      <td>2007</td>\n",
              "      <td>Q7</td>\n",
              "    </tr>\n",
              "    <tr>\n",
              "      <th>4</th>\n",
              "      <td>Toyota</td>\n",
              "      <td>18300.0</td>\n",
              "      <td>crossover</td>\n",
              "      <td>120</td>\n",
              "      <td>2.00</td>\n",
              "      <td>Petrol</td>\n",
              "      <td>yes</td>\n",
              "      <td>2011</td>\n",
              "      <td>Rav 4</td>\n",
              "    </tr>\n",
              "    <tr>\n",
              "      <th>5</th>\n",
              "      <td>Mercedes-Benz</td>\n",
              "      <td>199999.0</td>\n",
              "      <td>crossover</td>\n",
              "      <td>0</td>\n",
              "      <td>5.50</td>\n",
              "      <td>Petrol</td>\n",
              "      <td>yes</td>\n",
              "      <td>2016</td>\n",
              "      <td>GLS 63</td>\n",
              "    </tr>\n",
              "    <tr>\n",
              "      <th>6</th>\n",
              "      <td>BMW</td>\n",
              "      <td>6100.0</td>\n",
              "      <td>sedan</td>\n",
              "      <td>438</td>\n",
              "      <td>2.00</td>\n",
              "      <td>Gas</td>\n",
              "      <td>yes</td>\n",
              "      <td>1997</td>\n",
              "      <td>320</td>\n",
              "    </tr>\n",
              "    <tr>\n",
              "      <th>7</th>\n",
              "      <td>Audi</td>\n",
              "      <td>14200.0</td>\n",
              "      <td>vagon</td>\n",
              "      <td>200</td>\n",
              "      <td>2.70</td>\n",
              "      <td>Diesel</td>\n",
              "      <td>yes</td>\n",
              "      <td>2006</td>\n",
              "      <td>A6</td>\n",
              "    </tr>\n",
              "    <tr>\n",
              "      <th>8</th>\n",
              "      <td>Renault</td>\n",
              "      <td>10799.0</td>\n",
              "      <td>vagon</td>\n",
              "      <td>193</td>\n",
              "      <td>1.50</td>\n",
              "      <td>Diesel</td>\n",
              "      <td>yes</td>\n",
              "      <td>2012</td>\n",
              "      <td>Megane</td>\n",
              "    </tr>\n",
              "    <tr>\n",
              "      <th>9</th>\n",
              "      <td>Volkswagen</td>\n",
              "      <td>1400.0</td>\n",
              "      <td>other</td>\n",
              "      <td>212</td>\n",
              "      <td>1.80</td>\n",
              "      <td>Gas</td>\n",
              "      <td>no</td>\n",
              "      <td>1999</td>\n",
              "      <td>Golf IV</td>\n",
              "    </tr>\n",
              "    <tr>\n",
              "      <th>10</th>\n",
              "      <td>Renault</td>\n",
              "      <td>11950.0</td>\n",
              "      <td>vagon</td>\n",
              "      <td>177</td>\n",
              "      <td>1.50</td>\n",
              "      <td>Diesel</td>\n",
              "      <td>yes</td>\n",
              "      <td>2011</td>\n",
              "      <td>Megane</td>\n",
              "    </tr>\n",
              "    <tr>\n",
              "      <th>11</th>\n",
              "      <td>Renault</td>\n",
              "      <td>2500.0</td>\n",
              "      <td>sedan</td>\n",
              "      <td>260</td>\n",
              "      <td>1.79</td>\n",
              "      <td>Petrol</td>\n",
              "      <td>yes</td>\n",
              "      <td>1994</td>\n",
              "      <td>19</td>\n",
              "    </tr>\n",
              "    <tr>\n",
              "      <th>12</th>\n",
              "      <td>Audi</td>\n",
              "      <td>9500.0</td>\n",
              "      <td>vagon</td>\n",
              "      <td>165</td>\n",
              "      <td>2.70</td>\n",
              "      <td>Gas</td>\n",
              "      <td>yes</td>\n",
              "      <td>2003</td>\n",
              "      <td>A6 Allroad</td>\n",
              "    </tr>\n",
              "    <tr>\n",
              "      <th>13</th>\n",
              "      <td>Volkswagen</td>\n",
              "      <td>10500.0</td>\n",
              "      <td>sedan</td>\n",
              "      <td>100</td>\n",
              "      <td>1.80</td>\n",
              "      <td>Petrol</td>\n",
              "      <td>yes</td>\n",
              "      <td>2008</td>\n",
              "      <td>Passat B6</td>\n",
              "    </tr>\n",
              "    <tr>\n",
              "      <th>14</th>\n",
              "      <td>Toyota</td>\n",
              "      <td>16000.0</td>\n",
              "      <td>crossover</td>\n",
              "      <td>250</td>\n",
              "      <td>4.70</td>\n",
              "      <td>Gas</td>\n",
              "      <td>yes</td>\n",
              "      <td>2001</td>\n",
              "      <td>Land Cruiser 100</td>\n",
              "    </tr>\n",
              "  </tbody>\n",
              "</table>\n",
              "</div>"
            ],
            "text/plain": [
              "            Brand     Price       Body  ...  Registration  Year             Model\n",
              "0             BMW    4200.0      sedan  ...           yes  1991               320\n",
              "1   Mercedes-Benz    7900.0        van  ...           yes  1999      Sprinter 212\n",
              "2   Mercedes-Benz   13300.0      sedan  ...           yes  2003             S 500\n",
              "3            Audi   23000.0  crossover  ...           yes  2007                Q7\n",
              "4          Toyota   18300.0  crossover  ...           yes  2011             Rav 4\n",
              "5   Mercedes-Benz  199999.0  crossover  ...           yes  2016            GLS 63\n",
              "6             BMW    6100.0      sedan  ...           yes  1997               320\n",
              "7            Audi   14200.0      vagon  ...           yes  2006                A6\n",
              "8         Renault   10799.0      vagon  ...           yes  2012            Megane\n",
              "9      Volkswagen    1400.0      other  ...            no  1999           Golf IV\n",
              "10        Renault   11950.0      vagon  ...           yes  2011            Megane\n",
              "11        Renault    2500.0      sedan  ...           yes  1994                19\n",
              "12           Audi    9500.0      vagon  ...           yes  2003        A6 Allroad\n",
              "13     Volkswagen   10500.0      sedan  ...           yes  2008         Passat B6\n",
              "14         Toyota   16000.0  crossover  ...           yes  2001  Land Cruiser 100\n",
              "\n",
              "[15 rows x 9 columns]"
            ]
          },
          "metadata": {
            "tags": []
          },
          "execution_count": 13
        }
      ]
    },
    {
      "cell_type": "code",
      "metadata": {
        "colab": {
          "base_uri": "https://localhost:8080/",
          "height": 491
        },
        "id": "7ZGzcoFBk3Bd",
        "outputId": "8c1c8c7b-6626-4729-f335-1d6875b228df"
      },
      "source": [
        "data[:15]"
      ],
      "execution_count": null,
      "outputs": [
        {
          "output_type": "execute_result",
          "data": {
            "text/html": [
              "<div>\n",
              "<style scoped>\n",
              "    .dataframe tbody tr th:only-of-type {\n",
              "        vertical-align: middle;\n",
              "    }\n",
              "\n",
              "    .dataframe tbody tr th {\n",
              "        vertical-align: top;\n",
              "    }\n",
              "\n",
              "    .dataframe thead th {\n",
              "        text-align: right;\n",
              "    }\n",
              "</style>\n",
              "<table border=\"1\" class=\"dataframe\">\n",
              "  <thead>\n",
              "    <tr style=\"text-align: right;\">\n",
              "      <th></th>\n",
              "      <th>Brand</th>\n",
              "      <th>Price</th>\n",
              "      <th>Body</th>\n",
              "      <th>Mileage</th>\n",
              "      <th>EngineV</th>\n",
              "      <th>Engine Type</th>\n",
              "      <th>Registration</th>\n",
              "      <th>Year</th>\n",
              "      <th>Model</th>\n",
              "    </tr>\n",
              "  </thead>\n",
              "  <tbody>\n",
              "    <tr>\n",
              "      <th>0</th>\n",
              "      <td>BMW</td>\n",
              "      <td>4200.0</td>\n",
              "      <td>sedan</td>\n",
              "      <td>277</td>\n",
              "      <td>2.00</td>\n",
              "      <td>Petrol</td>\n",
              "      <td>yes</td>\n",
              "      <td>1991</td>\n",
              "      <td>320</td>\n",
              "    </tr>\n",
              "    <tr>\n",
              "      <th>1</th>\n",
              "      <td>Mercedes-Benz</td>\n",
              "      <td>7900.0</td>\n",
              "      <td>van</td>\n",
              "      <td>427</td>\n",
              "      <td>2.90</td>\n",
              "      <td>Diesel</td>\n",
              "      <td>yes</td>\n",
              "      <td>1999</td>\n",
              "      <td>Sprinter 212</td>\n",
              "    </tr>\n",
              "    <tr>\n",
              "      <th>2</th>\n",
              "      <td>Mercedes-Benz</td>\n",
              "      <td>13300.0</td>\n",
              "      <td>sedan</td>\n",
              "      <td>358</td>\n",
              "      <td>5.00</td>\n",
              "      <td>Gas</td>\n",
              "      <td>yes</td>\n",
              "      <td>2003</td>\n",
              "      <td>S 500</td>\n",
              "    </tr>\n",
              "    <tr>\n",
              "      <th>3</th>\n",
              "      <td>Audi</td>\n",
              "      <td>23000.0</td>\n",
              "      <td>crossover</td>\n",
              "      <td>240</td>\n",
              "      <td>4.20</td>\n",
              "      <td>Petrol</td>\n",
              "      <td>yes</td>\n",
              "      <td>2007</td>\n",
              "      <td>Q7</td>\n",
              "    </tr>\n",
              "    <tr>\n",
              "      <th>4</th>\n",
              "      <td>Toyota</td>\n",
              "      <td>18300.0</td>\n",
              "      <td>crossover</td>\n",
              "      <td>120</td>\n",
              "      <td>2.00</td>\n",
              "      <td>Petrol</td>\n",
              "      <td>yes</td>\n",
              "      <td>2011</td>\n",
              "      <td>Rav 4</td>\n",
              "    </tr>\n",
              "    <tr>\n",
              "      <th>5</th>\n",
              "      <td>Mercedes-Benz</td>\n",
              "      <td>199999.0</td>\n",
              "      <td>crossover</td>\n",
              "      <td>0</td>\n",
              "      <td>5.50</td>\n",
              "      <td>Petrol</td>\n",
              "      <td>yes</td>\n",
              "      <td>2016</td>\n",
              "      <td>GLS 63</td>\n",
              "    </tr>\n",
              "    <tr>\n",
              "      <th>6</th>\n",
              "      <td>BMW</td>\n",
              "      <td>6100.0</td>\n",
              "      <td>sedan</td>\n",
              "      <td>438</td>\n",
              "      <td>2.00</td>\n",
              "      <td>Gas</td>\n",
              "      <td>yes</td>\n",
              "      <td>1997</td>\n",
              "      <td>320</td>\n",
              "    </tr>\n",
              "    <tr>\n",
              "      <th>7</th>\n",
              "      <td>Audi</td>\n",
              "      <td>14200.0</td>\n",
              "      <td>vagon</td>\n",
              "      <td>200</td>\n",
              "      <td>2.70</td>\n",
              "      <td>Diesel</td>\n",
              "      <td>yes</td>\n",
              "      <td>2006</td>\n",
              "      <td>A6</td>\n",
              "    </tr>\n",
              "    <tr>\n",
              "      <th>8</th>\n",
              "      <td>Renault</td>\n",
              "      <td>10799.0</td>\n",
              "      <td>vagon</td>\n",
              "      <td>193</td>\n",
              "      <td>1.50</td>\n",
              "      <td>Diesel</td>\n",
              "      <td>yes</td>\n",
              "      <td>2012</td>\n",
              "      <td>Megane</td>\n",
              "    </tr>\n",
              "    <tr>\n",
              "      <th>9</th>\n",
              "      <td>Volkswagen</td>\n",
              "      <td>1400.0</td>\n",
              "      <td>other</td>\n",
              "      <td>212</td>\n",
              "      <td>1.80</td>\n",
              "      <td>Gas</td>\n",
              "      <td>no</td>\n",
              "      <td>1999</td>\n",
              "      <td>Golf IV</td>\n",
              "    </tr>\n",
              "    <tr>\n",
              "      <th>10</th>\n",
              "      <td>Renault</td>\n",
              "      <td>11950.0</td>\n",
              "      <td>vagon</td>\n",
              "      <td>177</td>\n",
              "      <td>1.50</td>\n",
              "      <td>Diesel</td>\n",
              "      <td>yes</td>\n",
              "      <td>2011</td>\n",
              "      <td>Megane</td>\n",
              "    </tr>\n",
              "    <tr>\n",
              "      <th>11</th>\n",
              "      <td>Renault</td>\n",
              "      <td>2500.0</td>\n",
              "      <td>sedan</td>\n",
              "      <td>260</td>\n",
              "      <td>1.79</td>\n",
              "      <td>Petrol</td>\n",
              "      <td>yes</td>\n",
              "      <td>1994</td>\n",
              "      <td>19</td>\n",
              "    </tr>\n",
              "    <tr>\n",
              "      <th>12</th>\n",
              "      <td>Audi</td>\n",
              "      <td>9500.0</td>\n",
              "      <td>vagon</td>\n",
              "      <td>165</td>\n",
              "      <td>2.70</td>\n",
              "      <td>Gas</td>\n",
              "      <td>yes</td>\n",
              "      <td>2003</td>\n",
              "      <td>A6 Allroad</td>\n",
              "    </tr>\n",
              "    <tr>\n",
              "      <th>13</th>\n",
              "      <td>Volkswagen</td>\n",
              "      <td>10500.0</td>\n",
              "      <td>sedan</td>\n",
              "      <td>100</td>\n",
              "      <td>1.80</td>\n",
              "      <td>Petrol</td>\n",
              "      <td>yes</td>\n",
              "      <td>2008</td>\n",
              "      <td>Passat B6</td>\n",
              "    </tr>\n",
              "    <tr>\n",
              "      <th>14</th>\n",
              "      <td>Toyota</td>\n",
              "      <td>16000.0</td>\n",
              "      <td>crossover</td>\n",
              "      <td>250</td>\n",
              "      <td>4.70</td>\n",
              "      <td>Gas</td>\n",
              "      <td>yes</td>\n",
              "      <td>2001</td>\n",
              "      <td>Land Cruiser 100</td>\n",
              "    </tr>\n",
              "  </tbody>\n",
              "</table>\n",
              "</div>"
            ],
            "text/plain": [
              "            Brand     Price       Body  ...  Registration  Year             Model\n",
              "0             BMW    4200.0      sedan  ...           yes  1991               320\n",
              "1   Mercedes-Benz    7900.0        van  ...           yes  1999      Sprinter 212\n",
              "2   Mercedes-Benz   13300.0      sedan  ...           yes  2003             S 500\n",
              "3            Audi   23000.0  crossover  ...           yes  2007                Q7\n",
              "4          Toyota   18300.0  crossover  ...           yes  2011             Rav 4\n",
              "5   Mercedes-Benz  199999.0  crossover  ...           yes  2016            GLS 63\n",
              "6             BMW    6100.0      sedan  ...           yes  1997               320\n",
              "7            Audi   14200.0      vagon  ...           yes  2006                A6\n",
              "8         Renault   10799.0      vagon  ...           yes  2012            Megane\n",
              "9      Volkswagen    1400.0      other  ...            no  1999           Golf IV\n",
              "10        Renault   11950.0      vagon  ...           yes  2011            Megane\n",
              "11        Renault    2500.0      sedan  ...           yes  1994                19\n",
              "12           Audi    9500.0      vagon  ...           yes  2003        A6 Allroad\n",
              "13     Volkswagen   10500.0      sedan  ...           yes  2008         Passat B6\n",
              "14         Toyota   16000.0  crossover  ...           yes  2001  Land Cruiser 100\n",
              "\n",
              "[15 rows x 9 columns]"
            ]
          },
          "metadata": {
            "tags": []
          },
          "execution_count": 14
        }
      ]
    },
    {
      "cell_type": "markdown",
      "metadata": {
        "id": "7abHS_-a_Mo3"
      },
      "source": [
        "#What is the average price?"
      ]
    },
    {
      "cell_type": "code",
      "metadata": {
        "id": "lrluzVgn_PBG",
        "colab": {
          "base_uri": "https://localhost:8080/"
        },
        "outputId": "6758abaa-89f6-4847-cb29-28e33ac73103"
      },
      "source": [
        "data['Price'].mean()"
      ],
      "execution_count": null,
      "outputs": [
        {
          "output_type": "execute_result",
          "data": {
            "text/plain": [
              "19418.74693505871"
            ]
          },
          "metadata": {
            "tags": []
          },
          "execution_count": 16
        }
      ]
    },
    {
      "cell_type": "markdown",
      "metadata": {
        "id": "SvUPEqYYVlfB"
      },
      "source": [
        "#How do I find the median of price?"
      ]
    },
    {
      "cell_type": "code",
      "metadata": {
        "id": "6vr-Ssf_VxC1",
        "colab": {
          "base_uri": "https://localhost:8080/"
        },
        "outputId": "ca27ae5b-2e3e-498f-8693-4894746f3b62"
      },
      "source": [
        "data['Price'].median()"
      ],
      "execution_count": null,
      "outputs": [
        {
          "output_type": "execute_result",
          "data": {
            "text/plain": [
              "11500.0"
            ]
          },
          "metadata": {
            "tags": []
          },
          "execution_count": 17
        }
      ]
    },
    {
      "cell_type": "markdown",
      "metadata": {
        "id": "6PdSluDMWFdm"
      },
      "source": [
        "#Which is the most common Brand in the dataset?"
      ]
    },
    {
      "cell_type": "code",
      "metadata": {
        "id": "pBCu2xEqV88_",
        "colab": {
          "base_uri": "https://localhost:8080/"
        },
        "outputId": "70de800f-63fe-4907-b29f-6527521b8f18"
      },
      "source": [
        "data['Brand'].mode()"
      ],
      "execution_count": null,
      "outputs": [
        {
          "output_type": "execute_result",
          "data": {
            "text/plain": [
              "0    Volkswagen\n",
              "dtype: object"
            ]
          },
          "metadata": {
            "tags": []
          },
          "execution_count": 18
        }
      ]
    },
    {
      "cell_type": "markdown",
      "metadata": {
        "id": "pP54-jujYd3D"
      },
      "source": [
        "#How do I list only one column eg. 'Brand'?"
      ]
    },
    {
      "cell_type": "code",
      "metadata": {
        "id": "D1d1ca-cWU4d",
        "colab": {
          "base_uri": "https://localhost:8080/"
        },
        "outputId": "2600ec18-c2c8-4c36-ada9-6849be0875db"
      },
      "source": [
        "data['Brand']"
      ],
      "execution_count": null,
      "outputs": [
        {
          "output_type": "execute_result",
          "data": {
            "text/plain": [
              "0                 BMW\n",
              "1       Mercedes-Benz\n",
              "2       Mercedes-Benz\n",
              "3                Audi\n",
              "4              Toyota\n",
              "            ...      \n",
              "4340    Mercedes-Benz\n",
              "4341              BMW\n",
              "4342              BMW\n",
              "4343           Toyota\n",
              "4344       Volkswagen\n",
              "Name: Brand, Length: 4345, dtype: object"
            ]
          },
          "metadata": {
            "tags": []
          },
          "execution_count": 19
        }
      ]
    },
    {
      "cell_type": "markdown",
      "metadata": {
        "id": "k8gAseBAZnoB"
      },
      "source": [
        "#How do I list multiple columns of the dataset?"
      ]
    },
    {
      "cell_type": "code",
      "metadata": {
        "id": "BchHi5RNYqt2",
        "colab": {
          "base_uri": "https://localhost:8080/",
          "height": 402
        },
        "outputId": "7064d509-d505-4826-df84-7e8345ed298a"
      },
      "source": [
        "data[['Brand','Year']]"
      ],
      "execution_count": null,
      "outputs": [
        {
          "output_type": "execute_result",
          "data": {
            "text/html": [
              "<div>\n",
              "<style scoped>\n",
              "    .dataframe tbody tr th:only-of-type {\n",
              "        vertical-align: middle;\n",
              "    }\n",
              "\n",
              "    .dataframe tbody tr th {\n",
              "        vertical-align: top;\n",
              "    }\n",
              "\n",
              "    .dataframe thead th {\n",
              "        text-align: right;\n",
              "    }\n",
              "</style>\n",
              "<table border=\"1\" class=\"dataframe\">\n",
              "  <thead>\n",
              "    <tr style=\"text-align: right;\">\n",
              "      <th></th>\n",
              "      <th>Brand</th>\n",
              "      <th>Year</th>\n",
              "    </tr>\n",
              "  </thead>\n",
              "  <tbody>\n",
              "    <tr>\n",
              "      <th>0</th>\n",
              "      <td>BMW</td>\n",
              "      <td>1991</td>\n",
              "    </tr>\n",
              "    <tr>\n",
              "      <th>1</th>\n",
              "      <td>Mercedes-Benz</td>\n",
              "      <td>1999</td>\n",
              "    </tr>\n",
              "    <tr>\n",
              "      <th>2</th>\n",
              "      <td>Mercedes-Benz</td>\n",
              "      <td>2003</td>\n",
              "    </tr>\n",
              "    <tr>\n",
              "      <th>3</th>\n",
              "      <td>Audi</td>\n",
              "      <td>2007</td>\n",
              "    </tr>\n",
              "    <tr>\n",
              "      <th>4</th>\n",
              "      <td>Toyota</td>\n",
              "      <td>2011</td>\n",
              "    </tr>\n",
              "    <tr>\n",
              "      <th>...</th>\n",
              "      <td>...</td>\n",
              "      <td>...</td>\n",
              "    </tr>\n",
              "    <tr>\n",
              "      <th>4340</th>\n",
              "      <td>Mercedes-Benz</td>\n",
              "      <td>2014</td>\n",
              "    </tr>\n",
              "    <tr>\n",
              "      <th>4341</th>\n",
              "      <td>BMW</td>\n",
              "      <td>1999</td>\n",
              "    </tr>\n",
              "    <tr>\n",
              "      <th>4342</th>\n",
              "      <td>BMW</td>\n",
              "      <td>1985</td>\n",
              "    </tr>\n",
              "    <tr>\n",
              "      <th>4343</th>\n",
              "      <td>Toyota</td>\n",
              "      <td>2014</td>\n",
              "    </tr>\n",
              "    <tr>\n",
              "      <th>4344</th>\n",
              "      <td>Volkswagen</td>\n",
              "      <td>2013</td>\n",
              "    </tr>\n",
              "  </tbody>\n",
              "</table>\n",
              "<p>4345 rows × 2 columns</p>\n",
              "</div>"
            ],
            "text/plain": [
              "              Brand  Year\n",
              "0               BMW  1991\n",
              "1     Mercedes-Benz  1999\n",
              "2     Mercedes-Benz  2003\n",
              "3              Audi  2007\n",
              "4            Toyota  2011\n",
              "...             ...   ...\n",
              "4340  Mercedes-Benz  2014\n",
              "4341            BMW  1999\n",
              "4342            BMW  1985\n",
              "4343         Toyota  2014\n",
              "4344     Volkswagen  2013\n",
              "\n",
              "[4345 rows x 2 columns]"
            ]
          },
          "metadata": {
            "tags": []
          },
          "execution_count": 20
        }
      ]
    },
    {
      "cell_type": "markdown",
      "metadata": {
        "id": "tJ9l_PlpaEV0"
      },
      "source": [
        "#Which year of manufacture is most common in the dataset?"
      ]
    },
    {
      "cell_type": "code",
      "metadata": {
        "id": "TCk0Po1SaPSM",
        "colab": {
          "base_uri": "https://localhost:8080/"
        },
        "outputId": "8d905768-1b2c-495c-dd6f-854042001ae6"
      },
      "source": [
        "data['Year'].mode()"
      ],
      "execution_count": null,
      "outputs": [
        {
          "output_type": "execute_result",
          "data": {
            "text/plain": [
              "0    2008\n",
              "dtype: int64"
            ]
          },
          "metadata": {
            "tags": []
          },
          "execution_count": 21
        }
      ]
    },
    {
      "cell_type": "markdown",
      "metadata": {
        "id": "JE6WBg_QhZlX"
      },
      "source": [
        "#How many cars have year of manufacture as 2008?"
      ]
    },
    {
      "cell_type": "code",
      "metadata": {
        "id": "_DhaYUQ7bNN9",
        "colab": {
          "base_uri": "https://localhost:8080/"
        },
        "outputId": "50b4ee98-8033-484c-83f6-0c63eb894be5"
      },
      "source": [
        "c=0\n",
        "for i in range(0,len(data)):\n",
        "  if(data['Year'][i]==2008):\n",
        "    c=c+1\n",
        "print(\"No. of cars in 2008=\"+str(c))\n"
      ],
      "execution_count": null,
      "outputs": [
        {
          "output_type": "stream",
          "text": [
            "No. of cars in 2008=419\n"
          ],
          "name": "stdout"
        }
      ]
    },
    {
      "cell_type": "markdown",
      "metadata": {
        "id": "6FaIsGa6hrth"
      },
      "source": [
        "#How many cars have year of manufacture between 2008 and 2012 (both years inclusive)?"
      ]
    },
    {
      "cell_type": "code",
      "metadata": {
        "id": "H-Q5AsH7h4Dv",
        "colab": {
          "base_uri": "https://localhost:8080/"
        },
        "outputId": "3391739b-0994-48e8-ccc7-e95208293dc6"
      },
      "source": [
        "c=0\n",
        "for i in range(0,len(data)):\n",
        "  if(data['Year'][i]>=2008 and data['Year'][i]<=2012):\n",
        "    c=c+1\n",
        "print(\"Number of cars having year of manufacture between 2008 and 2012 (both years inclusive) is \"+str(c))\n"
      ],
      "execution_count": null,
      "outputs": [
        {
          "output_type": "stream",
          "text": [
            "Number of cars having year of manufacture between 2008 and 2012 (both years inclusive) is 1404\n"
          ],
          "name": "stdout"
        }
      ]
    },
    {
      "cell_type": "markdown",
      "metadata": {
        "id": "BaF3oxnNifBn"
      },
      "source": [
        "#How many cars have Engine Type as Petrol?"
      ]
    },
    {
      "cell_type": "code",
      "metadata": {
        "id": "XDV-VF9ViNIx",
        "colab": {
          "base_uri": "https://localhost:8080/"
        },
        "outputId": "7371068b-46cf-4d0c-d1bc-37f81f0283c5"
      },
      "source": [
        "c=0\n",
        "for i in range(0,len(data)):\n",
        "  if(data['Engine Type'][i]=='Petrol'):\n",
        "    c=c+1\n",
        "print(\"Number of cars having Engine Type as Petrol is \"+str(c))"
      ],
      "execution_count": null,
      "outputs": [
        {
          "output_type": "stream",
          "text": [
            "Number of cars having Engine Type as Petrol is 1559\n"
          ],
          "name": "stdout"
        }
      ]
    },
    {
      "cell_type": "markdown",
      "metadata": {
        "id": "EGbSJmVTi81R"
      },
      "source": [
        "#What is the average mileage of all cars in the dataset?"
      ]
    },
    {
      "cell_type": "code",
      "metadata": {
        "id": "m9qtnpcfjGGk",
        "colab": {
          "base_uri": "https://localhost:8080/",
          "height": 34
        },
        "outputId": "502376c5-6392-46a4-e1e7-905ae9fc6b1f"
      },
      "source": [
        "data['Mileage'].mean()"
      ],
      "execution_count": null,
      "outputs": [
        {
          "output_type": "execute_result",
          "data": {
            "text/plain": [
              "161.2372842347526"
            ]
          },
          "metadata": {
            "tags": []
          },
          "execution_count": 11
        }
      ]
    },
    {
      "cell_type": "markdown",
      "metadata": {
        "id": "LphK8-Iljb1Q"
      },
      "source": [
        "#How can I list data of even rows in the dataset?"
      ]
    },
    {
      "cell_type": "code",
      "metadata": {
        "id": "PtKLUOJ5jWId",
        "colab": {
          "base_uri": "https://localhost:8080/",
          "height": 524
        },
        "outputId": "07d31f18-224c-4780-c2a6-d29cde6126bf"
      },
      "source": [
        "data[::2]"
      ],
      "execution_count": null,
      "outputs": [
        {
          "output_type": "execute_result",
          "data": {
            "text/html": [
              "<div>\n",
              "<style scoped>\n",
              "    .dataframe tbody tr th:only-of-type {\n",
              "        vertical-align: middle;\n",
              "    }\n",
              "\n",
              "    .dataframe tbody tr th {\n",
              "        vertical-align: top;\n",
              "    }\n",
              "\n",
              "    .dataframe thead th {\n",
              "        text-align: right;\n",
              "    }\n",
              "</style>\n",
              "<table border=\"1\" class=\"dataframe\">\n",
              "  <thead>\n",
              "    <tr style=\"text-align: right;\">\n",
              "      <th></th>\n",
              "      <th>Brand</th>\n",
              "      <th>Price</th>\n",
              "      <th>Body</th>\n",
              "      <th>Mileage</th>\n",
              "      <th>EngineV</th>\n",
              "      <th>Engine Type</th>\n",
              "      <th>Registration</th>\n",
              "      <th>Year</th>\n",
              "      <th>Model</th>\n",
              "    </tr>\n",
              "  </thead>\n",
              "  <tbody>\n",
              "    <tr>\n",
              "      <th>0</th>\n",
              "      <td>BMW</td>\n",
              "      <td>4200.0</td>\n",
              "      <td>sedan</td>\n",
              "      <td>277</td>\n",
              "      <td>2.0</td>\n",
              "      <td>Petrol</td>\n",
              "      <td>yes</td>\n",
              "      <td>1991</td>\n",
              "      <td>320</td>\n",
              "    </tr>\n",
              "    <tr>\n",
              "      <th>2</th>\n",
              "      <td>Mercedes-Benz</td>\n",
              "      <td>13300.0</td>\n",
              "      <td>sedan</td>\n",
              "      <td>358</td>\n",
              "      <td>5.0</td>\n",
              "      <td>Gas</td>\n",
              "      <td>yes</td>\n",
              "      <td>2003</td>\n",
              "      <td>S 500</td>\n",
              "    </tr>\n",
              "    <tr>\n",
              "      <th>4</th>\n",
              "      <td>Toyota</td>\n",
              "      <td>18300.0</td>\n",
              "      <td>crossover</td>\n",
              "      <td>120</td>\n",
              "      <td>2.0</td>\n",
              "      <td>Petrol</td>\n",
              "      <td>yes</td>\n",
              "      <td>2011</td>\n",
              "      <td>Rav 4</td>\n",
              "    </tr>\n",
              "    <tr>\n",
              "      <th>6</th>\n",
              "      <td>BMW</td>\n",
              "      <td>6100.0</td>\n",
              "      <td>sedan</td>\n",
              "      <td>438</td>\n",
              "      <td>2.0</td>\n",
              "      <td>Gas</td>\n",
              "      <td>yes</td>\n",
              "      <td>1997</td>\n",
              "      <td>320</td>\n",
              "    </tr>\n",
              "    <tr>\n",
              "      <th>8</th>\n",
              "      <td>Renault</td>\n",
              "      <td>10799.0</td>\n",
              "      <td>vagon</td>\n",
              "      <td>193</td>\n",
              "      <td>1.5</td>\n",
              "      <td>Diesel</td>\n",
              "      <td>yes</td>\n",
              "      <td>2012</td>\n",
              "      <td>Megane</td>\n",
              "    </tr>\n",
              "    <tr>\n",
              "      <th>...</th>\n",
              "      <td>...</td>\n",
              "      <td>...</td>\n",
              "      <td>...</td>\n",
              "      <td>...</td>\n",
              "      <td>...</td>\n",
              "      <td>...</td>\n",
              "      <td>...</td>\n",
              "      <td>...</td>\n",
              "      <td>...</td>\n",
              "    </tr>\n",
              "    <tr>\n",
              "      <th>4336</th>\n",
              "      <td>Renault</td>\n",
              "      <td>2100.0</td>\n",
              "      <td>vagon</td>\n",
              "      <td>237</td>\n",
              "      <td>1.9</td>\n",
              "      <td>Diesel</td>\n",
              "      <td>no</td>\n",
              "      <td>2001</td>\n",
              "      <td>Laguna</td>\n",
              "    </tr>\n",
              "    <tr>\n",
              "      <th>4338</th>\n",
              "      <td>Volkswagen</td>\n",
              "      <td>11500.0</td>\n",
              "      <td>van</td>\n",
              "      <td>163</td>\n",
              "      <td>2.5</td>\n",
              "      <td>Diesel</td>\n",
              "      <td>yes</td>\n",
              "      <td>2008</td>\n",
              "      <td>T5 (Transporter)</td>\n",
              "    </tr>\n",
              "    <tr>\n",
              "      <th>4340</th>\n",
              "      <td>Mercedes-Benz</td>\n",
              "      <td>125000.0</td>\n",
              "      <td>sedan</td>\n",
              "      <td>9</td>\n",
              "      <td>3.0</td>\n",
              "      <td>Diesel</td>\n",
              "      <td>yes</td>\n",
              "      <td>2014</td>\n",
              "      <td>S 350</td>\n",
              "    </tr>\n",
              "    <tr>\n",
              "      <th>4342</th>\n",
              "      <td>BMW</td>\n",
              "      <td>8000.0</td>\n",
              "      <td>sedan</td>\n",
              "      <td>194</td>\n",
              "      <td>2.0</td>\n",
              "      <td>Petrol</td>\n",
              "      <td>yes</td>\n",
              "      <td>1985</td>\n",
              "      <td>520</td>\n",
              "    </tr>\n",
              "    <tr>\n",
              "      <th>4344</th>\n",
              "      <td>Volkswagen</td>\n",
              "      <td>13500.0</td>\n",
              "      <td>van</td>\n",
              "      <td>124</td>\n",
              "      <td>2.0</td>\n",
              "      <td>Diesel</td>\n",
              "      <td>yes</td>\n",
              "      <td>2013</td>\n",
              "      <td>T5 (Transporter)</td>\n",
              "    </tr>\n",
              "  </tbody>\n",
              "</table>\n",
              "<p>2173 rows × 9 columns</p>\n",
              "</div>"
            ],
            "text/plain": [
              "              Brand     Price       Body  ...  Registration  Year              Model\n",
              "0               BMW    4200.0      sedan  ...           yes  1991                320\n",
              "2     Mercedes-Benz   13300.0      sedan  ...           yes  2003              S 500\n",
              "4            Toyota   18300.0  crossover  ...           yes  2011              Rav 4\n",
              "6               BMW    6100.0      sedan  ...           yes  1997                320\n",
              "8           Renault   10799.0      vagon  ...           yes  2012             Megane\n",
              "...             ...       ...        ...  ...           ...   ...                ...\n",
              "4336        Renault    2100.0      vagon  ...            no  2001             Laguna\n",
              "4338     Volkswagen   11500.0        van  ...           yes  2008   T5 (Transporter)\n",
              "4340  Mercedes-Benz  125000.0      sedan  ...           yes  2014              S 350\n",
              "4342            BMW    8000.0      sedan  ...           yes  1985                520\n",
              "4344     Volkswagen   13500.0        van  ...           yes  2013  T5 (Transporter) \n",
              "\n",
              "[2173 rows x 9 columns]"
            ]
          },
          "metadata": {
            "tags": []
          },
          "execution_count": 11
        }
      ]
    },
    {
      "cell_type": "markdown",
      "metadata": {
        "id": "jNuxd4tXjuQN"
      },
      "source": [
        "#How can I list data of odd rows in the dataset?"
      ]
    },
    {
      "cell_type": "code",
      "metadata": {
        "id": "Yg2k65iHj0qs",
        "colab": {
          "base_uri": "https://localhost:8080/",
          "height": 402
        },
        "outputId": "33912569-c840-497d-eaca-67046d2e1819"
      },
      "source": [
        "data[1::2]"
      ],
      "execution_count": null,
      "outputs": [
        {
          "output_type": "execute_result",
          "data": {
            "text/html": [
              "<div>\n",
              "<style scoped>\n",
              "    .dataframe tbody tr th:only-of-type {\n",
              "        vertical-align: middle;\n",
              "    }\n",
              "\n",
              "    .dataframe tbody tr th {\n",
              "        vertical-align: top;\n",
              "    }\n",
              "\n",
              "    .dataframe thead th {\n",
              "        text-align: right;\n",
              "    }\n",
              "</style>\n",
              "<table border=\"1\" class=\"dataframe\">\n",
              "  <thead>\n",
              "    <tr style=\"text-align: right;\">\n",
              "      <th></th>\n",
              "      <th>Brand</th>\n",
              "      <th>Price</th>\n",
              "      <th>Body</th>\n",
              "      <th>Mileage</th>\n",
              "      <th>EngineV</th>\n",
              "      <th>Engine Type</th>\n",
              "      <th>Registration</th>\n",
              "      <th>Year</th>\n",
              "      <th>Model</th>\n",
              "    </tr>\n",
              "  </thead>\n",
              "  <tbody>\n",
              "    <tr>\n",
              "      <th>1</th>\n",
              "      <td>Mercedes-Benz</td>\n",
              "      <td>7900.0</td>\n",
              "      <td>van</td>\n",
              "      <td>427</td>\n",
              "      <td>2.9</td>\n",
              "      <td>Diesel</td>\n",
              "      <td>yes</td>\n",
              "      <td>1999</td>\n",
              "      <td>Sprinter 212</td>\n",
              "    </tr>\n",
              "    <tr>\n",
              "      <th>3</th>\n",
              "      <td>Audi</td>\n",
              "      <td>23000.0</td>\n",
              "      <td>crossover</td>\n",
              "      <td>240</td>\n",
              "      <td>4.2</td>\n",
              "      <td>Petrol</td>\n",
              "      <td>yes</td>\n",
              "      <td>2007</td>\n",
              "      <td>Q7</td>\n",
              "    </tr>\n",
              "    <tr>\n",
              "      <th>5</th>\n",
              "      <td>Mercedes-Benz</td>\n",
              "      <td>199999.0</td>\n",
              "      <td>crossover</td>\n",
              "      <td>0</td>\n",
              "      <td>5.5</td>\n",
              "      <td>Petrol</td>\n",
              "      <td>yes</td>\n",
              "      <td>2016</td>\n",
              "      <td>GLS 63</td>\n",
              "    </tr>\n",
              "    <tr>\n",
              "      <th>7</th>\n",
              "      <td>Audi</td>\n",
              "      <td>14200.0</td>\n",
              "      <td>vagon</td>\n",
              "      <td>200</td>\n",
              "      <td>2.7</td>\n",
              "      <td>Diesel</td>\n",
              "      <td>yes</td>\n",
              "      <td>2006</td>\n",
              "      <td>A6</td>\n",
              "    </tr>\n",
              "    <tr>\n",
              "      <th>9</th>\n",
              "      <td>Volkswagen</td>\n",
              "      <td>1400.0</td>\n",
              "      <td>other</td>\n",
              "      <td>212</td>\n",
              "      <td>1.8</td>\n",
              "      <td>Gas</td>\n",
              "      <td>no</td>\n",
              "      <td>1999</td>\n",
              "      <td>Golf IV</td>\n",
              "    </tr>\n",
              "    <tr>\n",
              "      <th>...</th>\n",
              "      <td>...</td>\n",
              "      <td>...</td>\n",
              "      <td>...</td>\n",
              "      <td>...</td>\n",
              "      <td>...</td>\n",
              "      <td>...</td>\n",
              "      <td>...</td>\n",
              "      <td>...</td>\n",
              "      <td>...</td>\n",
              "    </tr>\n",
              "    <tr>\n",
              "      <th>4335</th>\n",
              "      <td>BMW</td>\n",
              "      <td>27900.0</td>\n",
              "      <td>sedan</td>\n",
              "      <td>38</td>\n",
              "      <td>2.0</td>\n",
              "      <td>Petrol</td>\n",
              "      <td>yes</td>\n",
              "      <td>2013</td>\n",
              "      <td>320</td>\n",
              "    </tr>\n",
              "    <tr>\n",
              "      <th>4337</th>\n",
              "      <td>Renault</td>\n",
              "      <td>6800.0</td>\n",
              "      <td>sedan</td>\n",
              "      <td>152</td>\n",
              "      <td>1.6</td>\n",
              "      <td>Petrol</td>\n",
              "      <td>yes</td>\n",
              "      <td>2007</td>\n",
              "      <td>Megane</td>\n",
              "    </tr>\n",
              "    <tr>\n",
              "      <th>4339</th>\n",
              "      <td>Toyota</td>\n",
              "      <td>17900.0</td>\n",
              "      <td>sedan</td>\n",
              "      <td>35</td>\n",
              "      <td>1.6</td>\n",
              "      <td>Petrol</td>\n",
              "      <td>yes</td>\n",
              "      <td>2014</td>\n",
              "      <td>Corolla</td>\n",
              "    </tr>\n",
              "    <tr>\n",
              "      <th>4341</th>\n",
              "      <td>BMW</td>\n",
              "      <td>6500.0</td>\n",
              "      <td>sedan</td>\n",
              "      <td>1</td>\n",
              "      <td>3.5</td>\n",
              "      <td>Petrol</td>\n",
              "      <td>yes</td>\n",
              "      <td>1999</td>\n",
              "      <td>535</td>\n",
              "    </tr>\n",
              "    <tr>\n",
              "      <th>4343</th>\n",
              "      <td>Toyota</td>\n",
              "      <td>14200.0</td>\n",
              "      <td>sedan</td>\n",
              "      <td>31</td>\n",
              "      <td>NaN</td>\n",
              "      <td>Petrol</td>\n",
              "      <td>yes</td>\n",
              "      <td>2014</td>\n",
              "      <td>Corolla</td>\n",
              "    </tr>\n",
              "  </tbody>\n",
              "</table>\n",
              "<p>2172 rows × 9 columns</p>\n",
              "</div>"
            ],
            "text/plain": [
              "              Brand     Price       Body  ...  Registration  Year         Model\n",
              "1     Mercedes-Benz    7900.0        van  ...           yes  1999  Sprinter 212\n",
              "3              Audi   23000.0  crossover  ...           yes  2007            Q7\n",
              "5     Mercedes-Benz  199999.0  crossover  ...           yes  2016        GLS 63\n",
              "7              Audi   14200.0      vagon  ...           yes  2006            A6\n",
              "9        Volkswagen    1400.0      other  ...            no  1999       Golf IV\n",
              "...             ...       ...        ...  ...           ...   ...           ...\n",
              "4335            BMW   27900.0      sedan  ...           yes  2013           320\n",
              "4337        Renault    6800.0      sedan  ...           yes  2007        Megane\n",
              "4339         Toyota   17900.0      sedan  ...           yes  2014       Corolla\n",
              "4341            BMW    6500.0      sedan  ...           yes  1999           535\n",
              "4343         Toyota   14200.0      sedan  ...           yes  2014       Corolla\n",
              "\n",
              "[2172 rows x 9 columns]"
            ]
          },
          "metadata": {
            "tags": []
          },
          "execution_count": 71
        }
      ]
    },
    {
      "cell_type": "markdown",
      "metadata": {
        "id": "qvYHI-ghxcTF"
      },
      "source": [
        "#How do I find a set of row values in the dataset?"
      ]
    },
    {
      "cell_type": "code",
      "metadata": {
        "id": "PZMWyg23xVvq",
        "colab": {
          "base_uri": "https://localhost:8080/",
          "height": 225
        },
        "outputId": "59440d8f-ac16-4d0c-d871-9c3640148fa9"
      },
      "source": [
        "data.loc[345:350]"
      ],
      "execution_count": null,
      "outputs": [
        {
          "output_type": "execute_result",
          "data": {
            "text/html": [
              "<div>\n",
              "<style scoped>\n",
              "    .dataframe tbody tr th:only-of-type {\n",
              "        vertical-align: middle;\n",
              "    }\n",
              "\n",
              "    .dataframe tbody tr th {\n",
              "        vertical-align: top;\n",
              "    }\n",
              "\n",
              "    .dataframe thead th {\n",
              "        text-align: right;\n",
              "    }\n",
              "</style>\n",
              "<table border=\"1\" class=\"dataframe\">\n",
              "  <thead>\n",
              "    <tr style=\"text-align: right;\">\n",
              "      <th></th>\n",
              "      <th>Brand</th>\n",
              "      <th>Price</th>\n",
              "      <th>Body</th>\n",
              "      <th>Mileage</th>\n",
              "      <th>EngineV</th>\n",
              "      <th>Engine Type</th>\n",
              "      <th>Registration</th>\n",
              "      <th>Year</th>\n",
              "      <th>Model</th>\n",
              "    </tr>\n",
              "  </thead>\n",
              "  <tbody>\n",
              "    <tr>\n",
              "      <th>345</th>\n",
              "      <td>Renault</td>\n",
              "      <td>7600.0</td>\n",
              "      <td>van</td>\n",
              "      <td>108</td>\n",
              "      <td>1.0</td>\n",
              "      <td>Diesel</td>\n",
              "      <td>yes</td>\n",
              "      <td>2013</td>\n",
              "      <td>Kangoo</td>\n",
              "    </tr>\n",
              "    <tr>\n",
              "      <th>346</th>\n",
              "      <td>Renault</td>\n",
              "      <td>11100.0</td>\n",
              "      <td>vagon</td>\n",
              "      <td>180</td>\n",
              "      <td>1.5</td>\n",
              "      <td>Diesel</td>\n",
              "      <td>yes</td>\n",
              "      <td>2012</td>\n",
              "      <td>Megane</td>\n",
              "    </tr>\n",
              "    <tr>\n",
              "      <th>347</th>\n",
              "      <td>Mercedes-Benz</td>\n",
              "      <td>16500.0</td>\n",
              "      <td>other</td>\n",
              "      <td>260</td>\n",
              "      <td>2.2</td>\n",
              "      <td>Diesel</td>\n",
              "      <td>yes</td>\n",
              "      <td>2011</td>\n",
              "      <td>Sprinter 319</td>\n",
              "    </tr>\n",
              "    <tr>\n",
              "      <th>348</th>\n",
              "      <td>Mercedes-Benz</td>\n",
              "      <td>199999.0</td>\n",
              "      <td>crossover</td>\n",
              "      <td>0</td>\n",
              "      <td>5.5</td>\n",
              "      <td>Petrol</td>\n",
              "      <td>yes</td>\n",
              "      <td>2016</td>\n",
              "      <td>GLS 63</td>\n",
              "    </tr>\n",
              "    <tr>\n",
              "      <th>349</th>\n",
              "      <td>Mercedes-Benz</td>\n",
              "      <td>44000.0</td>\n",
              "      <td>other</td>\n",
              "      <td>82</td>\n",
              "      <td>5.5</td>\n",
              "      <td>Petrol</td>\n",
              "      <td>yes</td>\n",
              "      <td>2010</td>\n",
              "      <td>S 500</td>\n",
              "    </tr>\n",
              "    <tr>\n",
              "      <th>350</th>\n",
              "      <td>Audi</td>\n",
              "      <td>39900.0</td>\n",
              "      <td>other</td>\n",
              "      <td>12</td>\n",
              "      <td>1.8</td>\n",
              "      <td>Petrol</td>\n",
              "      <td>yes</td>\n",
              "      <td>2014</td>\n",
              "      <td>A5</td>\n",
              "    </tr>\n",
              "  </tbody>\n",
              "</table>\n",
              "</div>"
            ],
            "text/plain": [
              "             Brand     Price       Body  ...  Registration  Year         Model\n",
              "345        Renault    7600.0        van  ...           yes  2013        Kangoo\n",
              "346        Renault   11100.0      vagon  ...           yes  2012        Megane\n",
              "347  Mercedes-Benz   16500.0      other  ...           yes  2011  Sprinter 319\n",
              "348  Mercedes-Benz  199999.0  crossover  ...           yes  2016        GLS 63\n",
              "349  Mercedes-Benz   44000.0      other  ...           yes  2010         S 500\n",
              "350           Audi   39900.0      other  ...           yes  2014            A5\n",
              "\n",
              "[6 rows x 9 columns]"
            ]
          },
          "metadata": {
            "tags": []
          },
          "execution_count": 8
        }
      ]
    },
    {
      "cell_type": "markdown",
      "metadata": {
        "id": "JW-0iPkU2SKx"
      },
      "source": [
        "#How do I find particular row values in the dataset?"
      ]
    },
    {
      "cell_type": "code",
      "metadata": {
        "id": "MhPSzyeo2FH8",
        "colab": {
          "base_uri": "https://localhost:8080/",
          "height": 185
        },
        "outputId": "e669e0d1-869b-4c0d-8fb6-d7932a0665c3"
      },
      "source": [
        "data.iloc[8]"
      ],
      "execution_count": null,
      "outputs": [
        {
          "output_type": "execute_result",
          "data": {
            "text/plain": [
              "Brand           Renault\n",
              "Price             10799\n",
              "Body              vagon\n",
              "Mileage             193\n",
              "EngineV             1.5\n",
              "Engine Type      Diesel\n",
              "Registration        yes\n",
              "Year               2012\n",
              "Model            Megane\n",
              "Name: 8, dtype: object"
            ]
          },
          "metadata": {
            "tags": []
          },
          "execution_count": 15
        }
      ]
    },
    {
      "cell_type": "markdown",
      "metadata": {
        "id": "Nh5yioBbkSjC"
      },
      "source": [
        "#How can I access individual data elements in the dataset?"
      ]
    },
    {
      "cell_type": "code",
      "metadata": {
        "id": "MS4-qKWSkGth",
        "colab": {
          "base_uri": "https://localhost:8080/",
          "height": 35
        },
        "outputId": "c1e3fa0e-811c-4b9e-bc31-2c89e29d0ace"
      },
      "source": [
        "data['Brand'][15]"
      ],
      "execution_count": null,
      "outputs": [
        {
          "output_type": "execute_result",
          "data": {
            "application/vnd.google.colaboratory.intrinsic+json": {
              "type": "string"
            },
            "text/plain": [
              "'Renault'"
            ]
          },
          "metadata": {
            "tags": []
          },
          "execution_count": 74
        }
      ]
    },
    {
      "cell_type": "code",
      "metadata": {
        "colab": {
          "base_uri": "https://localhost:8080/"
        },
        "id": "PjPJFBpUmdsI",
        "outputId": "1586a8f6-1d46-4fa5-80be-4143e22974b9"
      },
      "source": [
        "data['Year'][2]"
      ],
      "execution_count": null,
      "outputs": [
        {
          "output_type": "execute_result",
          "data": {
            "text/plain": [
              "2003"
            ]
          },
          "metadata": {
            "tags": []
          },
          "execution_count": 27
        }
      ]
    },
    {
      "cell_type": "markdown",
      "metadata": {
        "id": "udu6-iLMlzMh"
      },
      "source": [
        "#How can I access row data from multiple columns in a dataset?"
      ]
    },
    {
      "cell_type": "code",
      "metadata": {
        "id": "jj-yC63lkwUu",
        "colab": {
          "base_uri": "https://localhost:8080/",
          "height": 34
        },
        "outputId": "cf5e0b2b-d570-4b02-c70d-6512a310459c"
      },
      "source": [
        "[data['Brand'][15],data['Year'][15]]"
      ],
      "execution_count": null,
      "outputs": [
        {
          "output_type": "execute_result",
          "data": {
            "text/plain": [
              "['Renault', 2012]"
            ]
          },
          "metadata": {
            "tags": []
          },
          "execution_count": 13
        }
      ]
    },
    {
      "cell_type": "markdown",
      "metadata": {
        "id": "fwGKL-rPekvs"
      },
      "source": [
        "#How can I convert categorical values to numerical values in the dataset?"
      ]
    },
    {
      "cell_type": "code",
      "metadata": {
        "id": "cNzaGlgpevpG",
        "colab": {
          "base_uri": "https://localhost:8080/",
          "height": 402
        },
        "outputId": "c7e4c7c0-917b-4581-a93e-e68bd06eb679"
      },
      "source": [
        "def reg_status(Registration):\n",
        "  if Registration==\"yes\":\n",
        "    label=1\n",
        "  else:\n",
        "    label=0\n",
        "  return label\n",
        "data['Registration']=data['Registration'].apply(reg_status)\n",
        "data"
      ],
      "execution_count": null,
      "outputs": [
        {
          "output_type": "execute_result",
          "data": {
            "text/html": [
              "<div>\n",
              "<style scoped>\n",
              "    .dataframe tbody tr th:only-of-type {\n",
              "        vertical-align: middle;\n",
              "    }\n",
              "\n",
              "    .dataframe tbody tr th {\n",
              "        vertical-align: top;\n",
              "    }\n",
              "\n",
              "    .dataframe thead th {\n",
              "        text-align: right;\n",
              "    }\n",
              "</style>\n",
              "<table border=\"1\" class=\"dataframe\">\n",
              "  <thead>\n",
              "    <tr style=\"text-align: right;\">\n",
              "      <th></th>\n",
              "      <th>Brand</th>\n",
              "      <th>Price</th>\n",
              "      <th>Body</th>\n",
              "      <th>Mileage</th>\n",
              "      <th>EngineV</th>\n",
              "      <th>Engine Type</th>\n",
              "      <th>Registration</th>\n",
              "      <th>Year</th>\n",
              "      <th>Model</th>\n",
              "    </tr>\n",
              "  </thead>\n",
              "  <tbody>\n",
              "    <tr>\n",
              "      <th>0</th>\n",
              "      <td>BMW</td>\n",
              "      <td>4200.0</td>\n",
              "      <td>sedan</td>\n",
              "      <td>277</td>\n",
              "      <td>2.0</td>\n",
              "      <td>Petrol</td>\n",
              "      <td>1</td>\n",
              "      <td>1991</td>\n",
              "      <td>320</td>\n",
              "    </tr>\n",
              "    <tr>\n",
              "      <th>1</th>\n",
              "      <td>Mercedes-Benz</td>\n",
              "      <td>7900.0</td>\n",
              "      <td>van</td>\n",
              "      <td>427</td>\n",
              "      <td>2.9</td>\n",
              "      <td>Diesel</td>\n",
              "      <td>1</td>\n",
              "      <td>1999</td>\n",
              "      <td>Sprinter 212</td>\n",
              "    </tr>\n",
              "    <tr>\n",
              "      <th>2</th>\n",
              "      <td>Mercedes-Benz</td>\n",
              "      <td>13300.0</td>\n",
              "      <td>sedan</td>\n",
              "      <td>358</td>\n",
              "      <td>5.0</td>\n",
              "      <td>Gas</td>\n",
              "      <td>1</td>\n",
              "      <td>2003</td>\n",
              "      <td>S 500</td>\n",
              "    </tr>\n",
              "    <tr>\n",
              "      <th>3</th>\n",
              "      <td>Audi</td>\n",
              "      <td>23000.0</td>\n",
              "      <td>crossover</td>\n",
              "      <td>240</td>\n",
              "      <td>4.2</td>\n",
              "      <td>Petrol</td>\n",
              "      <td>1</td>\n",
              "      <td>2007</td>\n",
              "      <td>Q7</td>\n",
              "    </tr>\n",
              "    <tr>\n",
              "      <th>4</th>\n",
              "      <td>Toyota</td>\n",
              "      <td>18300.0</td>\n",
              "      <td>crossover</td>\n",
              "      <td>120</td>\n",
              "      <td>2.0</td>\n",
              "      <td>Petrol</td>\n",
              "      <td>1</td>\n",
              "      <td>2011</td>\n",
              "      <td>Rav 4</td>\n",
              "    </tr>\n",
              "    <tr>\n",
              "      <th>...</th>\n",
              "      <td>...</td>\n",
              "      <td>...</td>\n",
              "      <td>...</td>\n",
              "      <td>...</td>\n",
              "      <td>...</td>\n",
              "      <td>...</td>\n",
              "      <td>...</td>\n",
              "      <td>...</td>\n",
              "      <td>...</td>\n",
              "    </tr>\n",
              "    <tr>\n",
              "      <th>4340</th>\n",
              "      <td>Mercedes-Benz</td>\n",
              "      <td>125000.0</td>\n",
              "      <td>sedan</td>\n",
              "      <td>9</td>\n",
              "      <td>3.0</td>\n",
              "      <td>Diesel</td>\n",
              "      <td>1</td>\n",
              "      <td>2014</td>\n",
              "      <td>S 350</td>\n",
              "    </tr>\n",
              "    <tr>\n",
              "      <th>4341</th>\n",
              "      <td>BMW</td>\n",
              "      <td>6500.0</td>\n",
              "      <td>sedan</td>\n",
              "      <td>1</td>\n",
              "      <td>3.5</td>\n",
              "      <td>Petrol</td>\n",
              "      <td>1</td>\n",
              "      <td>1999</td>\n",
              "      <td>535</td>\n",
              "    </tr>\n",
              "    <tr>\n",
              "      <th>4342</th>\n",
              "      <td>BMW</td>\n",
              "      <td>8000.0</td>\n",
              "      <td>sedan</td>\n",
              "      <td>194</td>\n",
              "      <td>2.0</td>\n",
              "      <td>Petrol</td>\n",
              "      <td>1</td>\n",
              "      <td>1985</td>\n",
              "      <td>520</td>\n",
              "    </tr>\n",
              "    <tr>\n",
              "      <th>4343</th>\n",
              "      <td>Toyota</td>\n",
              "      <td>14200.0</td>\n",
              "      <td>sedan</td>\n",
              "      <td>31</td>\n",
              "      <td>NaN</td>\n",
              "      <td>Petrol</td>\n",
              "      <td>1</td>\n",
              "      <td>2014</td>\n",
              "      <td>Corolla</td>\n",
              "    </tr>\n",
              "    <tr>\n",
              "      <th>4344</th>\n",
              "      <td>Volkswagen</td>\n",
              "      <td>13500.0</td>\n",
              "      <td>van</td>\n",
              "      <td>124</td>\n",
              "      <td>2.0</td>\n",
              "      <td>Diesel</td>\n",
              "      <td>1</td>\n",
              "      <td>2013</td>\n",
              "      <td>T5 (Transporter)</td>\n",
              "    </tr>\n",
              "  </tbody>\n",
              "</table>\n",
              "<p>4345 rows × 9 columns</p>\n",
              "</div>"
            ],
            "text/plain": [
              "              Brand     Price       Body  ...  Registration  Year              Model\n",
              "0               BMW    4200.0      sedan  ...             1  1991                320\n",
              "1     Mercedes-Benz    7900.0        van  ...             1  1999       Sprinter 212\n",
              "2     Mercedes-Benz   13300.0      sedan  ...             1  2003              S 500\n",
              "3              Audi   23000.0  crossover  ...             1  2007                 Q7\n",
              "4            Toyota   18300.0  crossover  ...             1  2011              Rav 4\n",
              "...             ...       ...        ...  ...           ...   ...                ...\n",
              "4340  Mercedes-Benz  125000.0      sedan  ...             1  2014              S 350\n",
              "4341            BMW    6500.0      sedan  ...             1  1999                535\n",
              "4342            BMW    8000.0      sedan  ...             1  1985                520\n",
              "4343         Toyota   14200.0      sedan  ...             1  2014            Corolla\n",
              "4344     Volkswagen   13500.0        van  ...             1  2013  T5 (Transporter) \n",
              "\n",
              "[4345 rows x 9 columns]"
            ]
          },
          "metadata": {
            "tags": []
          },
          "execution_count": 22
        }
      ]
    },
    {
      "cell_type": "markdown",
      "metadata": {
        "id": "Oru3v-KD0-Gs"
      },
      "source": [
        "#How can I draw a bar chart representing all Brands in the dataset?"
      ]
    },
    {
      "cell_type": "code",
      "metadata": {
        "id": "CX6UpiRS0rhh",
        "colab": {
          "base_uri": "https://localhost:8080/",
          "height": 296
        },
        "outputId": "be8614b8-35c6-4790-a5fe-e4987af82896"
      },
      "source": [
        "%matplotlib inline\n",
        "import numpy as np\n",
        "import pandas as pd\n",
        "import seaborn as sns\n",
        "import matplotlib.pyplot as plt\n",
        "import math\n",
        "sns.countplot( data=data, x='Brand')\n",
        "\n"
      ],
      "execution_count": null,
      "outputs": [
        {
          "output_type": "execute_result",
          "data": {
            "text/plain": [
              "<matplotlib.axes._subplots.AxesSubplot at 0x7fe660eb3b70>"
            ]
          },
          "metadata": {
            "tags": []
          },
          "execution_count": 6
        },
        {
          "output_type": "display_data",
          "data": {
            "image/png": "[encoded data removed]",
            "text/plain": [
              "<Figure size 432x288 with 1 Axes>"
            ]
          },
          "metadata": {
            "tags": [],
            "needs_background": "light"
          }
        }
      ]
    },
    {
      "cell_type": "markdown",
      "metadata": {
        "id": "Jqkz4WTDzzr4"
      },
      "source": [
        "# Which Brand of the Diesel Engine Type was mostly resold?"
      ]
    },
    {
      "cell_type": "code",
      "metadata": {
        "colab": {
          "base_uri": "https://localhost:8080/",
          "height": 296
        },
        "id": "l_3aar9fzy3D",
        "outputId": "aa65e29e-1100-4e83-e0de-ba8ad2f99900"
      },
      "source": [
        "import seaborn as sns\r\n",
        "sns.countplot(x='Engine Type',hue='Brand', data=data)"
      ],
      "execution_count": null,
      "outputs": [
        {
          "output_type": "execute_result",
          "data": {
            "text/plain": [
              "<matplotlib.axes._subplots.AxesSubplot at 0x7f8c8cf7bb90>"
            ]
          },
          "metadata": {
            "tags": []
          },
          "execution_count": 30
        },
        {
          "output_type": "display_data",
          "data": {
            "image/png": "[encoded data removed]",
            "text/plain": [
              "<Figure size 432x288 with 1 Axes>"
            ]
          },
          "metadata": {
            "tags": [],
            "needs_background": "light"
          }
        }
      ]
    },
    {
      "cell_type": "markdown",
      "metadata": {
        "id": "RZMoJ_3D0WCR"
      },
      "source": [
        "It is clear from the above graph that in the Diesel Engine Type Volkswagen was mostly resold."
      ]
    },
    {
      "cell_type": "markdown",
      "metadata": {
        "id": "MJsnth0w10lA"
      },
      "source": [
        "#How can I compare the Engine Types of various Brands in the dataset?"
      ]
    },
    {
      "cell_type": "code",
      "metadata": {
        "id": "mOoL4-g21IEq",
        "colab": {
          "base_uri": "https://localhost:8080/",
          "height": 296
        },
        "outputId": "21188c95-a26d-41d2-b28b-48c4aaa35bdc"
      },
      "source": [
        "sns.countplot(x='Brand',hue='Engine Type', data=data)"
      ],
      "execution_count": null,
      "outputs": [
        {
          "output_type": "execute_result",
          "data": {
            "text/plain": [
              "<matplotlib.axes._subplots.AxesSubplot at 0x7f6e2e6e3a20>"
            ]
          },
          "metadata": {
            "tags": []
          },
          "execution_count": 5
        },
        {
          "output_type": "display_data",
          "data": {
            "image/png": "[encoded data removed]",
            "text/plain": [
              "<Figure size 432x288 with 1 Axes>"
            ]
          },
          "metadata": {
            "tags": [],
            "needs_background": "light"
          }
        }
      ]
    },
    {
      "cell_type": "markdown",
      "metadata": {
        "id": "-DWURXzt2sOk"
      },
      "source": [
        "#How can I compare the Body Types of various Brands in the dataset?"
      ]
    },
    {
      "cell_type": "code",
      "metadata": {
        "id": "auc6uoro186t",
        "colab": {
          "base_uri": "https://localhost:8080/",
          "height": 296
        },
        "outputId": "2eb01e87-dcaa-44d7-a29d-9cf98dfba6c8"
      },
      "source": [
        "sns.countplot(x='Brand',hue='Body', data=data)"
      ],
      "execution_count": null,
      "outputs": [
        {
          "output_type": "execute_result",
          "data": {
            "text/plain": [
              "<matplotlib.axes._subplots.AxesSubplot at 0x7f6e2df54ef0>"
            ]
          },
          "metadata": {
            "tags": []
          },
          "execution_count": 7
        },
        {
          "output_type": "display_data",
          "data": {
            "image/png": "[encoded data removed]",
            "text/plain": [
              "<Figure size 432x288 with 1 Axes>"
            ]
          },
          "metadata": {
            "tags": [],
            "needs_background": "light"
          }
        }
      ]
    },
    {
      "cell_type": "markdown",
      "metadata": {
        "id": "7Gh4wJGz3LcS"
      },
      "source": [
        "#How can I plot the histogram of Price in the dataset?"
      ]
    },
    {
      "cell_type": "code",
      "metadata": {
        "id": "UMkxtq0R2618",
        "colab": {
          "base_uri": "https://localhost:8080/",
          "height": 282
        },
        "outputId": "819ce288-57ce-423d-d653-e5b06080a02a"
      },
      "source": [
        "data['Price'].plot.hist()"
      ],
      "execution_count": null,
      "outputs": [
        {
          "output_type": "execute_result",
          "data": {
            "text/plain": [
              "<matplotlib.axes._subplots.AxesSubplot at 0x7f6e2e5397f0>"
            ]
          },
          "metadata": {
            "tags": []
          },
          "execution_count": 9
        },
        {
          "output_type": "display_data",
          "data": {
            "image/png": "[encoded data removed]",
            "text/plain": [
              "<Figure size 432x288 with 1 Axes>"
            ]
          },
          "metadata": {
            "tags": [],
            "needs_background": "light"
          }
        }
      ]
    },
    {
      "cell_type": "markdown",
      "metadata": {
        "id": "9o-qwQG941Zp"
      },
      "source": [
        "#How can I find the number of null values in the dataset?"
      ]
    },
    {
      "cell_type": "code",
      "metadata": {
        "id": "SGZo-upR3Yky",
        "colab": {
          "base_uri": "https://localhost:8080/",
          "height": 185
        },
        "outputId": "003ef584-f018-4633-f695-6cb3a938b086"
      },
      "source": [
        "data.isnull().sum()"
      ],
      "execution_count": null,
      "outputs": [
        {
          "output_type": "execute_result",
          "data": {
            "text/plain": [
              "Brand             0\n",
              "Price           172\n",
              "Body              0\n",
              "Mileage           0\n",
              "EngineV         150\n",
              "Engine Type       0\n",
              "Registration      0\n",
              "Year              0\n",
              "Model             0\n",
              "dtype: int64"
            ]
          },
          "metadata": {
            "tags": []
          },
          "execution_count": 20
        }
      ]
    },
    {
      "cell_type": "markdown",
      "metadata": {
        "id": "XkMG-J0rrAN_"
      },
      "source": [
        "#How can I replace nan values with 0 in the dataset?"
      ]
    },
    {
      "cell_type": "code",
      "metadata": {
        "id": "yI6qt5SNq9zw",
        "colab": {
          "base_uri": "https://localhost:8080/",
          "height": 185
        },
        "outputId": "f78d9327-2528-4134-fced-4b20f8efca3a"
      },
      "source": [
        "#Replacing nan values with 0\n",
        "data=pd.read_csv(\"Car resale.csv\")\n",
        "data.fillna(value = 0,inplace = True) \n",
        "data.isnull().sum()"
      ],
      "execution_count": null,
      "outputs": [
        {
          "output_type": "execute_result",
          "data": {
            "text/plain": [
              "Brand           0\n",
              "Price           0\n",
              "Body            0\n",
              "Mileage         0\n",
              "EngineV         0\n",
              "Engine Type     0\n",
              "Registration    0\n",
              "Year            0\n",
              "Model           0\n",
              "dtype: int64"
            ]
          },
          "metadata": {
            "tags": []
          },
          "execution_count": 4
        }
      ]
    },
    {
      "cell_type": "markdown",
      "metadata": {
        "id": "nxqgWAKrwkZ5"
      },
      "source": [
        "# How can I replace nan values with mean of columns in the dataset?"
      ]
    },
    {
      "cell_type": "code",
      "metadata": {
        "colab": {
          "base_uri": "https://localhost:8080/"
        },
        "id": "JS_QIUrCw6h-",
        "outputId": "3c35f208-cce0-4891-ad87-771d6d3a0fd8"
      },
      "source": [
        "#Check for nan nalues\r\n",
        "data=pd.read_csv(\"Car resale.csv\")\r\n",
        "data.isnull().sum()"
      ],
      "execution_count": null,
      "outputs": [
        {
          "output_type": "execute_result",
          "data": {
            "text/plain": [
              "Brand             0\n",
              "Price           172\n",
              "Body              0\n",
              "Mileage           0\n",
              "EngineV         150\n",
              "Engine Type       0\n",
              "Registration      0\n",
              "Year              0\n",
              "Model             0\n",
              "dtype: int64"
            ]
          },
          "metadata": {
            "tags": []
          },
          "execution_count": 28
        }
      ]
    },
    {
      "cell_type": "code",
      "metadata": {
        "colab": {
          "base_uri": "https://localhost:8080/"
        },
        "id": "wgjyfXRAw0o5",
        "outputId": "8600f3a3-f154-42b8-f407-873b007af824"
      },
      "source": [
        "#Replace nan nalues with means of individual columns\r\n",
        "data[\"Price\"].fillna(data[\"Price\"].mean(),inplace=True)\r\n",
        "data[\"EngineV\"].fillna(data[\"EngineV\"].mean(),inplace=True)\r\n",
        "data.isnull().sum()"
      ],
      "execution_count": null,
      "outputs": [
        {
          "output_type": "execute_result",
          "data": {
            "text/plain": [
              "Brand           0\n",
              "Price           0\n",
              "Body            0\n",
              "Mileage         0\n",
              "EngineV         0\n",
              "Engine Type     0\n",
              "Registration    0\n",
              "Year            0\n",
              "Model           0\n",
              "dtype: int64"
            ]
          },
          "metadata": {
            "tags": []
          },
          "execution_count": 29
        }
      ]
    },
    {
      "cell_type": "markdown",
      "metadata": {
        "id": "ti7uMJG754Tq"
      },
      "source": [
        "#How can I compare the Engine Type and Price data?"
      ]
    },
    {
      "cell_type": "code",
      "metadata": {
        "id": "l3wqjZbO4-NP",
        "colab": {
          "base_uri": "https://localhost:8080/",
          "height": 296
        },
        "outputId": "3f197994-194d-423b-d973-a8295f5935eb"
      },
      "source": [
        "sns.boxplot(x='Engine Type',y='Price',data=data)"
      ],
      "execution_count": null,
      "outputs": [
        {
          "output_type": "execute_result",
          "data": {
            "text/plain": [
              "<matplotlib.axes._subplots.AxesSubplot at 0x7f6e2891f860>"
            ]
          },
          "metadata": {
            "tags": []
          },
          "execution_count": 23
        },
        {
          "output_type": "display_data",
          "data": {
            "image/png": "[encoded data removed]",
            "text/plain": [
              "<Figure size 432x288 with 1 Axes>"
            ]
          },
          "metadata": {
            "tags": [],
            "needs_background": "light"
          }
        }
      ]
    },
    {
      "cell_type": "markdown",
      "metadata": {
        "id": "NQeFfAIh941l"
      },
      "source": [
        "#How do I find correlation between column values?"
      ]
    },
    {
      "cell_type": "code",
      "metadata": {
        "id": "Owzb-asf74rt",
        "colab": {
          "base_uri": "https://localhost:8080/",
          "height": 166
        },
        "outputId": "653aadbc-0dfc-48e9-f93c-953b50239d8e"
      },
      "source": [
        "data.corr()\n"
      ],
      "execution_count": null,
      "outputs": [
        {
          "output_type": "execute_result",
          "data": {
            "text/html": [
              "<div>\n",
              "<style scoped>\n",
              "    .dataframe tbody tr th:only-of-type {\n",
              "        vertical-align: middle;\n",
              "    }\n",
              "\n",
              "    .dataframe tbody tr th {\n",
              "        vertical-align: top;\n",
              "    }\n",
              "\n",
              "    .dataframe thead th {\n",
              "        text-align: right;\n",
              "    }\n",
              "</style>\n",
              "<table border=\"1\" class=\"dataframe\">\n",
              "  <thead>\n",
              "    <tr style=\"text-align: right;\">\n",
              "      <th></th>\n",
              "      <th>Price</th>\n",
              "      <th>Mileage</th>\n",
              "      <th>EngineV</th>\n",
              "      <th>Year</th>\n",
              "    </tr>\n",
              "  </thead>\n",
              "  <tbody>\n",
              "    <tr>\n",
              "      <th>Price</th>\n",
              "      <td>1.000000</td>\n",
              "      <td>-0.464795</td>\n",
              "      <td>0.058664</td>\n",
              "      <td>0.487031</td>\n",
              "    </tr>\n",
              "    <tr>\n",
              "      <th>Mileage</th>\n",
              "      <td>-0.464795</td>\n",
              "      <td>1.000000</td>\n",
              "      <td>0.020959</td>\n",
              "      <td>-0.668635</td>\n",
              "    </tr>\n",
              "    <tr>\n",
              "      <th>EngineV</th>\n",
              "      <td>0.058664</td>\n",
              "      <td>0.020959</td>\n",
              "      <td>1.000000</td>\n",
              "      <td>-0.022866</td>\n",
              "    </tr>\n",
              "    <tr>\n",
              "      <th>Year</th>\n",
              "      <td>0.487031</td>\n",
              "      <td>-0.668635</td>\n",
              "      <td>-0.022866</td>\n",
              "      <td>1.000000</td>\n",
              "    </tr>\n",
              "  </tbody>\n",
              "</table>\n",
              "</div>"
            ],
            "text/plain": [
              "            Price   Mileage   EngineV      Year\n",
              "Price    1.000000 -0.464795  0.058664  0.487031\n",
              "Mileage -0.464795  1.000000  0.020959 -0.668635\n",
              "EngineV  0.058664  0.020959  1.000000 -0.022866\n",
              "Year     0.487031 -0.668635 -0.022866  1.000000"
            ]
          },
          "metadata": {
            "tags": []
          },
          "execution_count": 30
        }
      ]
    },
    {
      "cell_type": "markdown",
      "metadata": {
        "id": "y-GhjnMu-cyB"
      },
      "source": [
        "#How do I represent corelation between column values using a heatmap?"
      ]
    },
    {
      "cell_type": "code",
      "metadata": {
        "id": "5P6-rgsY-mWM",
        "colab": {
          "base_uri": "https://localhost:8080/",
          "height": 286
        },
        "outputId": "c3d32fdd-d910-4b6f-ec0c-88b95f7e83f4"
      },
      "source": [
        "sns.heatmap(data.corr())"
      ],
      "execution_count": null,
      "outputs": [
        {
          "output_type": "execute_result",
          "data": {
            "text/plain": [
              "<matplotlib.axes._subplots.AxesSubplot at 0x7fc067b20be0>"
            ]
          },
          "metadata": {
            "tags": []
          },
          "execution_count": 14
        },
        {
          "output_type": "display_data",
          "data": {
            "image/png": "[encoded data removed]",
            "text/plain": [
              "<Figure size 432x288 with 2 Axes>"
            ]
          },
          "metadata": {
            "tags": [],
            "needs_background": "light"
          }
        }
      ]
    },
    {
      "cell_type": "markdown",
      "metadata": {
        "id": "k1gxAH0n_0Mt"
      },
      "source": [
        "#How can I add a column and populate it by applying arithmetic operator to an existing column in the dataset?"
      ]
    },
    {
      "cell_type": "code",
      "metadata": {
        "id": "4bTq5wsL_i80",
        "colab": {
          "base_uri": "https://localhost:8080/",
          "height": 524
        },
        "outputId": "027dedef-340f-4a2f-b67e-bf8401acc496"
      },
      "source": [
        "data['New_col']=data['Price']*2\n",
        "data"
      ],
      "execution_count": null,
      "outputs": [
        {
          "output_type": "execute_result",
          "data": {
            "text/html": [
              "<div>\n",
              "<style scoped>\n",
              "    .dataframe tbody tr th:only-of-type {\n",
              "        vertical-align: middle;\n",
              "    }\n",
              "\n",
              "    .dataframe tbody tr th {\n",
              "        vertical-align: top;\n",
              "    }\n",
              "\n",
              "    .dataframe thead th {\n",
              "        text-align: right;\n",
              "    }\n",
              "</style>\n",
              "<table border=\"1\" class=\"dataframe\">\n",
              "  <thead>\n",
              "    <tr style=\"text-align: right;\">\n",
              "      <th></th>\n",
              "      <th>Brand</th>\n",
              "      <th>Price</th>\n",
              "      <th>Body</th>\n",
              "      <th>Mileage</th>\n",
              "      <th>EngineV</th>\n",
              "      <th>Engine Type</th>\n",
              "      <th>Registration</th>\n",
              "      <th>Year</th>\n",
              "      <th>Model</th>\n",
              "      <th>New_col</th>\n",
              "    </tr>\n",
              "  </thead>\n",
              "  <tbody>\n",
              "    <tr>\n",
              "      <th>0</th>\n",
              "      <td>BMW</td>\n",
              "      <td>4200.0</td>\n",
              "      <td>sedan</td>\n",
              "      <td>277</td>\n",
              "      <td>2.0</td>\n",
              "      <td>Petrol</td>\n",
              "      <td>yes</td>\n",
              "      <td>1991</td>\n",
              "      <td>320</td>\n",
              "      <td>8400.0</td>\n",
              "    </tr>\n",
              "    <tr>\n",
              "      <th>1</th>\n",
              "      <td>Mercedes-Benz</td>\n",
              "      <td>7900.0</td>\n",
              "      <td>van</td>\n",
              "      <td>427</td>\n",
              "      <td>2.9</td>\n",
              "      <td>Diesel</td>\n",
              "      <td>yes</td>\n",
              "      <td>1999</td>\n",
              "      <td>Sprinter 212</td>\n",
              "      <td>15800.0</td>\n",
              "    </tr>\n",
              "    <tr>\n",
              "      <th>2</th>\n",
              "      <td>Mercedes-Benz</td>\n",
              "      <td>13300.0</td>\n",
              "      <td>sedan</td>\n",
              "      <td>358</td>\n",
              "      <td>5.0</td>\n",
              "      <td>Gas</td>\n",
              "      <td>yes</td>\n",
              "      <td>2003</td>\n",
              "      <td>S 500</td>\n",
              "      <td>26600.0</td>\n",
              "    </tr>\n",
              "    <tr>\n",
              "      <th>3</th>\n",
              "      <td>Audi</td>\n",
              "      <td>23000.0</td>\n",
              "      <td>crossover</td>\n",
              "      <td>240</td>\n",
              "      <td>4.2</td>\n",
              "      <td>Petrol</td>\n",
              "      <td>yes</td>\n",
              "      <td>2007</td>\n",
              "      <td>Q7</td>\n",
              "      <td>46000.0</td>\n",
              "    </tr>\n",
              "    <tr>\n",
              "      <th>4</th>\n",
              "      <td>Toyota</td>\n",
              "      <td>18300.0</td>\n",
              "      <td>crossover</td>\n",
              "      <td>120</td>\n",
              "      <td>2.0</td>\n",
              "      <td>Petrol</td>\n",
              "      <td>yes</td>\n",
              "      <td>2011</td>\n",
              "      <td>Rav 4</td>\n",
              "      <td>36600.0</td>\n",
              "    </tr>\n",
              "    <tr>\n",
              "      <th>...</th>\n",
              "      <td>...</td>\n",
              "      <td>...</td>\n",
              "      <td>...</td>\n",
              "      <td>...</td>\n",
              "      <td>...</td>\n",
              "      <td>...</td>\n",
              "      <td>...</td>\n",
              "      <td>...</td>\n",
              "      <td>...</td>\n",
              "      <td>...</td>\n",
              "    </tr>\n",
              "    <tr>\n",
              "      <th>4340</th>\n",
              "      <td>Mercedes-Benz</td>\n",
              "      <td>125000.0</td>\n",
              "      <td>sedan</td>\n",
              "      <td>9</td>\n",
              "      <td>3.0</td>\n",
              "      <td>Diesel</td>\n",
              "      <td>yes</td>\n",
              "      <td>2014</td>\n",
              "      <td>S 350</td>\n",
              "      <td>250000.0</td>\n",
              "    </tr>\n",
              "    <tr>\n",
              "      <th>4341</th>\n",
              "      <td>BMW</td>\n",
              "      <td>6500.0</td>\n",
              "      <td>sedan</td>\n",
              "      <td>1</td>\n",
              "      <td>3.5</td>\n",
              "      <td>Petrol</td>\n",
              "      <td>yes</td>\n",
              "      <td>1999</td>\n",
              "      <td>535</td>\n",
              "      <td>13000.0</td>\n",
              "    </tr>\n",
              "    <tr>\n",
              "      <th>4342</th>\n",
              "      <td>BMW</td>\n",
              "      <td>8000.0</td>\n",
              "      <td>sedan</td>\n",
              "      <td>194</td>\n",
              "      <td>2.0</td>\n",
              "      <td>Petrol</td>\n",
              "      <td>yes</td>\n",
              "      <td>1985</td>\n",
              "      <td>520</td>\n",
              "      <td>16000.0</td>\n",
              "    </tr>\n",
              "    <tr>\n",
              "      <th>4343</th>\n",
              "      <td>Toyota</td>\n",
              "      <td>14200.0</td>\n",
              "      <td>sedan</td>\n",
              "      <td>31</td>\n",
              "      <td>NaN</td>\n",
              "      <td>Petrol</td>\n",
              "      <td>yes</td>\n",
              "      <td>2014</td>\n",
              "      <td>Corolla</td>\n",
              "      <td>28400.0</td>\n",
              "    </tr>\n",
              "    <tr>\n",
              "      <th>4344</th>\n",
              "      <td>Volkswagen</td>\n",
              "      <td>13500.0</td>\n",
              "      <td>van</td>\n",
              "      <td>124</td>\n",
              "      <td>2.0</td>\n",
              "      <td>Diesel</td>\n",
              "      <td>yes</td>\n",
              "      <td>2013</td>\n",
              "      <td>T5 (Transporter)</td>\n",
              "      <td>27000.0</td>\n",
              "    </tr>\n",
              "  </tbody>\n",
              "</table>\n",
              "<p>4345 rows × 10 columns</p>\n",
              "</div>"
            ],
            "text/plain": [
              "              Brand     Price       Body  ...  Year              Model   New_col\n",
              "0               BMW    4200.0      sedan  ...  1991                320    8400.0\n",
              "1     Mercedes-Benz    7900.0        van  ...  1999       Sprinter 212   15800.0\n",
              "2     Mercedes-Benz   13300.0      sedan  ...  2003              S 500   26600.0\n",
              "3              Audi   23000.0  crossover  ...  2007                 Q7   46000.0\n",
              "4            Toyota   18300.0  crossover  ...  2011              Rav 4   36600.0\n",
              "...             ...       ...        ...  ...   ...                ...       ...\n",
              "4340  Mercedes-Benz  125000.0      sedan  ...  2014              S 350  250000.0\n",
              "4341            BMW    6500.0      sedan  ...  1999                535   13000.0\n",
              "4342            BMW    8000.0      sedan  ...  1985                520   16000.0\n",
              "4343         Toyota   14200.0      sedan  ...  2014            Corolla   28400.0\n",
              "4344     Volkswagen   13500.0        van  ...  2013  T5 (Transporter)    27000.0\n",
              "\n",
              "[4345 rows x 10 columns]"
            ]
          },
          "metadata": {
            "tags": []
          },
          "execution_count": 19
        }
      ]
    },
    {
      "cell_type": "markdown",
      "metadata": {
        "id": "mTNY67OlBOAT"
      },
      "source": [
        "#How do I delete a column from the dataset?"
      ]
    },
    {
      "cell_type": "code",
      "metadata": {
        "id": "1Stont_kAGVA",
        "colab": {
          "base_uri": "https://localhost:8080/",
          "height": 402
        },
        "outputId": "bffb8444-e32a-4083-85d1-760340465b6b"
      },
      "source": [
        "data.drop(columns=['New_col'])"
      ],
      "execution_count": null,
      "outputs": [
        {
          "output_type": "execute_result",
          "data": {
            "text/html": [
              "<div>\n",
              "<style scoped>\n",
              "    .dataframe tbody tr th:only-of-type {\n",
              "        vertical-align: middle;\n",
              "    }\n",
              "\n",
              "    .dataframe tbody tr th {\n",
              "        vertical-align: top;\n",
              "    }\n",
              "\n",
              "    .dataframe thead th {\n",
              "        text-align: right;\n",
              "    }\n",
              "</style>\n",
              "<table border=\"1\" class=\"dataframe\">\n",
              "  <thead>\n",
              "    <tr style=\"text-align: right;\">\n",
              "      <th></th>\n",
              "      <th>Brand</th>\n",
              "      <th>Price</th>\n",
              "      <th>Body</th>\n",
              "      <th>Mileage</th>\n",
              "      <th>EngineV</th>\n",
              "      <th>Engine Type</th>\n",
              "      <th>Registration</th>\n",
              "      <th>Year</th>\n",
              "      <th>Model</th>\n",
              "    </tr>\n",
              "  </thead>\n",
              "  <tbody>\n",
              "    <tr>\n",
              "      <th>0</th>\n",
              "      <td>BMW</td>\n",
              "      <td>4200.0</td>\n",
              "      <td>sedan</td>\n",
              "      <td>277</td>\n",
              "      <td>2.0</td>\n",
              "      <td>Petrol</td>\n",
              "      <td>yes</td>\n",
              "      <td>1991</td>\n",
              "      <td>320</td>\n",
              "    </tr>\n",
              "    <tr>\n",
              "      <th>1</th>\n",
              "      <td>Mercedes-Benz</td>\n",
              "      <td>7900.0</td>\n",
              "      <td>van</td>\n",
              "      <td>427</td>\n",
              "      <td>2.9</td>\n",
              "      <td>Diesel</td>\n",
              "      <td>yes</td>\n",
              "      <td>1999</td>\n",
              "      <td>Sprinter 212</td>\n",
              "    </tr>\n",
              "    <tr>\n",
              "      <th>2</th>\n",
              "      <td>Mercedes-Benz</td>\n",
              "      <td>13300.0</td>\n",
              "      <td>sedan</td>\n",
              "      <td>358</td>\n",
              "      <td>5.0</td>\n",
              "      <td>Gas</td>\n",
              "      <td>yes</td>\n",
              "      <td>2003</td>\n",
              "      <td>S 500</td>\n",
              "    </tr>\n",
              "    <tr>\n",
              "      <th>3</th>\n",
              "      <td>Audi</td>\n",
              "      <td>23000.0</td>\n",
              "      <td>crossover</td>\n",
              "      <td>240</td>\n",
              "      <td>4.2</td>\n",
              "      <td>Petrol</td>\n",
              "      <td>yes</td>\n",
              "      <td>2007</td>\n",
              "      <td>Q7</td>\n",
              "    </tr>\n",
              "    <tr>\n",
              "      <th>4</th>\n",
              "      <td>Toyota</td>\n",
              "      <td>18300.0</td>\n",
              "      <td>crossover</td>\n",
              "      <td>120</td>\n",
              "      <td>2.0</td>\n",
              "      <td>Petrol</td>\n",
              "      <td>yes</td>\n",
              "      <td>2011</td>\n",
              "      <td>Rav 4</td>\n",
              "    </tr>\n",
              "    <tr>\n",
              "      <th>...</th>\n",
              "      <td>...</td>\n",
              "      <td>...</td>\n",
              "      <td>...</td>\n",
              "      <td>...</td>\n",
              "      <td>...</td>\n",
              "      <td>...</td>\n",
              "      <td>...</td>\n",
              "      <td>...</td>\n",
              "      <td>...</td>\n",
              "    </tr>\n",
              "    <tr>\n",
              "      <th>4340</th>\n",
              "      <td>Mercedes-Benz</td>\n",
              "      <td>125000.0</td>\n",
              "      <td>sedan</td>\n",
              "      <td>9</td>\n",
              "      <td>3.0</td>\n",
              "      <td>Diesel</td>\n",
              "      <td>yes</td>\n",
              "      <td>2014</td>\n",
              "      <td>S 350</td>\n",
              "    </tr>\n",
              "    <tr>\n",
              "      <th>4341</th>\n",
              "      <td>BMW</td>\n",
              "      <td>6500.0</td>\n",
              "      <td>sedan</td>\n",
              "      <td>1</td>\n",
              "      <td>3.5</td>\n",
              "      <td>Petrol</td>\n",
              "      <td>yes</td>\n",
              "      <td>1999</td>\n",
              "      <td>535</td>\n",
              "    </tr>\n",
              "    <tr>\n",
              "      <th>4342</th>\n",
              "      <td>BMW</td>\n",
              "      <td>8000.0</td>\n",
              "      <td>sedan</td>\n",
              "      <td>194</td>\n",
              "      <td>2.0</td>\n",
              "      <td>Petrol</td>\n",
              "      <td>yes</td>\n",
              "      <td>1985</td>\n",
              "      <td>520</td>\n",
              "    </tr>\n",
              "    <tr>\n",
              "      <th>4343</th>\n",
              "      <td>Toyota</td>\n",
              "      <td>14200.0</td>\n",
              "      <td>sedan</td>\n",
              "      <td>31</td>\n",
              "      <td>NaN</td>\n",
              "      <td>Petrol</td>\n",
              "      <td>yes</td>\n",
              "      <td>2014</td>\n",
              "      <td>Corolla</td>\n",
              "    </tr>\n",
              "    <tr>\n",
              "      <th>4344</th>\n",
              "      <td>Volkswagen</td>\n",
              "      <td>13500.0</td>\n",
              "      <td>van</td>\n",
              "      <td>124</td>\n",
              "      <td>2.0</td>\n",
              "      <td>Diesel</td>\n",
              "      <td>yes</td>\n",
              "      <td>2013</td>\n",
              "      <td>T5 (Transporter)</td>\n",
              "    </tr>\n",
              "  </tbody>\n",
              "</table>\n",
              "<p>4345 rows × 9 columns</p>\n",
              "</div>"
            ],
            "text/plain": [
              "              Brand     Price       Body  ...  Registration  Year              Model\n",
              "0               BMW    4200.0      sedan  ...           yes  1991                320\n",
              "1     Mercedes-Benz    7900.0        van  ...           yes  1999       Sprinter 212\n",
              "2     Mercedes-Benz   13300.0      sedan  ...           yes  2003              S 500\n",
              "3              Audi   23000.0  crossover  ...           yes  2007                 Q7\n",
              "4            Toyota   18300.0  crossover  ...           yes  2011              Rav 4\n",
              "...             ...       ...        ...  ...           ...   ...                ...\n",
              "4340  Mercedes-Benz  125000.0      sedan  ...           yes  2014              S 350\n",
              "4341            BMW    6500.0      sedan  ...           yes  1999                535\n",
              "4342            BMW    8000.0      sedan  ...           yes  1985                520\n",
              "4343         Toyota   14200.0      sedan  ...           yes  2014            Corolla\n",
              "4344     Volkswagen   13500.0        van  ...           yes  2013  T5 (Transporter) \n",
              "\n",
              "[4345 rows x 9 columns]"
            ]
          },
          "metadata": {
            "tags": []
          },
          "execution_count": 39
        }
      ]
    },
    {
      "cell_type": "markdown",
      "metadata": {
        "id": "qDSNcHRl3JfM"
      },
      "source": [
        "\n",
        "## How do I drop rows with atleast one nan value from the dataset?"
      ]
    },
    {
      "cell_type": "code",
      "metadata": {
        "id": "LsnQcujX3Ikw",
        "colab": {
          "base_uri": "https://localhost:8080/",
          "height": 402
        },
        "outputId": "8f2fae85-3ec6-4a45-dbd8-73f582be0ed2"
      },
      "source": [
        "data.dropna()"
      ],
      "execution_count": null,
      "outputs": [
        {
          "output_type": "execute_result",
          "data": {
            "text/html": [
              "<div>\n",
              "<style scoped>\n",
              "    .dataframe tbody tr th:only-of-type {\n",
              "        vertical-align: middle;\n",
              "    }\n",
              "\n",
              "    .dataframe tbody tr th {\n",
              "        vertical-align: top;\n",
              "    }\n",
              "\n",
              "    .dataframe thead th {\n",
              "        text-align: right;\n",
              "    }\n",
              "</style>\n",
              "<table border=\"1\" class=\"dataframe\">\n",
              "  <thead>\n",
              "    <tr style=\"text-align: right;\">\n",
              "      <th></th>\n",
              "      <th>Brand</th>\n",
              "      <th>Price</th>\n",
              "      <th>Body</th>\n",
              "      <th>Mileage</th>\n",
              "      <th>EngineV</th>\n",
              "      <th>Engine Type</th>\n",
              "      <th>Registration</th>\n",
              "      <th>Year</th>\n",
              "      <th>Model</th>\n",
              "    </tr>\n",
              "  </thead>\n",
              "  <tbody>\n",
              "    <tr>\n",
              "      <th>0</th>\n",
              "      <td>BMW</td>\n",
              "      <td>4200.0</td>\n",
              "      <td>sedan</td>\n",
              "      <td>277</td>\n",
              "      <td>2.0</td>\n",
              "      <td>Petrol</td>\n",
              "      <td>yes</td>\n",
              "      <td>1991</td>\n",
              "      <td>320</td>\n",
              "    </tr>\n",
              "    <tr>\n",
              "      <th>1</th>\n",
              "      <td>Mercedes-Benz</td>\n",
              "      <td>7900.0</td>\n",
              "      <td>van</td>\n",
              "      <td>427</td>\n",
              "      <td>2.9</td>\n",
              "      <td>Diesel</td>\n",
              "      <td>yes</td>\n",
              "      <td>1999</td>\n",
              "      <td>Sprinter 212</td>\n",
              "    </tr>\n",
              "    <tr>\n",
              "      <th>2</th>\n",
              "      <td>Mercedes-Benz</td>\n",
              "      <td>13300.0</td>\n",
              "      <td>sedan</td>\n",
              "      <td>358</td>\n",
              "      <td>5.0</td>\n",
              "      <td>Gas</td>\n",
              "      <td>yes</td>\n",
              "      <td>2003</td>\n",
              "      <td>S 500</td>\n",
              "    </tr>\n",
              "    <tr>\n",
              "      <th>3</th>\n",
              "      <td>Audi</td>\n",
              "      <td>23000.0</td>\n",
              "      <td>crossover</td>\n",
              "      <td>240</td>\n",
              "      <td>4.2</td>\n",
              "      <td>Petrol</td>\n",
              "      <td>yes</td>\n",
              "      <td>2007</td>\n",
              "      <td>Q7</td>\n",
              "    </tr>\n",
              "    <tr>\n",
              "      <th>4</th>\n",
              "      <td>Toyota</td>\n",
              "      <td>18300.0</td>\n",
              "      <td>crossover</td>\n",
              "      <td>120</td>\n",
              "      <td>2.0</td>\n",
              "      <td>Petrol</td>\n",
              "      <td>yes</td>\n",
              "      <td>2011</td>\n",
              "      <td>Rav 4</td>\n",
              "    </tr>\n",
              "    <tr>\n",
              "      <th>...</th>\n",
              "      <td>...</td>\n",
              "      <td>...</td>\n",
              "      <td>...</td>\n",
              "      <td>...</td>\n",
              "      <td>...</td>\n",
              "      <td>...</td>\n",
              "      <td>...</td>\n",
              "      <td>...</td>\n",
              "      <td>...</td>\n",
              "    </tr>\n",
              "    <tr>\n",
              "      <th>4339</th>\n",
              "      <td>Toyota</td>\n",
              "      <td>17900.0</td>\n",
              "      <td>sedan</td>\n",
              "      <td>35</td>\n",
              "      <td>1.6</td>\n",
              "      <td>Petrol</td>\n",
              "      <td>yes</td>\n",
              "      <td>2014</td>\n",
              "      <td>Corolla</td>\n",
              "    </tr>\n",
              "    <tr>\n",
              "      <th>4340</th>\n",
              "      <td>Mercedes-Benz</td>\n",
              "      <td>125000.0</td>\n",
              "      <td>sedan</td>\n",
              "      <td>9</td>\n",
              "      <td>3.0</td>\n",
              "      <td>Diesel</td>\n",
              "      <td>yes</td>\n",
              "      <td>2014</td>\n",
              "      <td>S 350</td>\n",
              "    </tr>\n",
              "    <tr>\n",
              "      <th>4341</th>\n",
              "      <td>BMW</td>\n",
              "      <td>6500.0</td>\n",
              "      <td>sedan</td>\n",
              "      <td>1</td>\n",
              "      <td>3.5</td>\n",
              "      <td>Petrol</td>\n",
              "      <td>yes</td>\n",
              "      <td>1999</td>\n",
              "      <td>535</td>\n",
              "    </tr>\n",
              "    <tr>\n",
              "      <th>4342</th>\n",
              "      <td>BMW</td>\n",
              "      <td>8000.0</td>\n",
              "      <td>sedan</td>\n",
              "      <td>194</td>\n",
              "      <td>2.0</td>\n",
              "      <td>Petrol</td>\n",
              "      <td>yes</td>\n",
              "      <td>1985</td>\n",
              "      <td>520</td>\n",
              "    </tr>\n",
              "    <tr>\n",
              "      <th>4344</th>\n",
              "      <td>Volkswagen</td>\n",
              "      <td>13500.0</td>\n",
              "      <td>van</td>\n",
              "      <td>124</td>\n",
              "      <td>2.0</td>\n",
              "      <td>Diesel</td>\n",
              "      <td>yes</td>\n",
              "      <td>2013</td>\n",
              "      <td>T5 (Transporter)</td>\n",
              "    </tr>\n",
              "  </tbody>\n",
              "</table>\n",
              "<p>4025 rows × 9 columns</p>\n",
              "</div>"
            ],
            "text/plain": [
              "              Brand     Price       Body  ...  Registration  Year              Model\n",
              "0               BMW    4200.0      sedan  ...           yes  1991                320\n",
              "1     Mercedes-Benz    7900.0        van  ...           yes  1999       Sprinter 212\n",
              "2     Mercedes-Benz   13300.0      sedan  ...           yes  2003              S 500\n",
              "3              Audi   23000.0  crossover  ...           yes  2007                 Q7\n",
              "4            Toyota   18300.0  crossover  ...           yes  2011              Rav 4\n",
              "...             ...       ...        ...  ...           ...   ...                ...\n",
              "4339         Toyota   17900.0      sedan  ...           yes  2014            Corolla\n",
              "4340  Mercedes-Benz  125000.0      sedan  ...           yes  2014              S 350\n",
              "4341            BMW    6500.0      sedan  ...           yes  1999                535\n",
              "4342            BMW    8000.0      sedan  ...           yes  1985                520\n",
              "4344     Volkswagen   13500.0        van  ...           yes  2013  T5 (Transporter) \n",
              "\n",
              "[4025 rows x 9 columns]"
            ]
          },
          "metadata": {
            "tags": []
          },
          "execution_count": 18
        }
      ]
    },
    {
      "cell_type": "markdown",
      "metadata": {
        "id": "gyXMW--s3UAm"
      },
      "source": [
        "#Can I implement Linear Regression on my dataset so that I can predict the Price based on Year?"
      ]
    },
    {
      "cell_type": "code",
      "metadata": {
        "id": "44p6L0XlgBCh",
        "colab": {
          "base_uri": "https://localhost:8080/",
          "height": 296
        },
        "outputId": "92a95d14-2965-4da9-db5d-3cd1db66b396"
      },
      "source": [
        "import seaborn as sns\n",
        "sns.scatterplot( data=data, x='Year',y='Price')"
      ],
      "execution_count": null,
      "outputs": [
        {
          "output_type": "execute_result",
          "data": {
            "text/plain": [
              "<matplotlib.axes._subplots.AxesSubplot at 0x7fe6606c1ba8>"
            ]
          },
          "metadata": {
            "tags": []
          },
          "execution_count": 9
        },
        {
          "output_type": "display_data",
          "data": {
            "image/png": "[encoded data removed]",
            "text/plain": [
              "<Figure size 432x288 with 1 Axes>"
            ]
          },
          "metadata": {
            "tags": [],
            "needs_background": "light"
          }
        }
      ]
    },
    {
      "cell_type": "markdown",
      "metadata": {
        "id": "0Hp68kWMgUEE"
      },
      "source": [
        "Since the scatterplot is non-linear in nature, Linear Regression should not be used as a predictive model."
      ]
    },
    {
      "cell_type": "markdown",
      "metadata": {
        "id": "dRvx3rxdm-rF"
      },
      "source": [
        "#How can I find average numerical values in the dataset grouped by Year and Brand?"
      ]
    },
    {
      "cell_type": "code",
      "metadata": {
        "id": "4HoFejQSiWav",
        "colab": {
          "base_uri": "https://localhost:8080/",
          "height": 431
        },
        "outputId": "e499247b-94b7-4dc6-b87f-44be676778a8"
      },
      "source": [
        "data.groupby(['Year','Brand']).mean()\n"
      ],
      "execution_count": null,
      "outputs": [
        {
          "output_type": "execute_result",
          "data": {
            "text/html": [
              "<div>\n",
              "<style scoped>\n",
              "    .dataframe tbody tr th:only-of-type {\n",
              "        vertical-align: middle;\n",
              "    }\n",
              "\n",
              "    .dataframe tbody tr th {\n",
              "        vertical-align: top;\n",
              "    }\n",
              "\n",
              "    .dataframe thead th {\n",
              "        text-align: right;\n",
              "    }\n",
              "</style>\n",
              "<table border=\"1\" class=\"dataframe\">\n",
              "  <thead>\n",
              "    <tr style=\"text-align: right;\">\n",
              "      <th></th>\n",
              "      <th></th>\n",
              "      <th>Price</th>\n",
              "      <th>Mileage</th>\n",
              "      <th>EngineV</th>\n",
              "    </tr>\n",
              "    <tr>\n",
              "      <th>Year</th>\n",
              "      <th>Brand</th>\n",
              "      <th></th>\n",
              "      <th></th>\n",
              "      <th></th>\n",
              "    </tr>\n",
              "  </thead>\n",
              "  <tbody>\n",
              "    <tr>\n",
              "      <th>1969</th>\n",
              "      <th>Mercedes-Benz</th>\n",
              "      <td>34999.000000</td>\n",
              "      <td>150.000000</td>\n",
              "      <td>2.800000</td>\n",
              "    </tr>\n",
              "    <tr>\n",
              "      <th>1978</th>\n",
              "      <th>Mercedes-Benz</th>\n",
              "      <td>3900.000000</td>\n",
              "      <td>350.500000</td>\n",
              "      <td>2.150000</td>\n",
              "    </tr>\n",
              "    <tr>\n",
              "      <th rowspan=\"2\" valign=\"top\">1979</th>\n",
              "      <th>Mercedes-Benz</th>\n",
              "      <td>2470.000000</td>\n",
              "      <td>150.500000</td>\n",
              "      <td>2.400000</td>\n",
              "    </tr>\n",
              "    <tr>\n",
              "      <th>Toyota</th>\n",
              "      <td>600.000000</td>\n",
              "      <td>10.000000</td>\n",
              "      <td>1.500000</td>\n",
              "    </tr>\n",
              "    <tr>\n",
              "      <th>1980</th>\n",
              "      <th>Audi</th>\n",
              "      <td>600.000000</td>\n",
              "      <td>112.000000</td>\n",
              "      <td>1.600000</td>\n",
              "    </tr>\n",
              "    <tr>\n",
              "      <th>...</th>\n",
              "      <th>...</th>\n",
              "      <td>...</td>\n",
              "      <td>...</td>\n",
              "      <td>...</td>\n",
              "    </tr>\n",
              "    <tr>\n",
              "      <th rowspan=\"5\" valign=\"top\">2016</th>\n",
              "      <th>Mercedes-Benz</th>\n",
              "      <td>117668.417910</td>\n",
              "      <td>0.333333</td>\n",
              "      <td>3.227033</td>\n",
              "    </tr>\n",
              "    <tr>\n",
              "      <th>Mitsubishi</th>\n",
              "      <td>32590.905000</td>\n",
              "      <td>0.300000</td>\n",
              "      <td>2.300000</td>\n",
              "    </tr>\n",
              "    <tr>\n",
              "      <th>Renault</th>\n",
              "      <td>16215.531429</td>\n",
              "      <td>1.571429</td>\n",
              "      <td>1.435714</td>\n",
              "    </tr>\n",
              "    <tr>\n",
              "      <th>Toyota</th>\n",
              "      <td>64986.191563</td>\n",
              "      <td>0.975000</td>\n",
              "      <td>3.410750</td>\n",
              "    </tr>\n",
              "    <tr>\n",
              "      <th>Volkswagen</th>\n",
              "      <td>32051.840323</td>\n",
              "      <td>2.838710</td>\n",
              "      <td>1.909677</td>\n",
              "    </tr>\n",
              "  </tbody>\n",
              "</table>\n",
              "<p>225 rows × 3 columns</p>\n",
              "</div>"
            ],
            "text/plain": [
              "                            Price     Mileage   EngineV\n",
              "Year Brand                                             \n",
              "1969 Mercedes-Benz   34999.000000  150.000000  2.800000\n",
              "1978 Mercedes-Benz    3900.000000  350.500000  2.150000\n",
              "1979 Mercedes-Benz    2470.000000  150.500000  2.400000\n",
              "     Toyota            600.000000   10.000000  1.500000\n",
              "1980 Audi              600.000000  112.000000  1.600000\n",
              "...                           ...         ...       ...\n",
              "2016 Mercedes-Benz  117668.417910    0.333333  3.227033\n",
              "     Mitsubishi      32590.905000    0.300000  2.300000\n",
              "     Renault         16215.531429    1.571429  1.435714\n",
              "     Toyota          64986.191563    0.975000  3.410750\n",
              "     Volkswagen      32051.840323    2.838710  1.909677\n",
              "\n",
              "[225 rows x 3 columns]"
            ]
          },
          "metadata": {
            "tags": []
          },
          "execution_count": 36
        }
      ]
    },
    {
      "cell_type": "markdown",
      "metadata": {
        "id": "OwqYpvIDn1gq"
      },
      "source": [
        "# How can I see the above data row-wise?"
      ]
    },
    {
      "cell_type": "code",
      "metadata": {
        "id": "UFxFlD0AoCOO",
        "colab": {
          "base_uri": "https://localhost:8080/",
          "height": 373
        },
        "outputId": "1f4462a6-3d1e-44a7-c033-7f7ba56c9463"
      },
      "source": [
        "d=data.groupby(['Year','Brand']).mean()\n",
        "d[0:10]"
      ],
      "execution_count": null,
      "outputs": [
        {
          "output_type": "execute_result",
          "data": {
            "text/html": [
              "<div>\n",
              "<style scoped>\n",
              "    .dataframe tbody tr th:only-of-type {\n",
              "        vertical-align: middle;\n",
              "    }\n",
              "\n",
              "    .dataframe tbody tr th {\n",
              "        vertical-align: top;\n",
              "    }\n",
              "\n",
              "    .dataframe thead th {\n",
              "        text-align: right;\n",
              "    }\n",
              "</style>\n",
              "<table border=\"1\" class=\"dataframe\">\n",
              "  <thead>\n",
              "    <tr style=\"text-align: right;\">\n",
              "      <th></th>\n",
              "      <th></th>\n",
              "      <th>Price</th>\n",
              "      <th>Mileage</th>\n",
              "      <th>EngineV</th>\n",
              "    </tr>\n",
              "    <tr>\n",
              "      <th>Year</th>\n",
              "      <th>Brand</th>\n",
              "      <th></th>\n",
              "      <th></th>\n",
              "      <th></th>\n",
              "    </tr>\n",
              "  </thead>\n",
              "  <tbody>\n",
              "    <tr>\n",
              "      <th>1969</th>\n",
              "      <th>Mercedes-Benz</th>\n",
              "      <td>34999.00</td>\n",
              "      <td>150.0</td>\n",
              "      <td>2.80</td>\n",
              "    </tr>\n",
              "    <tr>\n",
              "      <th>1978</th>\n",
              "      <th>Mercedes-Benz</th>\n",
              "      <td>3900.00</td>\n",
              "      <td>350.5</td>\n",
              "      <td>2.15</td>\n",
              "    </tr>\n",
              "    <tr>\n",
              "      <th rowspan=\"2\" valign=\"top\">1979</th>\n",
              "      <th>Mercedes-Benz</th>\n",
              "      <td>2470.00</td>\n",
              "      <td>150.5</td>\n",
              "      <td>2.40</td>\n",
              "    </tr>\n",
              "    <tr>\n",
              "      <th>Toyota</th>\n",
              "      <td>600.00</td>\n",
              "      <td>10.0</td>\n",
              "      <td>1.50</td>\n",
              "    </tr>\n",
              "    <tr>\n",
              "      <th rowspan=\"3\" valign=\"top\">1980</th>\n",
              "      <th>Audi</th>\n",
              "      <td>600.00</td>\n",
              "      <td>112.0</td>\n",
              "      <td>1.60</td>\n",
              "    </tr>\n",
              "    <tr>\n",
              "      <th>Mercedes-Benz</th>\n",
              "      <td>7777.00</td>\n",
              "      <td>230.0</td>\n",
              "      <td>2.80</td>\n",
              "    </tr>\n",
              "    <tr>\n",
              "      <th>Volkswagen</th>\n",
              "      <td>1296.75</td>\n",
              "      <td>1.0</td>\n",
              "      <td>1.60</td>\n",
              "    </tr>\n",
              "    <tr>\n",
              "      <th>1982</th>\n",
              "      <th>Volkswagen</th>\n",
              "      <td>1950.00</td>\n",
              "      <td>94.0</td>\n",
              "      <td>1.10</td>\n",
              "    </tr>\n",
              "    <tr>\n",
              "      <th rowspan=\"2\" valign=\"top\">1983</th>\n",
              "      <th>BMW</th>\n",
              "      <td>3700.00</td>\n",
              "      <td>110.0</td>\n",
              "      <td>2.50</td>\n",
              "    </tr>\n",
              "    <tr>\n",
              "      <th>Mercedes-Benz</th>\n",
              "      <td>2400.00</td>\n",
              "      <td>237.0</td>\n",
              "      <td>3.80</td>\n",
              "    </tr>\n",
              "  </tbody>\n",
              "</table>\n",
              "</div>"
            ],
            "text/plain": [
              "                       Price  Mileage  EngineV\n",
              "Year Brand                                    \n",
              "1969 Mercedes-Benz  34999.00    150.0     2.80\n",
              "1978 Mercedes-Benz   3900.00    350.5     2.15\n",
              "1979 Mercedes-Benz   2470.00    150.5     2.40\n",
              "     Toyota           600.00     10.0     1.50\n",
              "1980 Audi             600.00    112.0     1.60\n",
              "     Mercedes-Benz   7777.00    230.0     2.80\n",
              "     Volkswagen      1296.75      1.0     1.60\n",
              "1982 Volkswagen      1950.00     94.0     1.10\n",
              "1983 BMW             3700.00    110.0     2.50\n",
              "     Mercedes-Benz   2400.00    237.0     3.80"
            ]
          },
          "metadata": {
            "tags": []
          },
          "execution_count": 38
        }
      ]
    },
    {
      "cell_type": "markdown",
      "metadata": {
        "id": "VuLTF-nY21I_"
      },
      "source": [
        "# How can I plot the relationship between Year and Price?"
      ]
    },
    {
      "cell_type": "code",
      "metadata": {
        "colab": {
          "base_uri": "https://localhost:8080/",
          "height": 383
        },
        "id": "MQRp7PD72_t9",
        "outputId": "371ea468-2ae0-41b3-9221-fa3e8e80effb"
      },
      "source": [
        "sns.relplot(x=data[\"Year\"], y=data[\"Price\"], data=data);"
      ],
      "execution_count": null,
      "outputs": [
        {
          "output_type": "display_data",
          "data": {
            "image/png": "[encoded data removed]",
            "text/plain": [
              "<Figure size 360x360 with 1 Axes>"
            ]
          },
          "metadata": {
            "tags": [],
            "needs_background": "light"
          }
        }
      ]
    },
    {
      "cell_type": "markdown",
      "metadata": {
        "id": "dJo08RuE3j_-"
      },
      "source": [
        "#How can I plot the relationship between Brand and Price?"
      ]
    },
    {
      "cell_type": "code",
      "metadata": {
        "colab": {
          "base_uri": "https://localhost:8080/",
          "height": 383
        },
        "id": "yQC8xDtR3vQu",
        "outputId": "7d1e7e48-d810-4e91-8e6a-5323dc7c1988"
      },
      "source": [
        "sns.relplot(x=data[\"Brand\"], y=data[\"Price\"], data=data);"
      ],
      "execution_count": null,
      "outputs": [
        {
          "output_type": "display_data",
          "data": {
            "image/png": "[encoded data removed]",
            "text/plain": [
              "<Figure size 360x360 with 1 Axes>"
            ]
          },
          "metadata": {
            "tags": [],
            "needs_background": "light"
          }
        }
      ]
    },
    {
      "cell_type": "markdown",
      "metadata": {
        "id": "hxOEcaBa4QPs"
      },
      "source": [
        "#How can I plot the relationship between Engine Type and Price? or Which Engine Type has fetched maximum resale price?"
      ]
    },
    {
      "cell_type": "code",
      "metadata": {
        "colab": {
          "base_uri": "https://localhost:8080/",
          "height": 383
        },
        "id": "BRwzf5r44HpA",
        "outputId": "975aabdf-2f4b-45ae-c6f2-15ce22e84ab9"
      },
      "source": [
        "sns.relplot(x=data[\"Engine Type\"], y=data[\"Price\"], data=data);"
      ],
      "execution_count": null,
      "outputs": [
        {
          "output_type": "display_data",
          "data": {
            "image/png": "[encoded data removed]",
            "text/plain": [
              "<Figure size 360x360 with 1 Axes>"
            ]
          },
          "metadata": {
            "tags": [],
            "needs_background": "light"
          }
        }
      ]
    },
    {
      "cell_type": "markdown",
      "metadata": {
        "id": "xfPN1Eu34iKc"
      },
      "source": [
        "Petrol Engine Type has fetched maximum resale price."
      ]
    },
    {
      "cell_type": "markdown",
      "metadata": {
        "id": "nZMNYZ168MTX"
      },
      "source": [
        "#48)How can I compare the registration status of various Engine Types and Brands?"
      ]
    },
    {
      "cell_type": "code",
      "metadata": {
        "colab": {
          "base_uri": "https://localhost:8080/",
          "height": 403
        },
        "id": "dkUdkrNE8ZzB",
        "outputId": "d41715a6-c6c3-4b4f-bf69-1102dd85c645"
      },
      "source": [
        "sns.relplot(x=data[\"Brand\"], y=data[\"Price\"], hue=data[\"Registration\"],\r\n",
        "            col=data[\"Engine Type\"], data=data);"
      ],
      "execution_count": null,
      "outputs": [
        {
          "output_type": "display_data",
          "data": {
            "image/png": "[encoded data removed]",
            "text/plain": [
              "<Figure size 1508.25x360 with 4 Axes>"
            ]
          },
          "metadata": {
            "tags": [],
            "needs_background": "light"
          }
        }
      ]
    }
  ]
}