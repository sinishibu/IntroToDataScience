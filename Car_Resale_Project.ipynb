{
  "nbformat": 4,
  "nbformat_minor": 0,
  "metadata": {
    "colab": {
      "name": "Car Resale Project.ipynb",
      "provenance": [],
      "include_colab_link": true
    },
    "kernelspec": {
      "name": "python3",
      "display_name": "Python 3"
    }
  },
  "cells": [
    {
      "cell_type": "markdown",
      "metadata": {
        "id": "view-in-github",
        "colab_type": "text"
      },
      "source": [
        "<a href=\"https://colab.research.google.com/github/sinishibu/IntroToDataScience/blob/master/Car_Resale_Project.ipynb\" target=\"_parent\"><img src=\"https://colab.research.google.com/assets/colab-badge.svg\" alt=\"Open In Colab\"/></a>"
      ]
    },
    {
      "cell_type": "markdown",
      "metadata": {
        "id": "vcBwYUtb5S7X"
      },
      "source": [
        "#How can I store my Dataset for analysis?"
      ]
    },
    {
      "cell_type": "code",
      "metadata": {
        "id": "z8VhlOZo5Rka"
      },
      "source": [
        "import pandas as pd\n",
        "data=pd.read_csv(\"Car resale.csv\")"
      ],
      "execution_count": 1,
      "outputs": []
    },
    {
      "cell_type": "markdown",
      "metadata": {
        "id": "3AMEzeGZ6F3l"
      },
      "source": [
        "#How can I see the data in the Dataset?"
      ]
    },
    {
      "cell_type": "code",
      "metadata": {
        "id": "1V_0t8-56NkX",
        "colab": {
          "base_uri": "https://localhost:8080/",
          "height": 574
        },
        "outputId": "f86ec64c-93df-444f-cc8f-f07163c8905d"
      },
      "source": [
        "data"
      ],
      "execution_count": 2,
      "outputs": [
        {
          "output_type": "execute_result",
          "data": {
            "text/plain": [
              "              Brand     Price       Body  Mileage  EngineV Engine Type  \\\n",
              "0               BMW    4200.0      sedan      277      2.0      Petrol   \n",
              "1     Mercedes-Benz    7900.0        van      427      2.9      Diesel   \n",
              "2     Mercedes-Benz   13300.0      sedan      358      5.0         Gas   \n",
              "3              Audi   23000.0  crossover      240      4.2      Petrol   \n",
              "4            Toyota   18300.0  crossover      120      2.0      Petrol   \n",
              "...             ...       ...        ...      ...      ...         ...   \n",
              "4340  Mercedes-Benz  125000.0      sedan        9      3.0      Diesel   \n",
              "4341            BMW    6500.0      sedan        1      3.5      Petrol   \n",
              "4342            BMW    8000.0      sedan      194      2.0      Petrol   \n",
              "4343         Toyota   14200.0      sedan       31      NaN      Petrol   \n",
              "4344     Volkswagen   13500.0        van      124      2.0      Diesel   \n",
              "\n",
              "     Registration  Year              Model  \n",
              "0             yes  1991                320  \n",
              "1             yes  1999       Sprinter 212  \n",
              "2             yes  2003              S 500  \n",
              "3             yes  2007                 Q7  \n",
              "4             yes  2011              Rav 4  \n",
              "...           ...   ...                ...  \n",
              "4340          yes  2014              S 350  \n",
              "4341          yes  1999                535  \n",
              "4342          yes  1985                520  \n",
              "4343          yes  2014            Corolla  \n",
              "4344          yes  2013  T5 (Transporter)   \n",
              "\n",
              "[4345 rows x 9 columns]"
            ],
            "text/html": [
              "\n",
              "  <div id=\"df-9d1ee7b2-c16c-4704-b47a-1e8afa2bee52\">\n",
              "    <div class=\"colab-df-container\">\n",
              "      <div>\n",
              "<style scoped>\n",
              "    .dataframe tbody tr th:only-of-type {\n",
              "        vertical-align: middle;\n",
              "    }\n",
              "\n",
              "    .dataframe tbody tr th {\n",
              "        vertical-align: top;\n",
              "    }\n",
              "\n",
              "    .dataframe thead th {\n",
              "        text-align: right;\n",
              "    }\n",
              "</style>\n",
              "<table border=\"1\" class=\"dataframe\">\n",
              "  <thead>\n",
              "    <tr style=\"text-align: right;\">\n",
              "      <th></th>\n",
              "      <th>Brand</th>\n",
              "      <th>Price</th>\n",
              "      <th>Body</th>\n",
              "      <th>Mileage</th>\n",
              "      <th>EngineV</th>\n",
              "      <th>Engine Type</th>\n",
              "      <th>Registration</th>\n",
              "      <th>Year</th>\n",
              "      <th>Model</th>\n",
              "    </tr>\n",
              "  </thead>\n",
              "  <tbody>\n",
              "    <tr>\n",
              "      <th>0</th>\n",
              "      <td>BMW</td>\n",
              "      <td>4200.0</td>\n",
              "      <td>sedan</td>\n",
              "      <td>277</td>\n",
              "      <td>2.0</td>\n",
              "      <td>Petrol</td>\n",
              "      <td>yes</td>\n",
              "      <td>1991</td>\n",
              "      <td>320</td>\n",
              "    </tr>\n",
              "    <tr>\n",
              "      <th>1</th>\n",
              "      <td>Mercedes-Benz</td>\n",
              "      <td>7900.0</td>\n",
              "      <td>van</td>\n",
              "      <td>427</td>\n",
              "      <td>2.9</td>\n",
              "      <td>Diesel</td>\n",
              "      <td>yes</td>\n",
              "      <td>1999</td>\n",
              "      <td>Sprinter 212</td>\n",
              "    </tr>\n",
              "    <tr>\n",
              "      <th>2</th>\n",
              "      <td>Mercedes-Benz</td>\n",
              "      <td>13300.0</td>\n",
              "      <td>sedan</td>\n",
              "      <td>358</td>\n",
              "      <td>5.0</td>\n",
              "      <td>Gas</td>\n",
              "      <td>yes</td>\n",
              "      <td>2003</td>\n",
              "      <td>S 500</td>\n",
              "    </tr>\n",
              "    <tr>\n",
              "      <th>3</th>\n",
              "      <td>Audi</td>\n",
              "      <td>23000.0</td>\n",
              "      <td>crossover</td>\n",
              "      <td>240</td>\n",
              "      <td>4.2</td>\n",
              "      <td>Petrol</td>\n",
              "      <td>yes</td>\n",
              "      <td>2007</td>\n",
              "      <td>Q7</td>\n",
              "    </tr>\n",
              "    <tr>\n",
              "      <th>4</th>\n",
              "      <td>Toyota</td>\n",
              "      <td>18300.0</td>\n",
              "      <td>crossover</td>\n",
              "      <td>120</td>\n",
              "      <td>2.0</td>\n",
              "      <td>Petrol</td>\n",
              "      <td>yes</td>\n",
              "      <td>2011</td>\n",
              "      <td>Rav 4</td>\n",
              "    </tr>\n",
              "    <tr>\n",
              "      <th>...</th>\n",
              "      <td>...</td>\n",
              "      <td>...</td>\n",
              "      <td>...</td>\n",
              "      <td>...</td>\n",
              "      <td>...</td>\n",
              "      <td>...</td>\n",
              "      <td>...</td>\n",
              "      <td>...</td>\n",
              "      <td>...</td>\n",
              "    </tr>\n",
              "    <tr>\n",
              "      <th>4340</th>\n",
              "      <td>Mercedes-Benz</td>\n",
              "      <td>125000.0</td>\n",
              "      <td>sedan</td>\n",
              "      <td>9</td>\n",
              "      <td>3.0</td>\n",
              "      <td>Diesel</td>\n",
              "      <td>yes</td>\n",
              "      <td>2014</td>\n",
              "      <td>S 350</td>\n",
              "    </tr>\n",
              "    <tr>\n",
              "      <th>4341</th>\n",
              "      <td>BMW</td>\n",
              "      <td>6500.0</td>\n",
              "      <td>sedan</td>\n",
              "      <td>1</td>\n",
              "      <td>3.5</td>\n",
              "      <td>Petrol</td>\n",
              "      <td>yes</td>\n",
              "      <td>1999</td>\n",
              "      <td>535</td>\n",
              "    </tr>\n",
              "    <tr>\n",
              "      <th>4342</th>\n",
              "      <td>BMW</td>\n",
              "      <td>8000.0</td>\n",
              "      <td>sedan</td>\n",
              "      <td>194</td>\n",
              "      <td>2.0</td>\n",
              "      <td>Petrol</td>\n",
              "      <td>yes</td>\n",
              "      <td>1985</td>\n",
              "      <td>520</td>\n",
              "    </tr>\n",
              "    <tr>\n",
              "      <th>4343</th>\n",
              "      <td>Toyota</td>\n",
              "      <td>14200.0</td>\n",
              "      <td>sedan</td>\n",
              "      <td>31</td>\n",
              "      <td>NaN</td>\n",
              "      <td>Petrol</td>\n",
              "      <td>yes</td>\n",
              "      <td>2014</td>\n",
              "      <td>Corolla</td>\n",
              "    </tr>\n",
              "    <tr>\n",
              "      <th>4344</th>\n",
              "      <td>Volkswagen</td>\n",
              "      <td>13500.0</td>\n",
              "      <td>van</td>\n",
              "      <td>124</td>\n",
              "      <td>2.0</td>\n",
              "      <td>Diesel</td>\n",
              "      <td>yes</td>\n",
              "      <td>2013</td>\n",
              "      <td>T5 (Transporter)</td>\n",
              "    </tr>\n",
              "  </tbody>\n",
              "</table>\n",
              "<p>4345 rows × 9 columns</p>\n",
              "</div>\n",
              "      <button class=\"colab-df-convert\" onclick=\"convertToInteractive('df-9d1ee7b2-c16c-4704-b47a-1e8afa2bee52')\"\n",
              "              title=\"Convert this dataframe to an interactive table.\"\n",
              "              style=\"display:none;\">\n",
              "        \n",
              "  <svg xmlns=\"http://www.w3.org/2000/svg\" height=\"24px\"viewBox=\"0 0 24 24\"\n",
              "       width=\"24px\">\n",
              "    <path d=\"M0 0h24v24H0V0z\" fill=\"none\"/>\n",
              "    <path d=\"M18.56 5.44l.94 2.06.94-2.06 2.06-.94-2.06-.94-.94-2.06-.94 2.06-2.06.94zm-11 1L8.5 8.5l.94-2.06 2.06-.94-2.06-.94L8.5 2.5l-.94 2.06-2.06.94zm10 10l.94 2.06.94-2.06 2.06-.94-2.06-.94-.94-2.06-.94 2.06-2.06.94z\"/><path d=\"M17.41 7.96l-1.37-1.37c-.4-.4-.92-.59-1.43-.59-.52 0-1.04.2-1.43.59L10.3 9.45l-7.72 7.72c-.78.78-.78 2.05 0 2.83L4 21.41c.39.39.9.59 1.41.59.51 0 1.02-.2 1.41-.59l7.78-7.78 2.81-2.81c.8-.78.8-2.07 0-2.86zM5.41 20L4 18.59l7.72-7.72 1.47 1.35L5.41 20z\"/>\n",
              "  </svg>\n",
              "      </button>\n",
              "      \n",
              "  <style>\n",
              "    .colab-df-container {\n",
              "      display:flex;\n",
              "      flex-wrap:wrap;\n",
              "      gap: 12px;\n",
              "    }\n",
              "\n",
              "    .colab-df-convert {\n",
              "      background-color: #E8F0FE;\n",
              "      border: none;\n",
              "      border-radius: 50%;\n",
              "      cursor: pointer;\n",
              "      display: none;\n",
              "      fill: #1967D2;\n",
              "      height: 32px;\n",
              "      padding: 0 0 0 0;\n",
              "      width: 32px;\n",
              "    }\n",
              "\n",
              "    .colab-df-convert:hover {\n",
              "      background-color: #E2EBFA;\n",
              "      box-shadow: 0px 1px 2px rgba(60, 64, 67, 0.3), 0px 1px 3px 1px rgba(60, 64, 67, 0.15);\n",
              "      fill: #174EA6;\n",
              "    }\n",
              "\n",
              "    [theme=dark] .colab-df-convert {\n",
              "      background-color: #3B4455;\n",
              "      fill: #D2E3FC;\n",
              "    }\n",
              "\n",
              "    [theme=dark] .colab-df-convert:hover {\n",
              "      background-color: #434B5C;\n",
              "      box-shadow: 0px 1px 3px 1px rgba(0, 0, 0, 0.15);\n",
              "      filter: drop-shadow(0px 1px 2px rgba(0, 0, 0, 0.3));\n",
              "      fill: #FFFFFF;\n",
              "    }\n",
              "  </style>\n",
              "\n",
              "      <script>\n",
              "        const buttonEl =\n",
              "          document.querySelector('#df-9d1ee7b2-c16c-4704-b47a-1e8afa2bee52 button.colab-df-convert');\n",
              "        buttonEl.style.display =\n",
              "          google.colab.kernel.accessAllowed ? 'block' : 'none';\n",
              "\n",
              "        async function convertToInteractive(key) {\n",
              "          const element = document.querySelector('#df-9d1ee7b2-c16c-4704-b47a-1e8afa2bee52');\n",
              "          const dataTable =\n",
              "            await google.colab.kernel.invokeFunction('convertToInteractive',\n",
              "                                                     [key], {});\n",
              "          if (!dataTable) return;\n",
              "\n",
              "          const docLinkHtml = 'Like what you see? Visit the ' +\n",
              "            '<a target=\"_blank\" href=https://colab.research.google.com/notebooks/data_table.ipynb>data table notebook</a>'\n",
              "            + ' to learn more about interactive tables.';\n",
              "          element.innerHTML = '';\n",
              "          dataTable['output_type'] = 'display_data';\n",
              "          await google.colab.output.renderOutput(dataTable, element);\n",
              "          const docLink = document.createElement('div');\n",
              "          docLink.innerHTML = docLinkHtml;\n",
              "          element.appendChild(docLink);\n",
              "        }\n",
              "      </script>\n",
              "    </div>\n",
              "  </div>\n",
              "  "
            ]
          },
          "metadata": {},
          "execution_count": 2
        }
      ]
    },
    {
      "cell_type": "markdown",
      "metadata": {
        "id": "j_-tNDjj6Vjz"
      },
      "source": [
        "#What are the important statistical measures in my Dataset?"
      ]
    },
    {
      "cell_type": "code",
      "metadata": {
        "id": "71do8j8Y6dPq",
        "colab": {
          "base_uri": "https://localhost:8080/",
          "height": 300
        },
        "outputId": "db0a9ca5-c72b-45ad-d7f6-d397d718b88c"
      },
      "source": [
        "data.describe()"
      ],
      "execution_count": 3,
      "outputs": [
        {
          "output_type": "execute_result",
          "data": {
            "text/plain": [
              "               Price      Mileage      EngineV         Year\n",
              "count    4173.000000  4345.000000  4195.000000  4345.000000\n",
              "mean    19418.746935   161.237284     2.790734  2006.550058\n",
              "std     25584.242620   105.705797     5.066437     6.719097\n",
              "min       600.000000     0.000000     0.600000  1969.000000\n",
              "25%      6999.000000    86.000000     1.800000  2003.000000\n",
              "50%     11500.000000   155.000000     2.200000  2008.000000\n",
              "75%     21700.000000   230.000000     3.000000  2012.000000\n",
              "max    300000.000000   980.000000    99.990000  2016.000000"
            ],
            "text/html": [
              "\n",
              "  <div id=\"df-c8e1915a-c164-4969-91bf-0ad95a1db5c7\">\n",
              "    <div class=\"colab-df-container\">\n",
              "      <div>\n",
              "<style scoped>\n",
              "    .dataframe tbody tr th:only-of-type {\n",
              "        vertical-align: middle;\n",
              "    }\n",
              "\n",
              "    .dataframe tbody tr th {\n",
              "        vertical-align: top;\n",
              "    }\n",
              "\n",
              "    .dataframe thead th {\n",
              "        text-align: right;\n",
              "    }\n",
              "</style>\n",
              "<table border=\"1\" class=\"dataframe\">\n",
              "  <thead>\n",
              "    <tr style=\"text-align: right;\">\n",
              "      <th></th>\n",
              "      <th>Price</th>\n",
              "      <th>Mileage</th>\n",
              "      <th>EngineV</th>\n",
              "      <th>Year</th>\n",
              "    </tr>\n",
              "  </thead>\n",
              "  <tbody>\n",
              "    <tr>\n",
              "      <th>count</th>\n",
              "      <td>4173.000000</td>\n",
              "      <td>4345.000000</td>\n",
              "      <td>4195.000000</td>\n",
              "      <td>4345.000000</td>\n",
              "    </tr>\n",
              "    <tr>\n",
              "      <th>mean</th>\n",
              "      <td>19418.746935</td>\n",
              "      <td>161.237284</td>\n",
              "      <td>2.790734</td>\n",
              "      <td>2006.550058</td>\n",
              "    </tr>\n",
              "    <tr>\n",
              "      <th>std</th>\n",
              "      <td>25584.242620</td>\n",
              "      <td>105.705797</td>\n",
              "      <td>5.066437</td>\n",
              "      <td>6.719097</td>\n",
              "    </tr>\n",
              "    <tr>\n",
              "      <th>min</th>\n",
              "      <td>600.000000</td>\n",
              "      <td>0.000000</td>\n",
              "      <td>0.600000</td>\n",
              "      <td>1969.000000</td>\n",
              "    </tr>\n",
              "    <tr>\n",
              "      <th>25%</th>\n",
              "      <td>6999.000000</td>\n",
              "      <td>86.000000</td>\n",
              "      <td>1.800000</td>\n",
              "      <td>2003.000000</td>\n",
              "    </tr>\n",
              "    <tr>\n",
              "      <th>50%</th>\n",
              "      <td>11500.000000</td>\n",
              "      <td>155.000000</td>\n",
              "      <td>2.200000</td>\n",
              "      <td>2008.000000</td>\n",
              "    </tr>\n",
              "    <tr>\n",
              "      <th>75%</th>\n",
              "      <td>21700.000000</td>\n",
              "      <td>230.000000</td>\n",
              "      <td>3.000000</td>\n",
              "      <td>2012.000000</td>\n",
              "    </tr>\n",
              "    <tr>\n",
              "      <th>max</th>\n",
              "      <td>300000.000000</td>\n",
              "      <td>980.000000</td>\n",
              "      <td>99.990000</td>\n",
              "      <td>2016.000000</td>\n",
              "    </tr>\n",
              "  </tbody>\n",
              "</table>\n",
              "</div>\n",
              "      <button class=\"colab-df-convert\" onclick=\"convertToInteractive('df-c8e1915a-c164-4969-91bf-0ad95a1db5c7')\"\n",
              "              title=\"Convert this dataframe to an interactive table.\"\n",
              "              style=\"display:none;\">\n",
              "        \n",
              "  <svg xmlns=\"http://www.w3.org/2000/svg\" height=\"24px\"viewBox=\"0 0 24 24\"\n",
              "       width=\"24px\">\n",
              "    <path d=\"M0 0h24v24H0V0z\" fill=\"none\"/>\n",
              "    <path d=\"M18.56 5.44l.94 2.06.94-2.06 2.06-.94-2.06-.94-.94-2.06-.94 2.06-2.06.94zm-11 1L8.5 8.5l.94-2.06 2.06-.94-2.06-.94L8.5 2.5l-.94 2.06-2.06.94zm10 10l.94 2.06.94-2.06 2.06-.94-2.06-.94-.94-2.06-.94 2.06-2.06.94z\"/><path d=\"M17.41 7.96l-1.37-1.37c-.4-.4-.92-.59-1.43-.59-.52 0-1.04.2-1.43.59L10.3 9.45l-7.72 7.72c-.78.78-.78 2.05 0 2.83L4 21.41c.39.39.9.59 1.41.59.51 0 1.02-.2 1.41-.59l7.78-7.78 2.81-2.81c.8-.78.8-2.07 0-2.86zM5.41 20L4 18.59l7.72-7.72 1.47 1.35L5.41 20z\"/>\n",
              "  </svg>\n",
              "      </button>\n",
              "      \n",
              "  <style>\n",
              "    .colab-df-container {\n",
              "      display:flex;\n",
              "      flex-wrap:wrap;\n",
              "      gap: 12px;\n",
              "    }\n",
              "\n",
              "    .colab-df-convert {\n",
              "      background-color: #E8F0FE;\n",
              "      border: none;\n",
              "      border-radius: 50%;\n",
              "      cursor: pointer;\n",
              "      display: none;\n",
              "      fill: #1967D2;\n",
              "      height: 32px;\n",
              "      padding: 0 0 0 0;\n",
              "      width: 32px;\n",
              "    }\n",
              "\n",
              "    .colab-df-convert:hover {\n",
              "      background-color: #E2EBFA;\n",
              "      box-shadow: 0px 1px 2px rgba(60, 64, 67, 0.3), 0px 1px 3px 1px rgba(60, 64, 67, 0.15);\n",
              "      fill: #174EA6;\n",
              "    }\n",
              "\n",
              "    [theme=dark] .colab-df-convert {\n",
              "      background-color: #3B4455;\n",
              "      fill: #D2E3FC;\n",
              "    }\n",
              "\n",
              "    [theme=dark] .colab-df-convert:hover {\n",
              "      background-color: #434B5C;\n",
              "      box-shadow: 0px 1px 3px 1px rgba(0, 0, 0, 0.15);\n",
              "      filter: drop-shadow(0px 1px 2px rgba(0, 0, 0, 0.3));\n",
              "      fill: #FFFFFF;\n",
              "    }\n",
              "  </style>\n",
              "\n",
              "      <script>\n",
              "        const buttonEl =\n",
              "          document.querySelector('#df-c8e1915a-c164-4969-91bf-0ad95a1db5c7 button.colab-df-convert');\n",
              "        buttonEl.style.display =\n",
              "          google.colab.kernel.accessAllowed ? 'block' : 'none';\n",
              "\n",
              "        async function convertToInteractive(key) {\n",
              "          const element = document.querySelector('#df-c8e1915a-c164-4969-91bf-0ad95a1db5c7');\n",
              "          const dataTable =\n",
              "            await google.colab.kernel.invokeFunction('convertToInteractive',\n",
              "                                                     [key], {});\n",
              "          if (!dataTable) return;\n",
              "\n",
              "          const docLinkHtml = 'Like what you see? Visit the ' +\n",
              "            '<a target=\"_blank\" href=https://colab.research.google.com/notebooks/data_table.ipynb>data table notebook</a>'\n",
              "            + ' to learn more about interactive tables.';\n",
              "          element.innerHTML = '';\n",
              "          dataTable['output_type'] = 'display_data';\n",
              "          await google.colab.output.renderOutput(dataTable, element);\n",
              "          const docLink = document.createElement('div');\n",
              "          docLink.innerHTML = docLinkHtml;\n",
              "          element.appendChild(docLink);\n",
              "        }\n",
              "      </script>\n",
              "    </div>\n",
              "  </div>\n",
              "  "
            ]
          },
          "metadata": {},
          "execution_count": 3
        }
      ]
    },
    {
      "cell_type": "code",
      "source": [
        "data['Price'].count()"
      ],
      "metadata": {
        "id": "o06_P4omyIB3",
        "outputId": "5904f782-0e4d-4caf-da92-e08de08fc7fd",
        "colab": {
          "base_uri": "https://localhost:8080/"
        }
      },
      "execution_count": 5,
      "outputs": [
        {
          "output_type": "execute_result",
          "data": {
            "text/plain": [
              "4173"
            ]
          },
          "metadata": {},
          "execution_count": 5
        }
      ]
    },
    {
      "cell_type": "code",
      "source": [
        "data['Price'].isnull().sum()"
      ],
      "metadata": {
        "id": "JGCwheugywLk",
        "outputId": "252452ec-4ac2-448c-804a-c214562359ba",
        "colab": {
          "base_uri": "https://localhost:8080/"
        }
      },
      "execution_count": 7,
      "outputs": [
        {
          "output_type": "execute_result",
          "data": {
            "text/plain": [
              "172"
            ]
          },
          "metadata": {},
          "execution_count": 7
        }
      ]
    },
    {
      "cell_type": "markdown",
      "metadata": {
        "id": "0GqN3cL46zSg"
      },
      "source": [
        "#What are the data types in my Dataset?"
      ]
    },
    {
      "cell_type": "code",
      "metadata": {
        "id": "crgGojxd687Q",
        "colab": {
          "base_uri": "https://localhost:8080/"
        },
        "outputId": "67c2dd2f-5813-4451-95c5-f74bd148db52"
      },
      "source": [
        "data.dtypes"
      ],
      "execution_count": null,
      "outputs": [
        {
          "output_type": "execute_result",
          "data": {
            "text/plain": [
              "Brand            object\n",
              "Price           float64\n",
              "Body             object\n",
              "Mileage           int64\n",
              "EngineV         float64\n",
              "Engine Type      object\n",
              "Registration     object\n",
              "Year              int64\n",
              "Model            object\n",
              "dtype: object"
            ]
          },
          "metadata": {},
          "execution_count": 3
        }
      ]
    },
    {
      "cell_type": "markdown",
      "metadata": {
        "id": "kIcvqZq98SAh"
      },
      "source": [
        "#How many rows and columns are there in my Dataset?"
      ]
    },
    {
      "cell_type": "code",
      "metadata": {
        "id": "YNhPSL518e3i",
        "colab": {
          "base_uri": "https://localhost:8080/"
        },
        "outputId": "fbedf515-78e2-477b-8961-3277135feea3"
      },
      "source": [
        "data.count"
      ],
      "execution_count": null,
      "outputs": [
        {
          "output_type": "execute_result",
          "data": {
            "text/plain": [
              "<bound method DataFrame.count of               Brand     Price       Body  ...  Registration  Year              Model\n",
              "0               BMW    4200.0      sedan  ...           yes  1991                320\n",
              "1     Mercedes-Benz    7900.0        van  ...           yes  1999       Sprinter 212\n",
              "2     Mercedes-Benz   13300.0      sedan  ...           yes  2003              S 500\n",
              "3              Audi   23000.0  crossover  ...           yes  2007                 Q7\n",
              "4            Toyota   18300.0  crossover  ...           yes  2011              Rav 4\n",
              "...             ...       ...        ...  ...           ...   ...                ...\n",
              "4340  Mercedes-Benz  125000.0      sedan  ...           yes  2014              S 350\n",
              "4341            BMW    6500.0      sedan  ...           yes  1999                535\n",
              "4342            BMW    8000.0      sedan  ...           yes  1985                520\n",
              "4343         Toyota   14200.0      sedan  ...           yes  2014            Corolla\n",
              "4344     Volkswagen   13500.0        van  ...           yes  2013  T5 (Transporter) \n",
              "\n",
              "[4345 rows x 9 columns]>"
            ]
          },
          "metadata": {},
          "execution_count": 4
        }
      ]
    },
    {
      "cell_type": "markdown",
      "metadata": {
        "id": "vymngIVfGUNV"
      },
      "source": [
        "# How can I visualize my data for 'Brand' and 'Price'?"
      ]
    },
    {
      "cell_type": "code",
      "source": [
        "print(\"Sum of price:\",data['Price'].sum())"
      ],
      "metadata": {
        "id": "KBd-5ZxHzQUa",
        "outputId": "7a05f791-30eb-43c1-c11c-53dfae49b727",
        "colab": {
          "base_uri": "https://localhost:8080/"
        }
      },
      "execution_count": 8,
      "outputs": [
        {
          "output_type": "stream",
          "name": "stdout",
          "text": [
            "Sum of price: 81034430.96000001\n"
          ]
        }
      ]
    },
    {
      "cell_type": "code",
      "source": [
        "print(data.groupby('Brand').sum())"
      ],
      "metadata": {
        "id": "A9v-_gFCzZRp",
        "outputId": "c2df11e6-cf1a-4c90-c12b-298631650f2a",
        "colab": {
          "base_uri": "https://localhost:8080/"
        }
      },
      "execution_count": 21,
      "outputs": [
        {
          "output_type": "stream",
          "name": "stdout",
          "text": [
            "                     Price  Mileage  EngineV     Year\n",
            "Brand                                                \n",
            "Audi            8172418.00    82227  1151.66   916194\n",
            "BMW            15738471.25   119201  2127.37  1391650\n",
            "Mercedes-Benz  26078057.00   159107  2933.96  1847883\n",
            "Mitsubishi      3648515.30    45973   712.00   656067\n",
            "Renault         3664017.92    73552  1234.33   941879\n",
            "Toyota         11815208.21    63027  1460.35  1086603\n",
            "Volkswagen     11917743.28   157489  2087.46  1878184\n"
          ]
        },
        {
          "output_type": "stream",
          "name": "stderr",
          "text": [
            "<ipython-input-21-09fe619a1f18>:1: FutureWarning: The default value of numeric_only in DataFrameGroupBy.sum is deprecated. In a future version, numeric_only will default to False. Either specify numeric_only or select only columns which should be valid for the function.\n",
            "  print(data.groupby('Brand').sum())\n"
          ]
        }
      ]
    },
    {
      "cell_type": "code",
      "metadata": {
        "id": "D8Te75iYGjxl",
        "outputId": "cf16b524-4ac2-4b7c-dd7d-314f44d67627",
        "colab": {
          "base_uri": "https://localhost:8080/",
          "height": 355
        }
      },
      "source": [
        "import pandas as pd\n",
        "import seaborn as sns\n",
        "sns.set(color_codes=True)\n",
        "sns.barplot(data['Price'],data['Brand'])"
      ],
      "execution_count": null,
      "outputs": [
        {
          "output_type": "stream",
          "name": "stderr",
          "text": [
            "/usr/local/lib/python3.7/dist-packages/seaborn/_decorators.py:43: FutureWarning: Pass the following variables as keyword args: x, y. From version 0.12, the only valid positional argument will be `data`, and passing other arguments without an explicit keyword will result in an error or misinterpretation.\n",
            "  FutureWarning\n"
          ]
        },
        {
          "output_type": "execute_result",
          "data": {
            "text/plain": [
              "<matplotlib.axes._subplots.AxesSubplot at 0x7f2563b163d0>"
            ]
          },
          "metadata": {},
          "execution_count": 8
        },
        {
          "output_type": "display_data",
          "data": {
            "image/png": "[encoded data removed]",
            "text/plain": [
              "<Figure size 432x288 with 1 Axes>"
            ]
          },
          "metadata": {}
        }
      ]
    },
    {
      "cell_type": "markdown",
      "metadata": {
        "id": "40rYWtVVIfX9"
      },
      "source": [
        "# How can I visualize my data for 'Price' and 'Engine Type'?"
      ]
    },
    {
      "cell_type": "code",
      "metadata": {
        "id": "g4_xzjAPIEsR",
        "outputId": "b63e2eac-f61d-4450-85d6-9cd5feaa602f",
        "colab": {
          "base_uri": "https://localhost:8080/",
          "height": 355
        }
      },
      "source": [
        "sns.barplot(data['Price'],data['Engine Type'])"
      ],
      "execution_count": null,
      "outputs": [
        {
          "output_type": "stream",
          "name": "stderr",
          "text": [
            "/usr/local/lib/python3.7/dist-packages/seaborn/_decorators.py:43: FutureWarning: Pass the following variables as keyword args: x, y. From version 0.12, the only valid positional argument will be `data`, and passing other arguments without an explicit keyword will result in an error or misinterpretation.\n",
            "  FutureWarning\n"
          ]
        },
        {
          "output_type": "execute_result",
          "data": {
            "text/plain": [
              "<matplotlib.axes._subplots.AxesSubplot at 0x7f2564502990>"
            ]
          },
          "metadata": {},
          "execution_count": 9
        },
        {
          "output_type": "display_data",
          "data": {
            "image/png": "[encoded data removed]",
            "text/plain": [
              "<Figure size 432x288 with 1 Axes>"
            ]
          },
          "metadata": {}
        }
      ]
    },
    {
      "cell_type": "markdown",
      "metadata": {
        "id": "WO97MkJ5JKfr"
      },
      "source": [
        "# How can I visualize single column distribution?"
      ]
    },
    {
      "cell_type": "code",
      "metadata": {
        "id": "WHRz1oG2JS3x",
        "outputId": "fa859dfe-501a-4575-ccc8-6581558f9226",
        "colab": {
          "base_uri": "https://localhost:8080/",
          "height": 366
        }
      },
      "source": [
        "sns.distplot(data['Price'])"
      ],
      "execution_count": null,
      "outputs": [
        {
          "output_type": "stream",
          "name": "stderr",
          "text": [
            "/usr/local/lib/python3.7/dist-packages/seaborn/distributions.py:2619: FutureWarning: `distplot` is a deprecated function and will be removed in a future version. Please adapt your code to use either `displot` (a figure-level function with similar flexibility) or `histplot` (an axes-level function for histograms).\n",
            "  warnings.warn(msg, FutureWarning)\n"
          ]
        },
        {
          "output_type": "execute_result",
          "data": {
            "text/plain": [
              "<matplotlib.axes._subplots.AxesSubplot at 0x7f2564574d90>"
            ]
          },
          "metadata": {},
          "execution_count": 10
        },
        {
          "output_type": "display_data",
          "data": {
            "image/png": "[encoded data removed]",
            "text/plain": [
              "<Figure size 432x288 with 1 Axes>"
            ]
          },
          "metadata": {}
        }
      ]
    },
    {
      "cell_type": "code",
      "metadata": {
        "id": "4hNKWO5JJltK",
        "outputId": "7524e88a-be64-4fd0-e5f1-e91f3a416cea",
        "colab": {
          "base_uri": "https://localhost:8080/",
          "height": 355
        }
      },
      "source": [
        "sns.distplot(data['Year'])"
      ],
      "execution_count": null,
      "outputs": [
        {
          "output_type": "stream",
          "name": "stderr",
          "text": [
            "/usr/local/lib/python3.7/dist-packages/seaborn/distributions.py:2619: FutureWarning: `distplot` is a deprecated function and will be removed in a future version. Please adapt your code to use either `displot` (a figure-level function with similar flexibility) or `histplot` (an axes-level function for histograms).\n",
            "  warnings.warn(msg, FutureWarning)\n"
          ]
        },
        {
          "output_type": "execute_result",
          "data": {
            "text/plain": [
              "<matplotlib.axes._subplots.AxesSubplot at 0x7f255ede1850>"
            ]
          },
          "metadata": {},
          "execution_count": 12
        },
        {
          "output_type": "display_data",
          "data": {
            "image/png": "[encoded data removed]",
            "text/plain": [
              "<Figure size 432x288 with 1 Axes>"
            ]
          },
          "metadata": {}
        }
      ]
    },
    {
      "cell_type": "code",
      "metadata": {
        "id": "yP11M_0uJ1Y2",
        "outputId": "f9306dd2-273c-46e2-aa49-12a021b5bee6",
        "colab": {
          "base_uri": "https://localhost:8080/",
          "height": 358
        }
      },
      "source": [
        "sns.distplot(data['EngineV'])"
      ],
      "execution_count": null,
      "outputs": [
        {
          "output_type": "stream",
          "name": "stderr",
          "text": [
            "/usr/local/lib/python3.7/dist-packages/seaborn/distributions.py:2619: FutureWarning: `distplot` is a deprecated function and will be removed in a future version. Please adapt your code to use either `displot` (a figure-level function with similar flexibility) or `histplot` (an axes-level function for histograms).\n",
            "  warnings.warn(msg, FutureWarning)\n"
          ]
        },
        {
          "output_type": "execute_result",
          "data": {
            "text/plain": [
              "<matplotlib.axes._subplots.AxesSubplot at 0x7f255ed53f10>"
            ]
          },
          "metadata": {},
          "execution_count": 13
        },
        {
          "output_type": "display_data",
          "data": {
            "image/png": "[encoded data removed]",
            "text/plain": [
              "<Figure size 432x288 with 1 Axes>"
            ]
          },
          "metadata": {}
        }
      ]
    },
    {
      "cell_type": "markdown",
      "metadata": {
        "id": "Y32t_jn0XPFt"
      },
      "source": [
        "# How can I compare values in two columns?"
      ]
    },
    {
      "cell_type": "code",
      "metadata": {
        "id": "PDRDPv53XQGR",
        "outputId": "ea4160b3-8528-4e02-ea60-f88c4b304bd3",
        "colab": {
          "base_uri": "https://localhost:8080/",
          "height": 507
        }
      },
      "source": [
        "sns.jointplot(data['Price'],data['Year'],kind='scatter')"
      ],
      "execution_count": null,
      "outputs": [
        {
          "output_type": "stream",
          "name": "stderr",
          "text": [
            "/usr/local/lib/python3.7/dist-packages/seaborn/_decorators.py:43: FutureWarning: Pass the following variables as keyword args: x, y. From version 0.12, the only valid positional argument will be `data`, and passing other arguments without an explicit keyword will result in an error or misinterpretation.\n",
            "  FutureWarning\n"
          ]
        },
        {
          "output_type": "execute_result",
          "data": {
            "text/plain": [
              "<seaborn.axisgrid.JointGrid at 0x7f255ec44850>"
            ]
          },
          "metadata": {},
          "execution_count": 14
        },
        {
          "output_type": "display_data",
          "data": {
            "image/png": "[encoded data removed]",
            "text/plain": [
              "<Figure size 432x432 with 3 Axes>"
            ]
          },
          "metadata": {}
        }
      ]
    },
    {
      "cell_type": "code",
      "metadata": {
        "id": "JrYm1VZOYslK",
        "outputId": "04dfe158-0490-4c60-fe33-4ed5df8bcdae",
        "colab": {
          "base_uri": "https://localhost:8080/",
          "height": 454
        }
      },
      "source": [
        "sns.jointplot(y=data['Price'],x=data['Year'],kind='scatter')"
      ],
      "execution_count": null,
      "outputs": [
        {
          "output_type": "execute_result",
          "data": {
            "text/plain": [
              "<seaborn.axisgrid.JointGrid at 0x7f2556063610>"
            ]
          },
          "metadata": {},
          "execution_count": 15
        },
        {
          "output_type": "display_data",
          "data": {
            "image/png": "[encoded data removed]",
            "text/plain": [
              "<Figure size 432x432 with 3 Axes>"
            ]
          },
          "metadata": {}
        }
      ]
    },
    {
      "cell_type": "markdown",
      "metadata": {
        "id": "WgMIrO__P-Fe"
      },
      "source": [
        "#How can I sort the dataset in ascending order of a column value?\n"
      ]
    },
    {
      "cell_type": "code",
      "metadata": {
        "id": "ItrKMsZJQkCz",
        "colab": {
          "base_uri": "https://localhost:8080/",
          "height": 203
        },
        "outputId": "d92b481c-ec74-4ea8-ab8e-14ba0c750302"
      },
      "source": [
        "sorted_data= data.sort_values(by=\"Year\")\n",
        "sorted_data.head()"
      ],
      "execution_count": null,
      "outputs": [
        {
          "output_type": "execute_result",
          "data": {
            "text/html": [
              "<div>\n",
              "<style scoped>\n",
              "    .dataframe tbody tr th:only-of-type {\n",
              "        vertical-align: middle;\n",
              "    }\n",
              "\n",
              "    .dataframe tbody tr th {\n",
              "        vertical-align: top;\n",
              "    }\n",
              "\n",
              "    .dataframe thead th {\n",
              "        text-align: right;\n",
              "    }\n",
              "</style>\n",
              "<table border=\"1\" class=\"dataframe\">\n",
              "  <thead>\n",
              "    <tr style=\"text-align: right;\">\n",
              "      <th></th>\n",
              "      <th>Brand</th>\n",
              "      <th>Price</th>\n",
              "      <th>Body</th>\n",
              "      <th>Mileage</th>\n",
              "      <th>EngineV</th>\n",
              "      <th>Engine Type</th>\n",
              "      <th>Registration</th>\n",
              "      <th>Year</th>\n",
              "      <th>Model</th>\n",
              "    </tr>\n",
              "  </thead>\n",
              "  <tbody>\n",
              "    <tr>\n",
              "      <th>810</th>\n",
              "      <td>Mercedes-Benz</td>\n",
              "      <td>34999.0</td>\n",
              "      <td>sedan</td>\n",
              "      <td>150</td>\n",
              "      <td>2.8</td>\n",
              "      <td>Petrol</td>\n",
              "      <td>yes</td>\n",
              "      <td>1969</td>\n",
              "      <td>S 280</td>\n",
              "    </tr>\n",
              "    <tr>\n",
              "      <th>1025</th>\n",
              "      <td>Mercedes-Benz</td>\n",
              "      <td>2300.0</td>\n",
              "      <td>sedan</td>\n",
              "      <td>261</td>\n",
              "      <td>2.3</td>\n",
              "      <td>Gas</td>\n",
              "      <td>yes</td>\n",
              "      <td>1978</td>\n",
              "      <td>E-Class</td>\n",
              "    </tr>\n",
              "    <tr>\n",
              "      <th>4319</th>\n",
              "      <td>Mercedes-Benz</td>\n",
              "      <td>5500.0</td>\n",
              "      <td>sedan</td>\n",
              "      <td>440</td>\n",
              "      <td>2.0</td>\n",
              "      <td>Petrol</td>\n",
              "      <td>yes</td>\n",
              "      <td>1978</td>\n",
              "      <td>E-Class</td>\n",
              "    </tr>\n",
              "    <tr>\n",
              "      <th>1896</th>\n",
              "      <td>Mercedes-Benz</td>\n",
              "      <td>1950.0</td>\n",
              "      <td>sedan</td>\n",
              "      <td>1</td>\n",
              "      <td>2.0</td>\n",
              "      <td>Diesel</td>\n",
              "      <td>yes</td>\n",
              "      <td>1979</td>\n",
              "      <td>200</td>\n",
              "    </tr>\n",
              "    <tr>\n",
              "      <th>288</th>\n",
              "      <td>Toyota</td>\n",
              "      <td>600.0</td>\n",
              "      <td>sedan</td>\n",
              "      <td>10</td>\n",
              "      <td>1.5</td>\n",
              "      <td>Petrol</td>\n",
              "      <td>yes</td>\n",
              "      <td>1979</td>\n",
              "      <td>Corolla</td>\n",
              "    </tr>\n",
              "  </tbody>\n",
              "</table>\n",
              "</div>"
            ],
            "text/plain": [
              "              Brand    Price   Body  ...  Registration  Year    Model\n",
              "810   Mercedes-Benz  34999.0  sedan  ...           yes  1969    S 280\n",
              "1025  Mercedes-Benz   2300.0  sedan  ...           yes  1978  E-Class\n",
              "4319  Mercedes-Benz   5500.0  sedan  ...           yes  1978  E-Class\n",
              "1896  Mercedes-Benz   1950.0  sedan  ...           yes  1979      200\n",
              "288          Toyota    600.0  sedan  ...           yes  1979  Corolla\n",
              "\n",
              "[5 rows x 9 columns]"
            ]
          },
          "metadata": {},
          "execution_count": 5
        }
      ]
    },
    {
      "cell_type": "markdown",
      "metadata": {
        "id": "BkUAVyYnYHGm"
      },
      "source": [
        "#How can I sort the dataset in ascending order of multiple column values?"
      ]
    },
    {
      "cell_type": "code",
      "metadata": {
        "id": "9gixnCnPYR3S",
        "colab": {
          "base_uri": "https://localhost:8080/",
          "height": 357
        },
        "outputId": "155ad099-fcc6-4519-968f-4497de2c5d75"
      },
      "source": [
        "sorted_data= data.sort_values(by=[\"Year\",\"Price\"])\n",
        "sorted_data.head(10)"
      ],
      "execution_count": null,
      "outputs": [
        {
          "output_type": "execute_result",
          "data": {
            "text/html": [
              "<div>\n",
              "<style scoped>\n",
              "    .dataframe tbody tr th:only-of-type {\n",
              "        vertical-align: middle;\n",
              "    }\n",
              "\n",
              "    .dataframe tbody tr th {\n",
              "        vertical-align: top;\n",
              "    }\n",
              "\n",
              "    .dataframe thead th {\n",
              "        text-align: right;\n",
              "    }\n",
              "</style>\n",
              "<table border=\"1\" class=\"dataframe\">\n",
              "  <thead>\n",
              "    <tr style=\"text-align: right;\">\n",
              "      <th></th>\n",
              "      <th>Brand</th>\n",
              "      <th>Price</th>\n",
              "      <th>Body</th>\n",
              "      <th>Mileage</th>\n",
              "      <th>EngineV</th>\n",
              "      <th>Engine Type</th>\n",
              "      <th>Registration</th>\n",
              "      <th>Year</th>\n",
              "      <th>Model</th>\n",
              "    </tr>\n",
              "  </thead>\n",
              "  <tbody>\n",
              "    <tr>\n",
              "      <th>810</th>\n",
              "      <td>Mercedes-Benz</td>\n",
              "      <td>34999.00</td>\n",
              "      <td>sedan</td>\n",
              "      <td>150</td>\n",
              "      <td>2.8</td>\n",
              "      <td>Petrol</td>\n",
              "      <td>yes</td>\n",
              "      <td>1969</td>\n",
              "      <td>S 280</td>\n",
              "    </tr>\n",
              "    <tr>\n",
              "      <th>1025</th>\n",
              "      <td>Mercedes-Benz</td>\n",
              "      <td>2300.00</td>\n",
              "      <td>sedan</td>\n",
              "      <td>261</td>\n",
              "      <td>2.3</td>\n",
              "      <td>Gas</td>\n",
              "      <td>yes</td>\n",
              "      <td>1978</td>\n",
              "      <td>E-Class</td>\n",
              "    </tr>\n",
              "    <tr>\n",
              "      <th>4319</th>\n",
              "      <td>Mercedes-Benz</td>\n",
              "      <td>5500.00</td>\n",
              "      <td>sedan</td>\n",
              "      <td>440</td>\n",
              "      <td>2.0</td>\n",
              "      <td>Petrol</td>\n",
              "      <td>yes</td>\n",
              "      <td>1978</td>\n",
              "      <td>E-Class</td>\n",
              "    </tr>\n",
              "    <tr>\n",
              "      <th>288</th>\n",
              "      <td>Toyota</td>\n",
              "      <td>600.00</td>\n",
              "      <td>sedan</td>\n",
              "      <td>10</td>\n",
              "      <td>1.5</td>\n",
              "      <td>Petrol</td>\n",
              "      <td>yes</td>\n",
              "      <td>1979</td>\n",
              "      <td>Corolla</td>\n",
              "    </tr>\n",
              "    <tr>\n",
              "      <th>1896</th>\n",
              "      <td>Mercedes-Benz</td>\n",
              "      <td>1950.00</td>\n",
              "      <td>sedan</td>\n",
              "      <td>1</td>\n",
              "      <td>2.0</td>\n",
              "      <td>Diesel</td>\n",
              "      <td>yes</td>\n",
              "      <td>1979</td>\n",
              "      <td>200</td>\n",
              "    </tr>\n",
              "    <tr>\n",
              "      <th>2122</th>\n",
              "      <td>Mercedes-Benz</td>\n",
              "      <td>2990.00</td>\n",
              "      <td>sedan</td>\n",
              "      <td>300</td>\n",
              "      <td>2.8</td>\n",
              "      <td>Gas</td>\n",
              "      <td>yes</td>\n",
              "      <td>1979</td>\n",
              "      <td>S 280</td>\n",
              "    </tr>\n",
              "    <tr>\n",
              "      <th>141</th>\n",
              "      <td>Audi</td>\n",
              "      <td>600.00</td>\n",
              "      <td>sedan</td>\n",
              "      <td>112</td>\n",
              "      <td>1.6</td>\n",
              "      <td>Petrol</td>\n",
              "      <td>yes</td>\n",
              "      <td>1980</td>\n",
              "      <td>80</td>\n",
              "    </tr>\n",
              "    <tr>\n",
              "      <th>4234</th>\n",
              "      <td>Volkswagen</td>\n",
              "      <td>1296.75</td>\n",
              "      <td>sedan</td>\n",
              "      <td>1</td>\n",
              "      <td>1.6</td>\n",
              "      <td>Petrol</td>\n",
              "      <td>yes</td>\n",
              "      <td>1980</td>\n",
              "      <td>Jetta</td>\n",
              "    </tr>\n",
              "    <tr>\n",
              "      <th>3346</th>\n",
              "      <td>Mercedes-Benz</td>\n",
              "      <td>7777.00</td>\n",
              "      <td>other</td>\n",
              "      <td>230</td>\n",
              "      <td>2.8</td>\n",
              "      <td>Petrol</td>\n",
              "      <td>yes</td>\n",
              "      <td>1980</td>\n",
              "      <td>E-Class</td>\n",
              "    </tr>\n",
              "    <tr>\n",
              "      <th>3852</th>\n",
              "      <td>Volkswagen</td>\n",
              "      <td>1950.00</td>\n",
              "      <td>hatch</td>\n",
              "      <td>94</td>\n",
              "      <td>1.1</td>\n",
              "      <td>Petrol</td>\n",
              "      <td>yes</td>\n",
              "      <td>1982</td>\n",
              "      <td>Golf II</td>\n",
              "    </tr>\n",
              "  </tbody>\n",
              "</table>\n",
              "</div>"
            ],
            "text/plain": [
              "              Brand     Price   Body  ...  Registration  Year    Model\n",
              "810   Mercedes-Benz  34999.00  sedan  ...           yes  1969    S 280\n",
              "1025  Mercedes-Benz   2300.00  sedan  ...           yes  1978  E-Class\n",
              "4319  Mercedes-Benz   5500.00  sedan  ...           yes  1978  E-Class\n",
              "288          Toyota    600.00  sedan  ...           yes  1979  Corolla\n",
              "1896  Mercedes-Benz   1950.00  sedan  ...           yes  1979      200\n",
              "2122  Mercedes-Benz   2990.00  sedan  ...           yes  1979    S 280\n",
              "141            Audi    600.00  sedan  ...           yes  1980       80\n",
              "4234     Volkswagen   1296.75  sedan  ...           yes  1980    Jetta\n",
              "3346  Mercedes-Benz   7777.00  other  ...           yes  1980  E-Class\n",
              "3852     Volkswagen   1950.00  hatch  ...           yes  1982  Golf II\n",
              "\n",
              "[10 rows x 9 columns]"
            ]
          },
          "metadata": {},
          "execution_count": 6
        }
      ]
    },
    {
      "cell_type": "markdown",
      "metadata": {
        "id": "L_kW4V1dQ-aU"
      },
      "source": [
        "#How can I sort the dataset in descending order of a column value?"
      ]
    },
    {
      "cell_type": "code",
      "metadata": {
        "id": "V0g_9LBxRNBM",
        "colab": {
          "base_uri": "https://localhost:8080/",
          "height": 203
        },
        "outputId": "addde46b-2cb9-4155-e213-935926dfc2e8"
      },
      "source": [
        "sorted_data= data.sort_values(by=\"Year\", ascending=False)\n",
        "sorted_data.head()"
      ],
      "execution_count": null,
      "outputs": [
        {
          "output_type": "execute_result",
          "data": {
            "text/html": [
              "<div>\n",
              "<style scoped>\n",
              "    .dataframe tbody tr th:only-of-type {\n",
              "        vertical-align: middle;\n",
              "    }\n",
              "\n",
              "    .dataframe tbody tr th {\n",
              "        vertical-align: top;\n",
              "    }\n",
              "\n",
              "    .dataframe thead th {\n",
              "        text-align: right;\n",
              "    }\n",
              "</style>\n",
              "<table border=\"1\" class=\"dataframe\">\n",
              "  <thead>\n",
              "    <tr style=\"text-align: right;\">\n",
              "      <th></th>\n",
              "      <th>Brand</th>\n",
              "      <th>Price</th>\n",
              "      <th>Body</th>\n",
              "      <th>Mileage</th>\n",
              "      <th>EngineV</th>\n",
              "      <th>Engine Type</th>\n",
              "      <th>Registration</th>\n",
              "      <th>Year</th>\n",
              "      <th>Model</th>\n",
              "    </tr>\n",
              "  </thead>\n",
              "  <tbody>\n",
              "    <tr>\n",
              "      <th>2910</th>\n",
              "      <td>Mitsubishi</td>\n",
              "      <td>40800.0</td>\n",
              "      <td>crossover</td>\n",
              "      <td>0</td>\n",
              "      <td>2.4</td>\n",
              "      <td>Diesel</td>\n",
              "      <td>yes</td>\n",
              "      <td>2016</td>\n",
              "      <td>Pajero Sport</td>\n",
              "    </tr>\n",
              "    <tr>\n",
              "      <th>2521</th>\n",
              "      <td>Toyota</td>\n",
              "      <td>195000.0</td>\n",
              "      <td>crossover</td>\n",
              "      <td>0</td>\n",
              "      <td>4.5</td>\n",
              "      <td>Diesel</td>\n",
              "      <td>yes</td>\n",
              "      <td>2016</td>\n",
              "      <td>Land Cruiser 200</td>\n",
              "    </tr>\n",
              "    <tr>\n",
              "      <th>3993</th>\n",
              "      <td>Mercedes-Benz</td>\n",
              "      <td>58999.0</td>\n",
              "      <td>crossover</td>\n",
              "      <td>0</td>\n",
              "      <td>2.2</td>\n",
              "      <td>Diesel</td>\n",
              "      <td>yes</td>\n",
              "      <td>2016</td>\n",
              "      <td>GLC-Class</td>\n",
              "    </tr>\n",
              "    <tr>\n",
              "      <th>3249</th>\n",
              "      <td>Mercedes-Benz</td>\n",
              "      <td>93555.0</td>\n",
              "      <td>crossover</td>\n",
              "      <td>0</td>\n",
              "      <td>NaN</td>\n",
              "      <td>Other</td>\n",
              "      <td>yes</td>\n",
              "      <td>2016</td>\n",
              "      <td>GLS 350</td>\n",
              "    </tr>\n",
              "    <tr>\n",
              "      <th>3992</th>\n",
              "      <td>BMW</td>\n",
              "      <td>69999.0</td>\n",
              "      <td>crossover</td>\n",
              "      <td>1</td>\n",
              "      <td>2.0</td>\n",
              "      <td>Petrol</td>\n",
              "      <td>yes</td>\n",
              "      <td>2016</td>\n",
              "      <td>X5</td>\n",
              "    </tr>\n",
              "  </tbody>\n",
              "</table>\n",
              "</div>"
            ],
            "text/plain": [
              "              Brand     Price       Body  ...  Registration  Year             Model\n",
              "2910     Mitsubishi   40800.0  crossover  ...           yes  2016      Pajero Sport\n",
              "2521         Toyota  195000.0  crossover  ...           yes  2016  Land Cruiser 200\n",
              "3993  Mercedes-Benz   58999.0  crossover  ...           yes  2016         GLC-Class\n",
              "3249  Mercedes-Benz   93555.0  crossover  ...           yes  2016           GLS 350\n",
              "3992            BMW   69999.0  crossover  ...           yes  2016                X5\n",
              "\n",
              "[5 rows x 9 columns]"
            ]
          },
          "metadata": {},
          "execution_count": 7
        }
      ]
    },
    {
      "cell_type": "markdown",
      "metadata": {
        "id": "Y2qDHkcIY4QQ"
      },
      "source": [
        "#How can I get back the original dataset (dataset prior to sorting)?"
      ]
    },
    {
      "cell_type": "code",
      "metadata": {
        "id": "N5NWfz_DZFsW",
        "colab": {
          "base_uri": "https://localhost:8080/",
          "height": 172
        },
        "outputId": "94a1e323-9a6d-4f4e-dfbe-f812152bd882"
      },
      "source": [
        "sorted_data.sort_index(inplace=True)\n",
        "sorted_data[1:5]"
      ],
      "execution_count": null,
      "outputs": [
        {
          "output_type": "execute_result",
          "data": {
            "text/html": [
              "<div>\n",
              "<style scoped>\n",
              "    .dataframe tbody tr th:only-of-type {\n",
              "        vertical-align: middle;\n",
              "    }\n",
              "\n",
              "    .dataframe tbody tr th {\n",
              "        vertical-align: top;\n",
              "    }\n",
              "\n",
              "    .dataframe thead th {\n",
              "        text-align: right;\n",
              "    }\n",
              "</style>\n",
              "<table border=\"1\" class=\"dataframe\">\n",
              "  <thead>\n",
              "    <tr style=\"text-align: right;\">\n",
              "      <th></th>\n",
              "      <th>Brand</th>\n",
              "      <th>Price</th>\n",
              "      <th>Body</th>\n",
              "      <th>Mileage</th>\n",
              "      <th>EngineV</th>\n",
              "      <th>Engine Type</th>\n",
              "      <th>Registration</th>\n",
              "      <th>Year</th>\n",
              "      <th>Model</th>\n",
              "    </tr>\n",
              "  </thead>\n",
              "  <tbody>\n",
              "    <tr>\n",
              "      <th>1</th>\n",
              "      <td>Mercedes-Benz</td>\n",
              "      <td>7900.0</td>\n",
              "      <td>van</td>\n",
              "      <td>427</td>\n",
              "      <td>2.9</td>\n",
              "      <td>Diesel</td>\n",
              "      <td>yes</td>\n",
              "      <td>1999</td>\n",
              "      <td>Sprinter 212</td>\n",
              "    </tr>\n",
              "    <tr>\n",
              "      <th>2</th>\n",
              "      <td>Mercedes-Benz</td>\n",
              "      <td>13300.0</td>\n",
              "      <td>sedan</td>\n",
              "      <td>358</td>\n",
              "      <td>5.0</td>\n",
              "      <td>Gas</td>\n",
              "      <td>yes</td>\n",
              "      <td>2003</td>\n",
              "      <td>S 500</td>\n",
              "    </tr>\n",
              "    <tr>\n",
              "      <th>3</th>\n",
              "      <td>Audi</td>\n",
              "      <td>23000.0</td>\n",
              "      <td>crossover</td>\n",
              "      <td>240</td>\n",
              "      <td>4.2</td>\n",
              "      <td>Petrol</td>\n",
              "      <td>yes</td>\n",
              "      <td>2007</td>\n",
              "      <td>Q7</td>\n",
              "    </tr>\n",
              "    <tr>\n",
              "      <th>4</th>\n",
              "      <td>Toyota</td>\n",
              "      <td>18300.0</td>\n",
              "      <td>crossover</td>\n",
              "      <td>120</td>\n",
              "      <td>2.0</td>\n",
              "      <td>Petrol</td>\n",
              "      <td>yes</td>\n",
              "      <td>2011</td>\n",
              "      <td>Rav 4</td>\n",
              "    </tr>\n",
              "  </tbody>\n",
              "</table>\n",
              "</div>"
            ],
            "text/plain": [
              "           Brand    Price       Body  ...  Registration  Year         Model\n",
              "1  Mercedes-Benz   7900.0        van  ...           yes  1999  Sprinter 212\n",
              "2  Mercedes-Benz  13300.0      sedan  ...           yes  2003         S 500\n",
              "3           Audi  23000.0  crossover  ...           yes  2007            Q7\n",
              "4         Toyota  18300.0  crossover  ...           yes  2011         Rav 4\n",
              "\n",
              "[4 rows x 9 columns]"
            ]
          },
          "metadata": {},
          "execution_count": 8
        }
      ]
    },
    {
      "cell_type": "markdown",
      "metadata": {
        "id": "tDy7hB18826C"
      },
      "source": [
        "#Which brands of cars are in my Dataset?"
      ]
    },
    {
      "cell_type": "code",
      "metadata": {
        "id": "_E4BI6mu9Av2",
        "colab": {
          "base_uri": "https://localhost:8080/"
        },
        "outputId": "72acff71-0ea0-494b-d78c-994ce6df043b"
      },
      "source": [
        "data['Brand'].unique()"
      ],
      "execution_count": null,
      "outputs": [
        {
          "output_type": "execute_result",
          "data": {
            "text/plain": [
              "array(['BMW', 'Mercedes-Benz', 'Audi', 'Toyota', 'Renault', 'Volkswagen',\n",
              "       'Mitsubishi'], dtype=object)"
            ]
          },
          "metadata": {},
          "execution_count": 9
        }
      ]
    },
    {
      "cell_type": "markdown",
      "metadata": {
        "id": "J4wDDt_s9Pvz"
      },
      "source": [
        "#How do I select top 15 rows from the Dataset?"
      ]
    },
    {
      "cell_type": "code",
      "metadata": {
        "id": "xoqMe2hd9dp3",
        "colab": {
          "base_uri": "https://localhost:8080/",
          "height": 511
        },
        "outputId": "40ba9c8d-924d-44db-ee91-cb62885371bc"
      },
      "source": [
        "data.head(15)"
      ],
      "execution_count": null,
      "outputs": [
        {
          "output_type": "execute_result",
          "data": {
            "text/html": [
              "<div>\n",
              "<style scoped>\n",
              "    .dataframe tbody tr th:only-of-type {\n",
              "        vertical-align: middle;\n",
              "    }\n",
              "\n",
              "    .dataframe tbody tr th {\n",
              "        vertical-align: top;\n",
              "    }\n",
              "\n",
              "    .dataframe thead th {\n",
              "        text-align: right;\n",
              "    }\n",
              "</style>\n",
              "<table border=\"1\" class=\"dataframe\">\n",
              "  <thead>\n",
              "    <tr style=\"text-align: right;\">\n",
              "      <th></th>\n",
              "      <th>Brand</th>\n",
              "      <th>Price</th>\n",
              "      <th>Body</th>\n",
              "      <th>Mileage</th>\n",
              "      <th>EngineV</th>\n",
              "      <th>Engine Type</th>\n",
              "      <th>Registration</th>\n",
              "      <th>Year</th>\n",
              "      <th>Model</th>\n",
              "    </tr>\n",
              "  </thead>\n",
              "  <tbody>\n",
              "    <tr>\n",
              "      <th>0</th>\n",
              "      <td>BMW</td>\n",
              "      <td>4200.0</td>\n",
              "      <td>sedan</td>\n",
              "      <td>277</td>\n",
              "      <td>2.00</td>\n",
              "      <td>Petrol</td>\n",
              "      <td>yes</td>\n",
              "      <td>1991</td>\n",
              "      <td>320</td>\n",
              "    </tr>\n",
              "    <tr>\n",
              "      <th>1</th>\n",
              "      <td>Mercedes-Benz</td>\n",
              "      <td>7900.0</td>\n",
              "      <td>van</td>\n",
              "      <td>427</td>\n",
              "      <td>2.90</td>\n",
              "      <td>Diesel</td>\n",
              "      <td>yes</td>\n",
              "      <td>1999</td>\n",
              "      <td>Sprinter 212</td>\n",
              "    </tr>\n",
              "    <tr>\n",
              "      <th>2</th>\n",
              "      <td>Mercedes-Benz</td>\n",
              "      <td>13300.0</td>\n",
              "      <td>sedan</td>\n",
              "      <td>358</td>\n",
              "      <td>5.00</td>\n",
              "      <td>Gas</td>\n",
              "      <td>yes</td>\n",
              "      <td>2003</td>\n",
              "      <td>S 500</td>\n",
              "    </tr>\n",
              "    <tr>\n",
              "      <th>3</th>\n",
              "      <td>Audi</td>\n",
              "      <td>23000.0</td>\n",
              "      <td>crossover</td>\n",
              "      <td>240</td>\n",
              "      <td>4.20</td>\n",
              "      <td>Petrol</td>\n",
              "      <td>yes</td>\n",
              "      <td>2007</td>\n",
              "      <td>Q7</td>\n",
              "    </tr>\n",
              "    <tr>\n",
              "      <th>4</th>\n",
              "      <td>Toyota</td>\n",
              "      <td>18300.0</td>\n",
              "      <td>crossover</td>\n",
              "      <td>120</td>\n",
              "      <td>2.00</td>\n",
              "      <td>Petrol</td>\n",
              "      <td>yes</td>\n",
              "      <td>2011</td>\n",
              "      <td>Rav 4</td>\n",
              "    </tr>\n",
              "    <tr>\n",
              "      <th>5</th>\n",
              "      <td>Mercedes-Benz</td>\n",
              "      <td>199999.0</td>\n",
              "      <td>crossover</td>\n",
              "      <td>0</td>\n",
              "      <td>5.50</td>\n",
              "      <td>Petrol</td>\n",
              "      <td>yes</td>\n",
              "      <td>2016</td>\n",
              "      <td>GLS 63</td>\n",
              "    </tr>\n",
              "    <tr>\n",
              "      <th>6</th>\n",
              "      <td>BMW</td>\n",
              "      <td>6100.0</td>\n",
              "      <td>sedan</td>\n",
              "      <td>438</td>\n",
              "      <td>2.00</td>\n",
              "      <td>Gas</td>\n",
              "      <td>yes</td>\n",
              "      <td>1997</td>\n",
              "      <td>320</td>\n",
              "    </tr>\n",
              "    <tr>\n",
              "      <th>7</th>\n",
              "      <td>Audi</td>\n",
              "      <td>14200.0</td>\n",
              "      <td>vagon</td>\n",
              "      <td>200</td>\n",
              "      <td>2.70</td>\n",
              "      <td>Diesel</td>\n",
              "      <td>yes</td>\n",
              "      <td>2006</td>\n",
              "      <td>A6</td>\n",
              "    </tr>\n",
              "    <tr>\n",
              "      <th>8</th>\n",
              "      <td>Renault</td>\n",
              "      <td>10799.0</td>\n",
              "      <td>vagon</td>\n",
              "      <td>193</td>\n",
              "      <td>1.50</td>\n",
              "      <td>Diesel</td>\n",
              "      <td>yes</td>\n",
              "      <td>2012</td>\n",
              "      <td>Megane</td>\n",
              "    </tr>\n",
              "    <tr>\n",
              "      <th>9</th>\n",
              "      <td>Volkswagen</td>\n",
              "      <td>1400.0</td>\n",
              "      <td>other</td>\n",
              "      <td>212</td>\n",
              "      <td>1.80</td>\n",
              "      <td>Gas</td>\n",
              "      <td>no</td>\n",
              "      <td>1999</td>\n",
              "      <td>Golf IV</td>\n",
              "    </tr>\n",
              "    <tr>\n",
              "      <th>10</th>\n",
              "      <td>Renault</td>\n",
              "      <td>11950.0</td>\n",
              "      <td>vagon</td>\n",
              "      <td>177</td>\n",
              "      <td>1.50</td>\n",
              "      <td>Diesel</td>\n",
              "      <td>yes</td>\n",
              "      <td>2011</td>\n",
              "      <td>Megane</td>\n",
              "    </tr>\n",
              "    <tr>\n",
              "      <th>11</th>\n",
              "      <td>Renault</td>\n",
              "      <td>2500.0</td>\n",
              "      <td>sedan</td>\n",
              "      <td>260</td>\n",
              "      <td>1.79</td>\n",
              "      <td>Petrol</td>\n",
              "      <td>yes</td>\n",
              "      <td>1994</td>\n",
              "      <td>19</td>\n",
              "    </tr>\n",
              "    <tr>\n",
              "      <th>12</th>\n",
              "      <td>Audi</td>\n",
              "      <td>9500.0</td>\n",
              "      <td>vagon</td>\n",
              "      <td>165</td>\n",
              "      <td>2.70</td>\n",
              "      <td>Gas</td>\n",
              "      <td>yes</td>\n",
              "      <td>2003</td>\n",
              "      <td>A6 Allroad</td>\n",
              "    </tr>\n",
              "    <tr>\n",
              "      <th>13</th>\n",
              "      <td>Volkswagen</td>\n",
              "      <td>10500.0</td>\n",
              "      <td>sedan</td>\n",
              "      <td>100</td>\n",
              "      <td>1.80</td>\n",
              "      <td>Petrol</td>\n",
              "      <td>yes</td>\n",
              "      <td>2008</td>\n",
              "      <td>Passat B6</td>\n",
              "    </tr>\n",
              "    <tr>\n",
              "      <th>14</th>\n",
              "      <td>Toyota</td>\n",
              "      <td>16000.0</td>\n",
              "      <td>crossover</td>\n",
              "      <td>250</td>\n",
              "      <td>4.70</td>\n",
              "      <td>Gas</td>\n",
              "      <td>yes</td>\n",
              "      <td>2001</td>\n",
              "      <td>Land Cruiser 100</td>\n",
              "    </tr>\n",
              "  </tbody>\n",
              "</table>\n",
              "</div>"
            ],
            "text/plain": [
              "            Brand     Price       Body  ...  Registration  Year             Model\n",
              "0             BMW    4200.0      sedan  ...           yes  1991               320\n",
              "1   Mercedes-Benz    7900.0        van  ...           yes  1999      Sprinter 212\n",
              "2   Mercedes-Benz   13300.0      sedan  ...           yes  2003             S 500\n",
              "3            Audi   23000.0  crossover  ...           yes  2007                Q7\n",
              "4          Toyota   18300.0  crossover  ...           yes  2011             Rav 4\n",
              "5   Mercedes-Benz  199999.0  crossover  ...           yes  2016            GLS 63\n",
              "6             BMW    6100.0      sedan  ...           yes  1997               320\n",
              "7            Audi   14200.0      vagon  ...           yes  2006                A6\n",
              "8         Renault   10799.0      vagon  ...           yes  2012            Megane\n",
              "9      Volkswagen    1400.0      other  ...            no  1999           Golf IV\n",
              "10        Renault   11950.0      vagon  ...           yes  2011            Megane\n",
              "11        Renault    2500.0      sedan  ...           yes  1994                19\n",
              "12           Audi    9500.0      vagon  ...           yes  2003        A6 Allroad\n",
              "13     Volkswagen   10500.0      sedan  ...           yes  2008         Passat B6\n",
              "14         Toyota   16000.0  crossover  ...           yes  2001  Land Cruiser 100\n",
              "\n",
              "[15 rows x 9 columns]"
            ]
          },
          "metadata": {},
          "execution_count": 10
        }
      ]
    },
    {
      "cell_type": "code",
      "metadata": {
        "colab": {
          "base_uri": "https://localhost:8080/",
          "height": 511
        },
        "id": "7ZGzcoFBk3Bd",
        "outputId": "7f53285a-0283-46cb-8a03-d869aa4ca14e"
      },
      "source": [
        "data[:15]"
      ],
      "execution_count": null,
      "outputs": [
        {
          "output_type": "execute_result",
          "data": {
            "text/html": [
              "<div>\n",
              "<style scoped>\n",
              "    .dataframe tbody tr th:only-of-type {\n",
              "        vertical-align: middle;\n",
              "    }\n",
              "\n",
              "    .dataframe tbody tr th {\n",
              "        vertical-align: top;\n",
              "    }\n",
              "\n",
              "    .dataframe thead th {\n",
              "        text-align: right;\n",
              "    }\n",
              "</style>\n",
              "<table border=\"1\" class=\"dataframe\">\n",
              "  <thead>\n",
              "    <tr style=\"text-align: right;\">\n",
              "      <th></th>\n",
              "      <th>Brand</th>\n",
              "      <th>Price</th>\n",
              "      <th>Body</th>\n",
              "      <th>Mileage</th>\n",
              "      <th>EngineV</th>\n",
              "      <th>Engine Type</th>\n",
              "      <th>Registration</th>\n",
              "      <th>Year</th>\n",
              "      <th>Model</th>\n",
              "    </tr>\n",
              "  </thead>\n",
              "  <tbody>\n",
              "    <tr>\n",
              "      <th>0</th>\n",
              "      <td>BMW</td>\n",
              "      <td>4200.0</td>\n",
              "      <td>sedan</td>\n",
              "      <td>277</td>\n",
              "      <td>2.00</td>\n",
              "      <td>Petrol</td>\n",
              "      <td>yes</td>\n",
              "      <td>1991</td>\n",
              "      <td>320</td>\n",
              "    </tr>\n",
              "    <tr>\n",
              "      <th>1</th>\n",
              "      <td>Mercedes-Benz</td>\n",
              "      <td>7900.0</td>\n",
              "      <td>van</td>\n",
              "      <td>427</td>\n",
              "      <td>2.90</td>\n",
              "      <td>Diesel</td>\n",
              "      <td>yes</td>\n",
              "      <td>1999</td>\n",
              "      <td>Sprinter 212</td>\n",
              "    </tr>\n",
              "    <tr>\n",
              "      <th>2</th>\n",
              "      <td>Mercedes-Benz</td>\n",
              "      <td>13300.0</td>\n",
              "      <td>sedan</td>\n",
              "      <td>358</td>\n",
              "      <td>5.00</td>\n",
              "      <td>Gas</td>\n",
              "      <td>yes</td>\n",
              "      <td>2003</td>\n",
              "      <td>S 500</td>\n",
              "    </tr>\n",
              "    <tr>\n",
              "      <th>3</th>\n",
              "      <td>Audi</td>\n",
              "      <td>23000.0</td>\n",
              "      <td>crossover</td>\n",
              "      <td>240</td>\n",
              "      <td>4.20</td>\n",
              "      <td>Petrol</td>\n",
              "      <td>yes</td>\n",
              "      <td>2007</td>\n",
              "      <td>Q7</td>\n",
              "    </tr>\n",
              "    <tr>\n",
              "      <th>4</th>\n",
              "      <td>Toyota</td>\n",
              "      <td>18300.0</td>\n",
              "      <td>crossover</td>\n",
              "      <td>120</td>\n",
              "      <td>2.00</td>\n",
              "      <td>Petrol</td>\n",
              "      <td>yes</td>\n",
              "      <td>2011</td>\n",
              "      <td>Rav 4</td>\n",
              "    </tr>\n",
              "    <tr>\n",
              "      <th>5</th>\n",
              "      <td>Mercedes-Benz</td>\n",
              "      <td>199999.0</td>\n",
              "      <td>crossover</td>\n",
              "      <td>0</td>\n",
              "      <td>5.50</td>\n",
              "      <td>Petrol</td>\n",
              "      <td>yes</td>\n",
              "      <td>2016</td>\n",
              "      <td>GLS 63</td>\n",
              "    </tr>\n",
              "    <tr>\n",
              "      <th>6</th>\n",
              "      <td>BMW</td>\n",
              "      <td>6100.0</td>\n",
              "      <td>sedan</td>\n",
              "      <td>438</td>\n",
              "      <td>2.00</td>\n",
              "      <td>Gas</td>\n",
              "      <td>yes</td>\n",
              "      <td>1997</td>\n",
              "      <td>320</td>\n",
              "    </tr>\n",
              "    <tr>\n",
              "      <th>7</th>\n",
              "      <td>Audi</td>\n",
              "      <td>14200.0</td>\n",
              "      <td>vagon</td>\n",
              "      <td>200</td>\n",
              "      <td>2.70</td>\n",
              "      <td>Diesel</td>\n",
              "      <td>yes</td>\n",
              "      <td>2006</td>\n",
              "      <td>A6</td>\n",
              "    </tr>\n",
              "    <tr>\n",
              "      <th>8</th>\n",
              "      <td>Renault</td>\n",
              "      <td>10799.0</td>\n",
              "      <td>vagon</td>\n",
              "      <td>193</td>\n",
              "      <td>1.50</td>\n",
              "      <td>Diesel</td>\n",
              "      <td>yes</td>\n",
              "      <td>2012</td>\n",
              "      <td>Megane</td>\n",
              "    </tr>\n",
              "    <tr>\n",
              "      <th>9</th>\n",
              "      <td>Volkswagen</td>\n",
              "      <td>1400.0</td>\n",
              "      <td>other</td>\n",
              "      <td>212</td>\n",
              "      <td>1.80</td>\n",
              "      <td>Gas</td>\n",
              "      <td>no</td>\n",
              "      <td>1999</td>\n",
              "      <td>Golf IV</td>\n",
              "    </tr>\n",
              "    <tr>\n",
              "      <th>10</th>\n",
              "      <td>Renault</td>\n",
              "      <td>11950.0</td>\n",
              "      <td>vagon</td>\n",
              "      <td>177</td>\n",
              "      <td>1.50</td>\n",
              "      <td>Diesel</td>\n",
              "      <td>yes</td>\n",
              "      <td>2011</td>\n",
              "      <td>Megane</td>\n",
              "    </tr>\n",
              "    <tr>\n",
              "      <th>11</th>\n",
              "      <td>Renault</td>\n",
              "      <td>2500.0</td>\n",
              "      <td>sedan</td>\n",
              "      <td>260</td>\n",
              "      <td>1.79</td>\n",
              "      <td>Petrol</td>\n",
              "      <td>yes</td>\n",
              "      <td>1994</td>\n",
              "      <td>19</td>\n",
              "    </tr>\n",
              "    <tr>\n",
              "      <th>12</th>\n",
              "      <td>Audi</td>\n",
              "      <td>9500.0</td>\n",
              "      <td>vagon</td>\n",
              "      <td>165</td>\n",
              "      <td>2.70</td>\n",
              "      <td>Gas</td>\n",
              "      <td>yes</td>\n",
              "      <td>2003</td>\n",
              "      <td>A6 Allroad</td>\n",
              "    </tr>\n",
              "    <tr>\n",
              "      <th>13</th>\n",
              "      <td>Volkswagen</td>\n",
              "      <td>10500.0</td>\n",
              "      <td>sedan</td>\n",
              "      <td>100</td>\n",
              "      <td>1.80</td>\n",
              "      <td>Petrol</td>\n",
              "      <td>yes</td>\n",
              "      <td>2008</td>\n",
              "      <td>Passat B6</td>\n",
              "    </tr>\n",
              "    <tr>\n",
              "      <th>14</th>\n",
              "      <td>Toyota</td>\n",
              "      <td>16000.0</td>\n",
              "      <td>crossover</td>\n",
              "      <td>250</td>\n",
              "      <td>4.70</td>\n",
              "      <td>Gas</td>\n",
              "      <td>yes</td>\n",
              "      <td>2001</td>\n",
              "      <td>Land Cruiser 100</td>\n",
              "    </tr>\n",
              "  </tbody>\n",
              "</table>\n",
              "</div>"
            ],
            "text/plain": [
              "            Brand     Price       Body  ...  Registration  Year             Model\n",
              "0             BMW    4200.0      sedan  ...           yes  1991               320\n",
              "1   Mercedes-Benz    7900.0        van  ...           yes  1999      Sprinter 212\n",
              "2   Mercedes-Benz   13300.0      sedan  ...           yes  2003             S 500\n",
              "3            Audi   23000.0  crossover  ...           yes  2007                Q7\n",
              "4          Toyota   18300.0  crossover  ...           yes  2011             Rav 4\n",
              "5   Mercedes-Benz  199999.0  crossover  ...           yes  2016            GLS 63\n",
              "6             BMW    6100.0      sedan  ...           yes  1997               320\n",
              "7            Audi   14200.0      vagon  ...           yes  2006                A6\n",
              "8         Renault   10799.0      vagon  ...           yes  2012            Megane\n",
              "9      Volkswagen    1400.0      other  ...            no  1999           Golf IV\n",
              "10        Renault   11950.0      vagon  ...           yes  2011            Megane\n",
              "11        Renault    2500.0      sedan  ...           yes  1994                19\n",
              "12           Audi    9500.0      vagon  ...           yes  2003        A6 Allroad\n",
              "13     Volkswagen   10500.0      sedan  ...           yes  2008         Passat B6\n",
              "14         Toyota   16000.0  crossover  ...           yes  2001  Land Cruiser 100\n",
              "\n",
              "[15 rows x 9 columns]"
            ]
          },
          "metadata": {},
          "execution_count": 11
        }
      ]
    },
    {
      "cell_type": "markdown",
      "metadata": {
        "id": "7abHS_-a_Mo3"
      },
      "source": [
        "#What is the average price?"
      ]
    },
    {
      "cell_type": "code",
      "metadata": {
        "id": "lrluzVgn_PBG",
        "colab": {
          "base_uri": "https://localhost:8080/"
        },
        "outputId": "fbac9be2-5b27-43bc-d6cb-2b91d2b662dc"
      },
      "source": [
        "data['Price'].mean()"
      ],
      "execution_count": null,
      "outputs": [
        {
          "output_type": "execute_result",
          "data": {
            "text/plain": [
              "19418.74693505871"
            ]
          },
          "metadata": {},
          "execution_count": 12
        }
      ]
    },
    {
      "cell_type": "markdown",
      "metadata": {
        "id": "SvUPEqYYVlfB"
      },
      "source": [
        "#How do I find the median of price?"
      ]
    },
    {
      "cell_type": "code",
      "metadata": {
        "id": "6vr-Ssf_VxC1",
        "colab": {
          "base_uri": "https://localhost:8080/"
        },
        "outputId": "0a7ffaeb-e406-4dcf-85f3-a15c7c4cc090"
      },
      "source": [
        "data['Price'].median()"
      ],
      "execution_count": null,
      "outputs": [
        {
          "output_type": "execute_result",
          "data": {
            "text/plain": [
              "11500.0"
            ]
          },
          "metadata": {},
          "execution_count": 13
        }
      ]
    },
    {
      "cell_type": "markdown",
      "metadata": {
        "id": "6PdSluDMWFdm"
      },
      "source": [
        "#Which is the most common Brand in the dataset?"
      ]
    },
    {
      "cell_type": "code",
      "metadata": {
        "id": "pBCu2xEqV88_",
        "colab": {
          "base_uri": "https://localhost:8080/"
        },
        "outputId": "97cabc99-0b96-41d7-e18b-82e8df0118a5"
      },
      "source": [
        "data['Brand'].mode()"
      ],
      "execution_count": null,
      "outputs": [
        {
          "output_type": "execute_result",
          "data": {
            "text/plain": [
              "0    Volkswagen\n",
              "dtype: object"
            ]
          },
          "metadata": {},
          "execution_count": 14
        }
      ]
    },
    {
      "cell_type": "markdown",
      "metadata": {
        "id": "pP54-jujYd3D"
      },
      "source": [
        "#How do I list only one column eg. 'Brand'?"
      ]
    },
    {
      "cell_type": "code",
      "metadata": {
        "id": "D1d1ca-cWU4d",
        "colab": {
          "base_uri": "https://localhost:8080/"
        },
        "outputId": "af34dd09-0ced-4d9e-8c32-ce6dd82d837a"
      },
      "source": [
        "data['Brand']"
      ],
      "execution_count": null,
      "outputs": [
        {
          "output_type": "execute_result",
          "data": {
            "text/plain": [
              "0                 BMW\n",
              "1       Mercedes-Benz\n",
              "2       Mercedes-Benz\n",
              "3                Audi\n",
              "4              Toyota\n",
              "            ...      \n",
              "4340    Mercedes-Benz\n",
              "4341              BMW\n",
              "4342              BMW\n",
              "4343           Toyota\n",
              "4344       Volkswagen\n",
              "Name: Brand, Length: 4345, dtype: object"
            ]
          },
          "metadata": {},
          "execution_count": 15
        }
      ]
    },
    {
      "cell_type": "markdown",
      "metadata": {
        "id": "k8gAseBAZnoB"
      },
      "source": [
        "#How do I list multiple columns of the dataset?"
      ]
    },
    {
      "cell_type": "code",
      "metadata": {
        "id": "BchHi5RNYqt2",
        "colab": {
          "base_uri": "https://localhost:8080/",
          "height": 417
        },
        "outputId": "1508a421-39b0-4d6a-8126-1202e7066c8c"
      },
      "source": [
        "data[['Brand','Year']]"
      ],
      "execution_count": null,
      "outputs": [
        {
          "output_type": "execute_result",
          "data": {
            "text/html": [
              "<div>\n",
              "<style scoped>\n",
              "    .dataframe tbody tr th:only-of-type {\n",
              "        vertical-align: middle;\n",
              "    }\n",
              "\n",
              "    .dataframe tbody tr th {\n",
              "        vertical-align: top;\n",
              "    }\n",
              "\n",
              "    .dataframe thead th {\n",
              "        text-align: right;\n",
              "    }\n",
              "</style>\n",
              "<table border=\"1\" class=\"dataframe\">\n",
              "  <thead>\n",
              "    <tr style=\"text-align: right;\">\n",
              "      <th></th>\n",
              "      <th>Brand</th>\n",
              "      <th>Year</th>\n",
              "    </tr>\n",
              "  </thead>\n",
              "  <tbody>\n",
              "    <tr>\n",
              "      <th>0</th>\n",
              "      <td>BMW</td>\n",
              "      <td>1991</td>\n",
              "    </tr>\n",
              "    <tr>\n",
              "      <th>1</th>\n",
              "      <td>Mercedes-Benz</td>\n",
              "      <td>1999</td>\n",
              "    </tr>\n",
              "    <tr>\n",
              "      <th>2</th>\n",
              "      <td>Mercedes-Benz</td>\n",
              "      <td>2003</td>\n",
              "    </tr>\n",
              "    <tr>\n",
              "      <th>3</th>\n",
              "      <td>Audi</td>\n",
              "      <td>2007</td>\n",
              "    </tr>\n",
              "    <tr>\n",
              "      <th>4</th>\n",
              "      <td>Toyota</td>\n",
              "      <td>2011</td>\n",
              "    </tr>\n",
              "    <tr>\n",
              "      <th>...</th>\n",
              "      <td>...</td>\n",
              "      <td>...</td>\n",
              "    </tr>\n",
              "    <tr>\n",
              "      <th>4340</th>\n",
              "      <td>Mercedes-Benz</td>\n",
              "      <td>2014</td>\n",
              "    </tr>\n",
              "    <tr>\n",
              "      <th>4341</th>\n",
              "      <td>BMW</td>\n",
              "      <td>1999</td>\n",
              "    </tr>\n",
              "    <tr>\n",
              "      <th>4342</th>\n",
              "      <td>BMW</td>\n",
              "      <td>1985</td>\n",
              "    </tr>\n",
              "    <tr>\n",
              "      <th>4343</th>\n",
              "      <td>Toyota</td>\n",
              "      <td>2014</td>\n",
              "    </tr>\n",
              "    <tr>\n",
              "      <th>4344</th>\n",
              "      <td>Volkswagen</td>\n",
              "      <td>2013</td>\n",
              "    </tr>\n",
              "  </tbody>\n",
              "</table>\n",
              "<p>4345 rows × 2 columns</p>\n",
              "</div>"
            ],
            "text/plain": [
              "              Brand  Year\n",
              "0               BMW  1991\n",
              "1     Mercedes-Benz  1999\n",
              "2     Mercedes-Benz  2003\n",
              "3              Audi  2007\n",
              "4            Toyota  2011\n",
              "...             ...   ...\n",
              "4340  Mercedes-Benz  2014\n",
              "4341            BMW  1999\n",
              "4342            BMW  1985\n",
              "4343         Toyota  2014\n",
              "4344     Volkswagen  2013\n",
              "\n",
              "[4345 rows x 2 columns]"
            ]
          },
          "metadata": {},
          "execution_count": 16
        }
      ]
    },
    {
      "cell_type": "markdown",
      "metadata": {
        "id": "tJ9l_PlpaEV0"
      },
      "source": [
        "#Which year of manufacture is most common in the dataset?"
      ]
    },
    {
      "cell_type": "code",
      "metadata": {
        "id": "TCk0Po1SaPSM",
        "colab": {
          "base_uri": "https://localhost:8080/"
        },
        "outputId": "4f535ea0-0219-458b-991c-c7aca95c7a03"
      },
      "source": [
        "data['Year'].mode()"
      ],
      "execution_count": null,
      "outputs": [
        {
          "output_type": "execute_result",
          "data": {
            "text/plain": [
              "0    2008\n",
              "dtype: int64"
            ]
          },
          "metadata": {},
          "execution_count": 17
        }
      ]
    },
    {
      "cell_type": "markdown",
      "metadata": {
        "id": "JE6WBg_QhZlX"
      },
      "source": [
        "#How many cars have year of manufacture as 2008?"
      ]
    },
    {
      "cell_type": "code",
      "metadata": {
        "id": "_DhaYUQ7bNN9",
        "colab": {
          "base_uri": "https://localhost:8080/"
        },
        "outputId": "48caa01e-4b6a-4269-aed8-fab494a91cdf"
      },
      "source": [
        "c=0\n",
        "for i in range(0,len(data)):\n",
        "  if(data['Year'][i]==2008):\n",
        "    c=c+1\n",
        "print(\"No. of cars in 2008=\"+str(c))\n"
      ],
      "execution_count": null,
      "outputs": [
        {
          "output_type": "stream",
          "name": "stdout",
          "text": [
            "No. of cars in 2008=419\n"
          ]
        }
      ]
    },
    {
      "cell_type": "markdown",
      "metadata": {
        "id": "6FaIsGa6hrth"
      },
      "source": [
        "#How many cars have year of manufacture between 2008 and 2012 (both years inclusive)?"
      ]
    },
    {
      "cell_type": "code",
      "metadata": {
        "id": "H-Q5AsH7h4Dv",
        "colab": {
          "base_uri": "https://localhost:8080/"
        },
        "outputId": "5aca5174-3413-4240-a5e6-8f3127fe1ba6"
      },
      "source": [
        "c=0\n",
        "for i in range(0,len(data)):\n",
        "  if(data['Year'][i]>=2008 and data['Year'][i]<=2012):\n",
        "    c=c+1\n",
        "print(\"Number of cars having year of manufacture between 2008 and 2012 (both years inclusive) is \"+str(c))\n"
      ],
      "execution_count": null,
      "outputs": [
        {
          "output_type": "stream",
          "name": "stdout",
          "text": [
            "Number of cars having year of manufacture between 2008 and 2012 (both years inclusive) is 1404\n"
          ]
        }
      ]
    },
    {
      "cell_type": "markdown",
      "metadata": {
        "id": "BaF3oxnNifBn"
      },
      "source": [
        "#How many cars have Engine Type as Petrol?"
      ]
    },
    {
      "cell_type": "code",
      "metadata": {
        "id": "XDV-VF9ViNIx",
        "colab": {
          "base_uri": "https://localhost:8080/"
        },
        "outputId": "7371068b-46cf-4d0c-d1bc-37f81f0283c5"
      },
      "source": [
        "c=0\n",
        "for i in range(0,len(data)):\n",
        "  if(data['Engine Type'][i]=='Petrol'):\n",
        "    c=c+1\n",
        "print(\"Number of cars having Engine Type as Petrol is \"+str(c))"
      ],
      "execution_count": null,
      "outputs": [
        {
          "output_type": "stream",
          "text": [
            "Number of cars having Engine Type as Petrol is 1559\n"
          ],
          "name": "stdout"
        }
      ]
    },
    {
      "cell_type": "markdown",
      "metadata": {
        "id": "EGbSJmVTi81R"
      },
      "source": [
        "#What is the average mileage of all cars in the dataset?"
      ]
    },
    {
      "cell_type": "code",
      "metadata": {
        "id": "m9qtnpcfjGGk",
        "colab": {
          "base_uri": "https://localhost:8080/"
        },
        "outputId": "a3729b5d-9e32-4147-d5f3-0050cb38a73e"
      },
      "source": [
        "data['Mileage'].mean()"
      ],
      "execution_count": null,
      "outputs": [
        {
          "output_type": "execute_result",
          "data": {
            "text/plain": [
              "161.2372842347526"
            ]
          },
          "metadata": {},
          "execution_count": 20
        }
      ]
    },
    {
      "cell_type": "markdown",
      "metadata": {
        "id": "LphK8-Iljb1Q"
      },
      "source": [
        "#How can I list data of even rows in the dataset?"
      ]
    },
    {
      "cell_type": "code",
      "metadata": {
        "id": "PtKLUOJ5jWId",
        "colab": {
          "base_uri": "https://localhost:8080/",
          "height": 417
        },
        "outputId": "36db1fde-0391-487c-fb15-efba6932d7d4"
      },
      "source": [
        "data[::2]"
      ],
      "execution_count": null,
      "outputs": [
        {
          "output_type": "execute_result",
          "data": {
            "text/html": [
              "<div>\n",
              "<style scoped>\n",
              "    .dataframe tbody tr th:only-of-type {\n",
              "        vertical-align: middle;\n",
              "    }\n",
              "\n",
              "    .dataframe tbody tr th {\n",
              "        vertical-align: top;\n",
              "    }\n",
              "\n",
              "    .dataframe thead th {\n",
              "        text-align: right;\n",
              "    }\n",
              "</style>\n",
              "<table border=\"1\" class=\"dataframe\">\n",
              "  <thead>\n",
              "    <tr style=\"text-align: right;\">\n",
              "      <th></th>\n",
              "      <th>Brand</th>\n",
              "      <th>Price</th>\n",
              "      <th>Body</th>\n",
              "      <th>Mileage</th>\n",
              "      <th>EngineV</th>\n",
              "      <th>Engine Type</th>\n",
              "      <th>Registration</th>\n",
              "      <th>Year</th>\n",
              "      <th>Model</th>\n",
              "    </tr>\n",
              "  </thead>\n",
              "  <tbody>\n",
              "    <tr>\n",
              "      <th>0</th>\n",
              "      <td>BMW</td>\n",
              "      <td>4200.0</td>\n",
              "      <td>sedan</td>\n",
              "      <td>277</td>\n",
              "      <td>2.0</td>\n",
              "      <td>Petrol</td>\n",
              "      <td>yes</td>\n",
              "      <td>1991</td>\n",
              "      <td>320</td>\n",
              "    </tr>\n",
              "    <tr>\n",
              "      <th>2</th>\n",
              "      <td>Mercedes-Benz</td>\n",
              "      <td>13300.0</td>\n",
              "      <td>sedan</td>\n",
              "      <td>358</td>\n",
              "      <td>5.0</td>\n",
              "      <td>Gas</td>\n",
              "      <td>yes</td>\n",
              "      <td>2003</td>\n",
              "      <td>S 500</td>\n",
              "    </tr>\n",
              "    <tr>\n",
              "      <th>4</th>\n",
              "      <td>Toyota</td>\n",
              "      <td>18300.0</td>\n",
              "      <td>crossover</td>\n",
              "      <td>120</td>\n",
              "      <td>2.0</td>\n",
              "      <td>Petrol</td>\n",
              "      <td>yes</td>\n",
              "      <td>2011</td>\n",
              "      <td>Rav 4</td>\n",
              "    </tr>\n",
              "    <tr>\n",
              "      <th>6</th>\n",
              "      <td>BMW</td>\n",
              "      <td>6100.0</td>\n",
              "      <td>sedan</td>\n",
              "      <td>438</td>\n",
              "      <td>2.0</td>\n",
              "      <td>Gas</td>\n",
              "      <td>yes</td>\n",
              "      <td>1997</td>\n",
              "      <td>320</td>\n",
              "    </tr>\n",
              "    <tr>\n",
              "      <th>8</th>\n",
              "      <td>Renault</td>\n",
              "      <td>10799.0</td>\n",
              "      <td>vagon</td>\n",
              "      <td>193</td>\n",
              "      <td>1.5</td>\n",
              "      <td>Diesel</td>\n",
              "      <td>yes</td>\n",
              "      <td>2012</td>\n",
              "      <td>Megane</td>\n",
              "    </tr>\n",
              "    <tr>\n",
              "      <th>...</th>\n",
              "      <td>...</td>\n",
              "      <td>...</td>\n",
              "      <td>...</td>\n",
              "      <td>...</td>\n",
              "      <td>...</td>\n",
              "      <td>...</td>\n",
              "      <td>...</td>\n",
              "      <td>...</td>\n",
              "      <td>...</td>\n",
              "    </tr>\n",
              "    <tr>\n",
              "      <th>4336</th>\n",
              "      <td>Renault</td>\n",
              "      <td>2100.0</td>\n",
              "      <td>vagon</td>\n",
              "      <td>237</td>\n",
              "      <td>1.9</td>\n",
              "      <td>Diesel</td>\n",
              "      <td>no</td>\n",
              "      <td>2001</td>\n",
              "      <td>Laguna</td>\n",
              "    </tr>\n",
              "    <tr>\n",
              "      <th>4338</th>\n",
              "      <td>Volkswagen</td>\n",
              "      <td>11500.0</td>\n",
              "      <td>van</td>\n",
              "      <td>163</td>\n",
              "      <td>2.5</td>\n",
              "      <td>Diesel</td>\n",
              "      <td>yes</td>\n",
              "      <td>2008</td>\n",
              "      <td>T5 (Transporter)</td>\n",
              "    </tr>\n",
              "    <tr>\n",
              "      <th>4340</th>\n",
              "      <td>Mercedes-Benz</td>\n",
              "      <td>125000.0</td>\n",
              "      <td>sedan</td>\n",
              "      <td>9</td>\n",
              "      <td>3.0</td>\n",
              "      <td>Diesel</td>\n",
              "      <td>yes</td>\n",
              "      <td>2014</td>\n",
              "      <td>S 350</td>\n",
              "    </tr>\n",
              "    <tr>\n",
              "      <th>4342</th>\n",
              "      <td>BMW</td>\n",
              "      <td>8000.0</td>\n",
              "      <td>sedan</td>\n",
              "      <td>194</td>\n",
              "      <td>2.0</td>\n",
              "      <td>Petrol</td>\n",
              "      <td>yes</td>\n",
              "      <td>1985</td>\n",
              "      <td>520</td>\n",
              "    </tr>\n",
              "    <tr>\n",
              "      <th>4344</th>\n",
              "      <td>Volkswagen</td>\n",
              "      <td>13500.0</td>\n",
              "      <td>van</td>\n",
              "      <td>124</td>\n",
              "      <td>2.0</td>\n",
              "      <td>Diesel</td>\n",
              "      <td>yes</td>\n",
              "      <td>2013</td>\n",
              "      <td>T5 (Transporter)</td>\n",
              "    </tr>\n",
              "  </tbody>\n",
              "</table>\n",
              "<p>2173 rows × 9 columns</p>\n",
              "</div>"
            ],
            "text/plain": [
              "              Brand     Price       Body  ...  Registration  Year              Model\n",
              "0               BMW    4200.0      sedan  ...           yes  1991                320\n",
              "2     Mercedes-Benz   13300.0      sedan  ...           yes  2003              S 500\n",
              "4            Toyota   18300.0  crossover  ...           yes  2011              Rav 4\n",
              "6               BMW    6100.0      sedan  ...           yes  1997                320\n",
              "8           Renault   10799.0      vagon  ...           yes  2012             Megane\n",
              "...             ...       ...        ...  ...           ...   ...                ...\n",
              "4336        Renault    2100.0      vagon  ...            no  2001             Laguna\n",
              "4338     Volkswagen   11500.0        van  ...           yes  2008   T5 (Transporter)\n",
              "4340  Mercedes-Benz  125000.0      sedan  ...           yes  2014              S 350\n",
              "4342            BMW    8000.0      sedan  ...           yes  1985                520\n",
              "4344     Volkswagen   13500.0        van  ...           yes  2013  T5 (Transporter) \n",
              "\n",
              "[2173 rows x 9 columns]"
            ]
          },
          "metadata": {},
          "execution_count": 21
        }
      ]
    },
    {
      "cell_type": "markdown",
      "metadata": {
        "id": "jNuxd4tXjuQN"
      },
      "source": [
        "#How can I list data of odd rows in the dataset?"
      ]
    },
    {
      "cell_type": "code",
      "metadata": {
        "id": "Yg2k65iHj0qs",
        "colab": {
          "base_uri": "https://localhost:8080/",
          "height": 402
        },
        "outputId": "33912569-c840-497d-eaca-67046d2e1819"
      },
      "source": [
        "data[1::2]"
      ],
      "execution_count": null,
      "outputs": [
        {
          "output_type": "execute_result",
          "data": {
            "text/html": [
              "<div>\n",
              "<style scoped>\n",
              "    .dataframe tbody tr th:only-of-type {\n",
              "        vertical-align: middle;\n",
              "    }\n",
              "\n",
              "    .dataframe tbody tr th {\n",
              "        vertical-align: top;\n",
              "    }\n",
              "\n",
              "    .dataframe thead th {\n",
              "        text-align: right;\n",
              "    }\n",
              "</style>\n",
              "<table border=\"1\" class=\"dataframe\">\n",
              "  <thead>\n",
              "    <tr style=\"text-align: right;\">\n",
              "      <th></th>\n",
              "      <th>Brand</th>\n",
              "      <th>Price</th>\n",
              "      <th>Body</th>\n",
              "      <th>Mileage</th>\n",
              "      <th>EngineV</th>\n",
              "      <th>Engine Type</th>\n",
              "      <th>Registration</th>\n",
              "      <th>Year</th>\n",
              "      <th>Model</th>\n",
              "    </tr>\n",
              "  </thead>\n",
              "  <tbody>\n",
              "    <tr>\n",
              "      <th>1</th>\n",
              "      <td>Mercedes-Benz</td>\n",
              "      <td>7900.0</td>\n",
              "      <td>van</td>\n",
              "      <td>427</td>\n",
              "      <td>2.9</td>\n",
              "      <td>Diesel</td>\n",
              "      <td>yes</td>\n",
              "      <td>1999</td>\n",
              "      <td>Sprinter 212</td>\n",
              "    </tr>\n",
              "    <tr>\n",
              "      <th>3</th>\n",
              "      <td>Audi</td>\n",
              "      <td>23000.0</td>\n",
              "      <td>crossover</td>\n",
              "      <td>240</td>\n",
              "      <td>4.2</td>\n",
              "      <td>Petrol</td>\n",
              "      <td>yes</td>\n",
              "      <td>2007</td>\n",
              "      <td>Q7</td>\n",
              "    </tr>\n",
              "    <tr>\n",
              "      <th>5</th>\n",
              "      <td>Mercedes-Benz</td>\n",
              "      <td>199999.0</td>\n",
              "      <td>crossover</td>\n",
              "      <td>0</td>\n",
              "      <td>5.5</td>\n",
              "      <td>Petrol</td>\n",
              "      <td>yes</td>\n",
              "      <td>2016</td>\n",
              "      <td>GLS 63</td>\n",
              "    </tr>\n",
              "    <tr>\n",
              "      <th>7</th>\n",
              "      <td>Audi</td>\n",
              "      <td>14200.0</td>\n",
              "      <td>vagon</td>\n",
              "      <td>200</td>\n",
              "      <td>2.7</td>\n",
              "      <td>Diesel</td>\n",
              "      <td>yes</td>\n",
              "      <td>2006</td>\n",
              "      <td>A6</td>\n",
              "    </tr>\n",
              "    <tr>\n",
              "      <th>9</th>\n",
              "      <td>Volkswagen</td>\n",
              "      <td>1400.0</td>\n",
              "      <td>other</td>\n",
              "      <td>212</td>\n",
              "      <td>1.8</td>\n",
              "      <td>Gas</td>\n",
              "      <td>no</td>\n",
              "      <td>1999</td>\n",
              "      <td>Golf IV</td>\n",
              "    </tr>\n",
              "    <tr>\n",
              "      <th>...</th>\n",
              "      <td>...</td>\n",
              "      <td>...</td>\n",
              "      <td>...</td>\n",
              "      <td>...</td>\n",
              "      <td>...</td>\n",
              "      <td>...</td>\n",
              "      <td>...</td>\n",
              "      <td>...</td>\n",
              "      <td>...</td>\n",
              "    </tr>\n",
              "    <tr>\n",
              "      <th>4335</th>\n",
              "      <td>BMW</td>\n",
              "      <td>27900.0</td>\n",
              "      <td>sedan</td>\n",
              "      <td>38</td>\n",
              "      <td>2.0</td>\n",
              "      <td>Petrol</td>\n",
              "      <td>yes</td>\n",
              "      <td>2013</td>\n",
              "      <td>320</td>\n",
              "    </tr>\n",
              "    <tr>\n",
              "      <th>4337</th>\n",
              "      <td>Renault</td>\n",
              "      <td>6800.0</td>\n",
              "      <td>sedan</td>\n",
              "      <td>152</td>\n",
              "      <td>1.6</td>\n",
              "      <td>Petrol</td>\n",
              "      <td>yes</td>\n",
              "      <td>2007</td>\n",
              "      <td>Megane</td>\n",
              "    </tr>\n",
              "    <tr>\n",
              "      <th>4339</th>\n",
              "      <td>Toyota</td>\n",
              "      <td>17900.0</td>\n",
              "      <td>sedan</td>\n",
              "      <td>35</td>\n",
              "      <td>1.6</td>\n",
              "      <td>Petrol</td>\n",
              "      <td>yes</td>\n",
              "      <td>2014</td>\n",
              "      <td>Corolla</td>\n",
              "    </tr>\n",
              "    <tr>\n",
              "      <th>4341</th>\n",
              "      <td>BMW</td>\n",
              "      <td>6500.0</td>\n",
              "      <td>sedan</td>\n",
              "      <td>1</td>\n",
              "      <td>3.5</td>\n",
              "      <td>Petrol</td>\n",
              "      <td>yes</td>\n",
              "      <td>1999</td>\n",
              "      <td>535</td>\n",
              "    </tr>\n",
              "    <tr>\n",
              "      <th>4343</th>\n",
              "      <td>Toyota</td>\n",
              "      <td>14200.0</td>\n",
              "      <td>sedan</td>\n",
              "      <td>31</td>\n",
              "      <td>NaN</td>\n",
              "      <td>Petrol</td>\n",
              "      <td>yes</td>\n",
              "      <td>2014</td>\n",
              "      <td>Corolla</td>\n",
              "    </tr>\n",
              "  </tbody>\n",
              "</table>\n",
              "<p>2172 rows × 9 columns</p>\n",
              "</div>"
            ],
            "text/plain": [
              "              Brand     Price       Body  ...  Registration  Year         Model\n",
              "1     Mercedes-Benz    7900.0        van  ...           yes  1999  Sprinter 212\n",
              "3              Audi   23000.0  crossover  ...           yes  2007            Q7\n",
              "5     Mercedes-Benz  199999.0  crossover  ...           yes  2016        GLS 63\n",
              "7              Audi   14200.0      vagon  ...           yes  2006            A6\n",
              "9        Volkswagen    1400.0      other  ...            no  1999       Golf IV\n",
              "...             ...       ...        ...  ...           ...   ...           ...\n",
              "4335            BMW   27900.0      sedan  ...           yes  2013           320\n",
              "4337        Renault    6800.0      sedan  ...           yes  2007        Megane\n",
              "4339         Toyota   17900.0      sedan  ...           yes  2014       Corolla\n",
              "4341            BMW    6500.0      sedan  ...           yes  1999           535\n",
              "4343         Toyota   14200.0      sedan  ...           yes  2014       Corolla\n",
              "\n",
              "[2172 rows x 9 columns]"
            ]
          },
          "metadata": {
            "tags": []
          },
          "execution_count": 71
        }
      ]
    },
    {
      "cell_type": "markdown",
      "metadata": {
        "id": "qvYHI-ghxcTF"
      },
      "source": [
        "#How do I find a set of row values in the dataset?"
      ]
    },
    {
      "cell_type": "code",
      "metadata": {
        "id": "PZMWyg23xVvq",
        "colab": {
          "base_uri": "https://localhost:8080/",
          "height": 234
        },
        "outputId": "7b566afe-a3fd-4af8-a3c0-94da0695a7c1"
      },
      "source": [
        "data.loc[345:350]"
      ],
      "execution_count": null,
      "outputs": [
        {
          "output_type": "execute_result",
          "data": {
            "text/html": [
              "<div>\n",
              "<style scoped>\n",
              "    .dataframe tbody tr th:only-of-type {\n",
              "        vertical-align: middle;\n",
              "    }\n",
              "\n",
              "    .dataframe tbody tr th {\n",
              "        vertical-align: top;\n",
              "    }\n",
              "\n",
              "    .dataframe thead th {\n",
              "        text-align: right;\n",
              "    }\n",
              "</style>\n",
              "<table border=\"1\" class=\"dataframe\">\n",
              "  <thead>\n",
              "    <tr style=\"text-align: right;\">\n",
              "      <th></th>\n",
              "      <th>Brand</th>\n",
              "      <th>Price</th>\n",
              "      <th>Body</th>\n",
              "      <th>Mileage</th>\n",
              "      <th>EngineV</th>\n",
              "      <th>Engine Type</th>\n",
              "      <th>Registration</th>\n",
              "      <th>Year</th>\n",
              "      <th>Model</th>\n",
              "    </tr>\n",
              "  </thead>\n",
              "  <tbody>\n",
              "    <tr>\n",
              "      <th>345</th>\n",
              "      <td>Renault</td>\n",
              "      <td>7600.0</td>\n",
              "      <td>van</td>\n",
              "      <td>108</td>\n",
              "      <td>1.0</td>\n",
              "      <td>Diesel</td>\n",
              "      <td>yes</td>\n",
              "      <td>2013</td>\n",
              "      <td>Kangoo</td>\n",
              "    </tr>\n",
              "    <tr>\n",
              "      <th>346</th>\n",
              "      <td>Renault</td>\n",
              "      <td>11100.0</td>\n",
              "      <td>vagon</td>\n",
              "      <td>180</td>\n",
              "      <td>1.5</td>\n",
              "      <td>Diesel</td>\n",
              "      <td>yes</td>\n",
              "      <td>2012</td>\n",
              "      <td>Megane</td>\n",
              "    </tr>\n",
              "    <tr>\n",
              "      <th>347</th>\n",
              "      <td>Mercedes-Benz</td>\n",
              "      <td>16500.0</td>\n",
              "      <td>other</td>\n",
              "      <td>260</td>\n",
              "      <td>2.2</td>\n",
              "      <td>Diesel</td>\n",
              "      <td>yes</td>\n",
              "      <td>2011</td>\n",
              "      <td>Sprinter 319</td>\n",
              "    </tr>\n",
              "    <tr>\n",
              "      <th>348</th>\n",
              "      <td>Mercedes-Benz</td>\n",
              "      <td>199999.0</td>\n",
              "      <td>crossover</td>\n",
              "      <td>0</td>\n",
              "      <td>5.5</td>\n",
              "      <td>Petrol</td>\n",
              "      <td>yes</td>\n",
              "      <td>2016</td>\n",
              "      <td>GLS 63</td>\n",
              "    </tr>\n",
              "    <tr>\n",
              "      <th>349</th>\n",
              "      <td>Mercedes-Benz</td>\n",
              "      <td>44000.0</td>\n",
              "      <td>other</td>\n",
              "      <td>82</td>\n",
              "      <td>5.5</td>\n",
              "      <td>Petrol</td>\n",
              "      <td>yes</td>\n",
              "      <td>2010</td>\n",
              "      <td>S 500</td>\n",
              "    </tr>\n",
              "    <tr>\n",
              "      <th>350</th>\n",
              "      <td>Audi</td>\n",
              "      <td>39900.0</td>\n",
              "      <td>other</td>\n",
              "      <td>12</td>\n",
              "      <td>1.8</td>\n",
              "      <td>Petrol</td>\n",
              "      <td>yes</td>\n",
              "      <td>2014</td>\n",
              "      <td>A5</td>\n",
              "    </tr>\n",
              "  </tbody>\n",
              "</table>\n",
              "</div>"
            ],
            "text/plain": [
              "             Brand     Price       Body  ...  Registration  Year         Model\n",
              "345        Renault    7600.0        van  ...           yes  2013        Kangoo\n",
              "346        Renault   11100.0      vagon  ...           yes  2012        Megane\n",
              "347  Mercedes-Benz   16500.0      other  ...           yes  2011  Sprinter 319\n",
              "348  Mercedes-Benz  199999.0  crossover  ...           yes  2016        GLS 63\n",
              "349  Mercedes-Benz   44000.0      other  ...           yes  2010         S 500\n",
              "350           Audi   39900.0      other  ...           yes  2014            A5\n",
              "\n",
              "[6 rows x 9 columns]"
            ]
          },
          "metadata": {},
          "execution_count": 22
        }
      ]
    },
    {
      "cell_type": "markdown",
      "metadata": {
        "id": "JW-0iPkU2SKx"
      },
      "source": [
        "#How do I find particular row values in the dataset?"
      ]
    },
    {
      "cell_type": "code",
      "metadata": {
        "id": "MhPSzyeo2FH8",
        "colab": {
          "base_uri": "https://localhost:8080/"
        },
        "outputId": "1b6a05ce-e6f3-4420-8fcd-b742e6e49da0"
      },
      "source": [
        "data.iloc[8]"
      ],
      "execution_count": null,
      "outputs": [
        {
          "output_type": "execute_result",
          "data": {
            "text/plain": [
              "Brand           Renault\n",
              "Price             10799\n",
              "Body              vagon\n",
              "Mileage             193\n",
              "EngineV             1.5\n",
              "Engine Type      Diesel\n",
              "Registration        yes\n",
              "Year               2012\n",
              "Model            Megane\n",
              "Name: 8, dtype: object"
            ]
          },
          "metadata": {},
          "execution_count": 23
        }
      ]
    },
    {
      "cell_type": "markdown",
      "metadata": {
        "id": "Nh5yioBbkSjC"
      },
      "source": [
        "#How can I access individual data elements in the dataset?"
      ]
    },
    {
      "cell_type": "code",
      "metadata": {
        "id": "MS4-qKWSkGth",
        "colab": {
          "base_uri": "https://localhost:8080/",
          "height": 35
        },
        "outputId": "3435d4f7-3926-476c-ac19-e37c928c04f0"
      },
      "source": [
        "data['Brand'][15]"
      ],
      "execution_count": null,
      "outputs": [
        {
          "output_type": "execute_result",
          "data": {
            "application/vnd.google.colaboratory.intrinsic+json": {
              "type": "string"
            },
            "text/plain": [
              "'Renault'"
            ]
          },
          "metadata": {},
          "execution_count": 24
        }
      ]
    },
    {
      "cell_type": "code",
      "metadata": {
        "colab": {
          "base_uri": "https://localhost:8080/"
        },
        "id": "PjPJFBpUmdsI",
        "outputId": "8c4d48d2-8ec7-41f9-cf05-8ce6d7ed3e16"
      },
      "source": [
        "data['Year'][2]"
      ],
      "execution_count": null,
      "outputs": [
        {
          "output_type": "execute_result",
          "data": {
            "text/plain": [
              "2003"
            ]
          },
          "metadata": {},
          "execution_count": 25
        }
      ]
    },
    {
      "cell_type": "markdown",
      "metadata": {
        "id": "udu6-iLMlzMh"
      },
      "source": [
        "#How can I access row data from multiple columns in a dataset?"
      ]
    },
    {
      "cell_type": "code",
      "metadata": {
        "id": "jj-yC63lkwUu",
        "colab": {
          "base_uri": "https://localhost:8080/"
        },
        "outputId": "24e15a04-ef44-4704-c736-49584d7ce20f"
      },
      "source": [
        "[data['Brand'][15],data['Year'][15]]"
      ],
      "execution_count": null,
      "outputs": [
        {
          "output_type": "execute_result",
          "data": {
            "text/plain": [
              "['Renault', 2012]"
            ]
          },
          "metadata": {},
          "execution_count": 26
        }
      ]
    },
    {
      "cell_type": "markdown",
      "metadata": {
        "id": "fwGKL-rPekvs"
      },
      "source": [
        "#How can I convert categorical values to numerical values in the dataset?"
      ]
    },
    {
      "cell_type": "code",
      "metadata": {
        "id": "cNzaGlgpevpG",
        "colab": {
          "base_uri": "https://localhost:8080/",
          "height": 417
        },
        "outputId": "251d51bb-daaf-402b-b199-c390c1afe31d"
      },
      "source": [
        "def reg_status(Registration):\n",
        "  if Registration==\"yes\":\n",
        "    label=1\n",
        "  else:\n",
        "    label=0\n",
        "  return label\n",
        "data['Registration']=data['Registration'].apply(reg_status)\n",
        "data"
      ],
      "execution_count": null,
      "outputs": [
        {
          "output_type": "execute_result",
          "data": {
            "text/html": [
              "<div>\n",
              "<style scoped>\n",
              "    .dataframe tbody tr th:only-of-type {\n",
              "        vertical-align: middle;\n",
              "    }\n",
              "\n",
              "    .dataframe tbody tr th {\n",
              "        vertical-align: top;\n",
              "    }\n",
              "\n",
              "    .dataframe thead th {\n",
              "        text-align: right;\n",
              "    }\n",
              "</style>\n",
              "<table border=\"1\" class=\"dataframe\">\n",
              "  <thead>\n",
              "    <tr style=\"text-align: right;\">\n",
              "      <th></th>\n",
              "      <th>Brand</th>\n",
              "      <th>Price</th>\n",
              "      <th>Body</th>\n",
              "      <th>Mileage</th>\n",
              "      <th>EngineV</th>\n",
              "      <th>Engine Type</th>\n",
              "      <th>Registration</th>\n",
              "      <th>Year</th>\n",
              "      <th>Model</th>\n",
              "    </tr>\n",
              "  </thead>\n",
              "  <tbody>\n",
              "    <tr>\n",
              "      <th>0</th>\n",
              "      <td>BMW</td>\n",
              "      <td>4200.0</td>\n",
              "      <td>sedan</td>\n",
              "      <td>277</td>\n",
              "      <td>2.0</td>\n",
              "      <td>Petrol</td>\n",
              "      <td>1</td>\n",
              "      <td>1991</td>\n",
              "      <td>320</td>\n",
              "    </tr>\n",
              "    <tr>\n",
              "      <th>1</th>\n",
              "      <td>Mercedes-Benz</td>\n",
              "      <td>7900.0</td>\n",
              "      <td>van</td>\n",
              "      <td>427</td>\n",
              "      <td>2.9</td>\n",
              "      <td>Diesel</td>\n",
              "      <td>1</td>\n",
              "      <td>1999</td>\n",
              "      <td>Sprinter 212</td>\n",
              "    </tr>\n",
              "    <tr>\n",
              "      <th>2</th>\n",
              "      <td>Mercedes-Benz</td>\n",
              "      <td>13300.0</td>\n",
              "      <td>sedan</td>\n",
              "      <td>358</td>\n",
              "      <td>5.0</td>\n",
              "      <td>Gas</td>\n",
              "      <td>1</td>\n",
              "      <td>2003</td>\n",
              "      <td>S 500</td>\n",
              "    </tr>\n",
              "    <tr>\n",
              "      <th>3</th>\n",
              "      <td>Audi</td>\n",
              "      <td>23000.0</td>\n",
              "      <td>crossover</td>\n",
              "      <td>240</td>\n",
              "      <td>4.2</td>\n",
              "      <td>Petrol</td>\n",
              "      <td>1</td>\n",
              "      <td>2007</td>\n",
              "      <td>Q7</td>\n",
              "    </tr>\n",
              "    <tr>\n",
              "      <th>4</th>\n",
              "      <td>Toyota</td>\n",
              "      <td>18300.0</td>\n",
              "      <td>crossover</td>\n",
              "      <td>120</td>\n",
              "      <td>2.0</td>\n",
              "      <td>Petrol</td>\n",
              "      <td>1</td>\n",
              "      <td>2011</td>\n",
              "      <td>Rav 4</td>\n",
              "    </tr>\n",
              "    <tr>\n",
              "      <th>...</th>\n",
              "      <td>...</td>\n",
              "      <td>...</td>\n",
              "      <td>...</td>\n",
              "      <td>...</td>\n",
              "      <td>...</td>\n",
              "      <td>...</td>\n",
              "      <td>...</td>\n",
              "      <td>...</td>\n",
              "      <td>...</td>\n",
              "    </tr>\n",
              "    <tr>\n",
              "      <th>4340</th>\n",
              "      <td>Mercedes-Benz</td>\n",
              "      <td>125000.0</td>\n",
              "      <td>sedan</td>\n",
              "      <td>9</td>\n",
              "      <td>3.0</td>\n",
              "      <td>Diesel</td>\n",
              "      <td>1</td>\n",
              "      <td>2014</td>\n",
              "      <td>S 350</td>\n",
              "    </tr>\n",
              "    <tr>\n",
              "      <th>4341</th>\n",
              "      <td>BMW</td>\n",
              "      <td>6500.0</td>\n",
              "      <td>sedan</td>\n",
              "      <td>1</td>\n",
              "      <td>3.5</td>\n",
              "      <td>Petrol</td>\n",
              "      <td>1</td>\n",
              "      <td>1999</td>\n",
              "      <td>535</td>\n",
              "    </tr>\n",
              "    <tr>\n",
              "      <th>4342</th>\n",
              "      <td>BMW</td>\n",
              "      <td>8000.0</td>\n",
              "      <td>sedan</td>\n",
              "      <td>194</td>\n",
              "      <td>2.0</td>\n",
              "      <td>Petrol</td>\n",
              "      <td>1</td>\n",
              "      <td>1985</td>\n",
              "      <td>520</td>\n",
              "    </tr>\n",
              "    <tr>\n",
              "      <th>4343</th>\n",
              "      <td>Toyota</td>\n",
              "      <td>14200.0</td>\n",
              "      <td>sedan</td>\n",
              "      <td>31</td>\n",
              "      <td>NaN</td>\n",
              "      <td>Petrol</td>\n",
              "      <td>1</td>\n",
              "      <td>2014</td>\n",
              "      <td>Corolla</td>\n",
              "    </tr>\n",
              "    <tr>\n",
              "      <th>4344</th>\n",
              "      <td>Volkswagen</td>\n",
              "      <td>13500.0</td>\n",
              "      <td>van</td>\n",
              "      <td>124</td>\n",
              "      <td>2.0</td>\n",
              "      <td>Diesel</td>\n",
              "      <td>1</td>\n",
              "      <td>2013</td>\n",
              "      <td>T5 (Transporter)</td>\n",
              "    </tr>\n",
              "  </tbody>\n",
              "</table>\n",
              "<p>4345 rows × 9 columns</p>\n",
              "</div>"
            ],
            "text/plain": [
              "              Brand     Price       Body  ...  Registration  Year              Model\n",
              "0               BMW    4200.0      sedan  ...             1  1991                320\n",
              "1     Mercedes-Benz    7900.0        van  ...             1  1999       Sprinter 212\n",
              "2     Mercedes-Benz   13300.0      sedan  ...             1  2003              S 500\n",
              "3              Audi   23000.0  crossover  ...             1  2007                 Q7\n",
              "4            Toyota   18300.0  crossover  ...             1  2011              Rav 4\n",
              "...             ...       ...        ...  ...           ...   ...                ...\n",
              "4340  Mercedes-Benz  125000.0      sedan  ...             1  2014              S 350\n",
              "4341            BMW    6500.0      sedan  ...             1  1999                535\n",
              "4342            BMW    8000.0      sedan  ...             1  1985                520\n",
              "4343         Toyota   14200.0      sedan  ...             1  2014            Corolla\n",
              "4344     Volkswagen   13500.0        van  ...             1  2013  T5 (Transporter) \n",
              "\n",
              "[4345 rows x 9 columns]"
            ]
          },
          "metadata": {},
          "execution_count": 27
        }
      ]
    },
    {
      "cell_type": "markdown",
      "metadata": {
        "id": "Oru3v-KD0-Gs"
      },
      "source": [
        "#How can I draw a bar chart representing all Brands in the dataset?"
      ]
    },
    {
      "cell_type": "code",
      "metadata": {
        "id": "CX6UpiRS0rhh",
        "colab": {
          "base_uri": "https://localhost:8080/",
          "height": 296
        },
        "outputId": "5a1a1a68-c93d-43ab-9e97-a0f0234aac6d"
      },
      "source": [
        "%matplotlib inline\n",
        "import numpy as np\n",
        "import pandas as pd\n",
        "import seaborn as sns\n",
        "import matplotlib.pyplot as plt\n",
        "import math\n",
        "sns.countplot( data=data, x='Brand')\n",
        "\n"
      ],
      "execution_count": null,
      "outputs": [
        {
          "output_type": "execute_result",
          "data": {
            "text/plain": [
              "<matplotlib.axes._subplots.AxesSubplot at 0x7f85ad01a090>"
            ]
          },
          "metadata": {},
          "execution_count": 28
        },
        {
          "output_type": "display_data",
          "data": {
            "image/png": "[encoded data removed]",
            "text/plain": [
              "<Figure size 432x288 with 1 Axes>"
            ]
          },
          "metadata": {
            "needs_background": "light"
          }
        }
      ]
    },
    {
      "cell_type": "markdown",
      "metadata": {
        "id": "Jqkz4WTDzzr4"
      },
      "source": [
        "# Which Brand of the Diesel Engine Type was mostly resold?"
      ]
    },
    {
      "cell_type": "code",
      "metadata": {
        "colab": {
          "base_uri": "https://localhost:8080/",
          "height": 296
        },
        "id": "l_3aar9fzy3D",
        "outputId": "942ccadd-00f7-4798-efc6-702286c30c0a"
      },
      "source": [
        "import seaborn as sns\n",
        "sns.countplot(x='Engine Type',hue='Brand', data=data)"
      ],
      "execution_count": null,
      "outputs": [
        {
          "output_type": "execute_result",
          "data": {
            "text/plain": [
              "<matplotlib.axes._subplots.AxesSubplot at 0x7f85acedf190>"
            ]
          },
          "metadata": {},
          "execution_count": 29
        },
        {
          "output_type": "display_data",
          "data": {
            "image/png": "[encoded data removed]",
            "text/plain": [
              "<Figure size 432x288 with 1 Axes>"
            ]
          },
          "metadata": {
            "needs_background": "light"
          }
        }
      ]
    },
    {
      "cell_type": "markdown",
      "metadata": {
        "id": "RZMoJ_3D0WCR"
      },
      "source": [
        "It is clear from the above graph that in the Diesel Engine Type Volkswagen was mostly resold."
      ]
    },
    {
      "cell_type": "markdown",
      "metadata": {
        "id": "MJsnth0w10lA"
      },
      "source": [
        "#How can I compare the Engine Types of various Brands in the dataset?"
      ]
    },
    {
      "cell_type": "code",
      "metadata": {
        "id": "mOoL4-g21IEq",
        "colab": {
          "base_uri": "https://localhost:8080/",
          "height": 296
        },
        "outputId": "685fdc3b-5264-459c-ec2a-e80fe86e2216"
      },
      "source": [
        "sns.countplot(x='Brand',hue='Engine Type', data=data)"
      ],
      "execution_count": null,
      "outputs": [
        {
          "output_type": "execute_result",
          "data": {
            "text/plain": [
              "<matplotlib.axes._subplots.AxesSubplot at 0x7f85ac9d9ed0>"
            ]
          },
          "metadata": {},
          "execution_count": 30
        },
        {
          "output_type": "display_data",
          "data": {
            "image/png": "[encoded data removed]",
            "text/plain": [
              "<Figure size 432x288 with 1 Axes>"
            ]
          },
          "metadata": {
            "needs_background": "light"
          }
        }
      ]
    },
    {
      "cell_type": "markdown",
      "metadata": {
        "id": "-DWURXzt2sOk"
      },
      "source": [
        "#How can I compare the Body Types of various Brands in the dataset?"
      ]
    },
    {
      "cell_type": "code",
      "metadata": {
        "id": "auc6uoro186t",
        "colab": {
          "base_uri": "https://localhost:8080/",
          "height": 296
        },
        "outputId": "85bf2414-8759-44d7-b025-394c71a266c2"
      },
      "source": [
        "sns.countplot(x='Brand',hue='Body', data=data)"
      ],
      "execution_count": null,
      "outputs": [
        {
          "output_type": "execute_result",
          "data": {
            "text/plain": [
              "<matplotlib.axes._subplots.AxesSubplot at 0x7f85ac8d5b10>"
            ]
          },
          "metadata": {},
          "execution_count": 31
        },
        {
          "output_type": "display_data",
          "data": {
            "image/png": "[encoded data removed]",
            "text/plain": [
              "<Figure size 432x288 with 1 Axes>"
            ]
          },
          "metadata": {
            "needs_background": "light"
          }
        }
      ]
    },
    {
      "cell_type": "markdown",
      "metadata": {
        "id": "7Gh4wJGz3LcS"
      },
      "source": [
        "#How can I plot the histogram of Price in the dataset?"
      ]
    },
    {
      "cell_type": "code",
      "metadata": {
        "id": "UMkxtq0R2618",
        "colab": {
          "base_uri": "https://localhost:8080/",
          "height": 282
        },
        "outputId": "819ce288-57ce-423d-d653-e5b06080a02a"
      },
      "source": [
        "data['Price'].plot.hist()"
      ],
      "execution_count": null,
      "outputs": [
        {
          "output_type": "execute_result",
          "data": {
            "text/plain": [
              "<matplotlib.axes._subplots.AxesSubplot at 0x7f6e2e5397f0>"
            ]
          },
          "metadata": {
            "tags": []
          },
          "execution_count": 9
        },
        {
          "output_type": "display_data",
          "data": {
            "image/png": "[encoded data removed]",
            "text/plain": [
              "<Figure size 432x288 with 1 Axes>"
            ]
          },
          "metadata": {
            "tags": [],
            "needs_background": "light"
          }
        }
      ]
    },
    {
      "cell_type": "markdown",
      "metadata": {
        "id": "9o-qwQG941Zp"
      },
      "source": [
        "#How can I find the number of null values in the dataset?"
      ]
    },
    {
      "cell_type": "code",
      "metadata": {
        "id": "SGZo-upR3Yky",
        "colab": {
          "base_uri": "https://localhost:8080/"
        },
        "outputId": "b721e53b-533d-4e78-a575-6367bcd74df8"
      },
      "source": [
        "data.isnull().sum()"
      ],
      "execution_count": null,
      "outputs": [
        {
          "output_type": "execute_result",
          "data": {
            "text/plain": [
              "Brand             0\n",
              "Price           172\n",
              "Body              0\n",
              "Mileage           0\n",
              "EngineV         150\n",
              "Engine Type       0\n",
              "Registration      0\n",
              "Year              0\n",
              "Model             0\n",
              "dtype: int64"
            ]
          },
          "metadata": {},
          "execution_count": 32
        }
      ]
    },
    {
      "cell_type": "markdown",
      "metadata": {
        "id": "XkMG-J0rrAN_"
      },
      "source": [
        "#How can I replace nan values with 0 in the dataset?"
      ]
    },
    {
      "cell_type": "code",
      "metadata": {
        "id": "yI6qt5SNq9zw",
        "colab": {
          "base_uri": "https://localhost:8080/"
        },
        "outputId": "51472b77-31d4-43a9-8265-7c1e0ec4bae4"
      },
      "source": [
        "#Replacing nan values with 0\n",
        "data=pd.read_csv(\"Car resale.csv\")\n",
        "data.fillna(value = 0,inplace = True) \n",
        "data.isnull().sum()"
      ],
      "execution_count": null,
      "outputs": [
        {
          "output_type": "execute_result",
          "data": {
            "text/plain": [
              "Brand           0\n",
              "Price           0\n",
              "Body            0\n",
              "Mileage         0\n",
              "EngineV         0\n",
              "Engine Type     0\n",
              "Registration    0\n",
              "Year            0\n",
              "Model           0\n",
              "dtype: int64"
            ]
          },
          "metadata": {},
          "execution_count": 33
        }
      ]
    },
    {
      "cell_type": "markdown",
      "metadata": {
        "id": "nxqgWAKrwkZ5"
      },
      "source": [
        "# How can I replace nan values with mean of columns in the dataset?"
      ]
    },
    {
      "cell_type": "code",
      "metadata": {
        "colab": {
          "base_uri": "https://localhost:8080/"
        },
        "id": "JS_QIUrCw6h-",
        "outputId": "07b14289-ab78-4ba9-d8b0-6982cbc8ea26"
      },
      "source": [
        "#Check for nan nalues\n",
        "data=pd.read_csv(\"Car resale.csv\")\n",
        "data.isnull().sum()"
      ],
      "execution_count": null,
      "outputs": [
        {
          "output_type": "execute_result",
          "data": {
            "text/plain": [
              "Brand             0\n",
              "Price           172\n",
              "Body              0\n",
              "Mileage           0\n",
              "EngineV         150\n",
              "Engine Type       0\n",
              "Registration      0\n",
              "Year              0\n",
              "Model             0\n",
              "dtype: int64"
            ]
          },
          "metadata": {},
          "execution_count": 34
        }
      ]
    },
    {
      "cell_type": "code",
      "metadata": {
        "colab": {
          "base_uri": "https://localhost:8080/"
        },
        "id": "wgjyfXRAw0o5",
        "outputId": "5ca405f6-e6fb-44ca-8a26-c497df08c3d6"
      },
      "source": [
        "#Replace nan nalues with means of individual columns\n",
        "data[\"Price\"].fillna(data[\"Price\"].mean(),inplace=True)\n",
        "data[\"EngineV\"].fillna(data[\"EngineV\"].mean(),inplace=True)\n",
        "data.isnull().sum()"
      ],
      "execution_count": null,
      "outputs": [
        {
          "output_type": "execute_result",
          "data": {
            "text/plain": [
              "Brand           0\n",
              "Price           0\n",
              "Body            0\n",
              "Mileage         0\n",
              "EngineV         0\n",
              "Engine Type     0\n",
              "Registration    0\n",
              "Year            0\n",
              "Model           0\n",
              "dtype: int64"
            ]
          },
          "metadata": {},
          "execution_count": 35
        }
      ]
    },
    {
      "cell_type": "markdown",
      "metadata": {
        "id": "ti7uMJG754Tq"
      },
      "source": [
        "#How can I compare the Engine Type and Price data?"
      ]
    },
    {
      "cell_type": "code",
      "metadata": {
        "id": "l3wqjZbO4-NP",
        "colab": {
          "base_uri": "https://localhost:8080/",
          "height": 296
        },
        "outputId": "1576c0a9-b5c8-4209-b43d-d8a90291ab4b"
      },
      "source": [
        "sns.boxplot(x='Engine Type',y='Price',data=data)"
      ],
      "execution_count": null,
      "outputs": [
        {
          "output_type": "execute_result",
          "data": {
            "text/plain": [
              "<matplotlib.axes._subplots.AxesSubplot at 0x7f85ac81e690>"
            ]
          },
          "metadata": {},
          "execution_count": 36
        },
        {
          "output_type": "display_data",
          "data": {
            "image/png": "[encoded data removed]",
            "text/plain": [
              "<Figure size 432x288 with 1 Axes>"
            ]
          },
          "metadata": {
            "needs_background": "light"
          }
        }
      ]
    },
    {
      "cell_type": "markdown",
      "metadata": {
        "id": "NQeFfAIh941l"
      },
      "source": [
        "#How do I find correlation between column values?"
      ]
    },
    {
      "cell_type": "code",
      "metadata": {
        "id": "Owzb-asf74rt",
        "colab": {
          "base_uri": "https://localhost:8080/",
          "height": 172
        },
        "outputId": "2c3449a8-b8d5-4bdd-9d0f-e38258246dd0"
      },
      "source": [
        "data.corr()\n"
      ],
      "execution_count": null,
      "outputs": [
        {
          "output_type": "execute_result",
          "data": {
            "text/html": [
              "<div>\n",
              "<style scoped>\n",
              "    .dataframe tbody tr th:only-of-type {\n",
              "        vertical-align: middle;\n",
              "    }\n",
              "\n",
              "    .dataframe tbody tr th {\n",
              "        vertical-align: top;\n",
              "    }\n",
              "\n",
              "    .dataframe thead th {\n",
              "        text-align: right;\n",
              "    }\n",
              "</style>\n",
              "<table border=\"1\" class=\"dataframe\">\n",
              "  <thead>\n",
              "    <tr style=\"text-align: right;\">\n",
              "      <th></th>\n",
              "      <th>Price</th>\n",
              "      <th>Mileage</th>\n",
              "      <th>EngineV</th>\n",
              "      <th>Year</th>\n",
              "    </tr>\n",
              "  </thead>\n",
              "  <tbody>\n",
              "    <tr>\n",
              "      <th>Price</th>\n",
              "      <td>1.000000</td>\n",
              "      <td>-0.451696</td>\n",
              "      <td>0.055452</td>\n",
              "      <td>0.474992</td>\n",
              "    </tr>\n",
              "    <tr>\n",
              "      <th>Mileage</th>\n",
              "      <td>-0.451696</td>\n",
              "      <td>1.000000</td>\n",
              "      <td>0.020327</td>\n",
              "      <td>-0.668635</td>\n",
              "    </tr>\n",
              "    <tr>\n",
              "      <th>EngineV</th>\n",
              "      <td>0.055452</td>\n",
              "      <td>0.020327</td>\n",
              "      <td>1.000000</td>\n",
              "      <td>-0.022498</td>\n",
              "    </tr>\n",
              "    <tr>\n",
              "      <th>Year</th>\n",
              "      <td>0.474992</td>\n",
              "      <td>-0.668635</td>\n",
              "      <td>-0.022498</td>\n",
              "      <td>1.000000</td>\n",
              "    </tr>\n",
              "  </tbody>\n",
              "</table>\n",
              "</div>"
            ],
            "text/plain": [
              "            Price   Mileage   EngineV      Year\n",
              "Price    1.000000 -0.451696  0.055452  0.474992\n",
              "Mileage -0.451696  1.000000  0.020327 -0.668635\n",
              "EngineV  0.055452  0.020327  1.000000 -0.022498\n",
              "Year     0.474992 -0.668635 -0.022498  1.000000"
            ]
          },
          "metadata": {},
          "execution_count": 37
        }
      ]
    },
    {
      "cell_type": "markdown",
      "metadata": {
        "id": "y-GhjnMu-cyB"
      },
      "source": [
        "#How do I represent corelation between column values using a heatmap?"
      ]
    },
    {
      "cell_type": "code",
      "metadata": {
        "id": "5P6-rgsY-mWM",
        "colab": {
          "base_uri": "https://localhost:8080/",
          "height": 286
        },
        "outputId": "df45f2b3-e966-4b28-bdf6-dfaa6269eb7a"
      },
      "source": [
        "sns.heatmap(data.corr())"
      ],
      "execution_count": null,
      "outputs": [
        {
          "output_type": "execute_result",
          "data": {
            "text/plain": [
              "<matplotlib.axes._subplots.AxesSubplot at 0x7f85ac72a1d0>"
            ]
          },
          "metadata": {},
          "execution_count": 38
        },
        {
          "output_type": "display_data",
          "data": {
            "image/png": "[encoded data removed]",
            "text/plain": [
              "<Figure size 432x288 with 2 Axes>"
            ]
          },
          "metadata": {
            "needs_background": "light"
          }
        }
      ]
    },
    {
      "cell_type": "markdown",
      "metadata": {
        "id": "k1gxAH0n_0Mt"
      },
      "source": [
        "#How can I add a column and populate it by applying arithmetic operator to an existing column in the dataset?"
      ]
    },
    {
      "cell_type": "code",
      "metadata": {
        "id": "4bTq5wsL_i80",
        "colab": {
          "base_uri": "https://localhost:8080/",
          "height": 417
        },
        "outputId": "b669a347-4419-498d-e3f9-bbf4c1db4156"
      },
      "source": [
        "data['New_col']=data['Price']*2\n",
        "data"
      ],
      "execution_count": null,
      "outputs": [
        {
          "output_type": "execute_result",
          "data": {
            "text/html": [
              "<div>\n",
              "<style scoped>\n",
              "    .dataframe tbody tr th:only-of-type {\n",
              "        vertical-align: middle;\n",
              "    }\n",
              "\n",
              "    .dataframe tbody tr th {\n",
              "        vertical-align: top;\n",
              "    }\n",
              "\n",
              "    .dataframe thead th {\n",
              "        text-align: right;\n",
              "    }\n",
              "</style>\n",
              "<table border=\"1\" class=\"dataframe\">\n",
              "  <thead>\n",
              "    <tr style=\"text-align: right;\">\n",
              "      <th></th>\n",
              "      <th>Brand</th>\n",
              "      <th>Price</th>\n",
              "      <th>Body</th>\n",
              "      <th>Mileage</th>\n",
              "      <th>EngineV</th>\n",
              "      <th>Engine Type</th>\n",
              "      <th>Registration</th>\n",
              "      <th>Year</th>\n",
              "      <th>Model</th>\n",
              "      <th>New_col</th>\n",
              "    </tr>\n",
              "  </thead>\n",
              "  <tbody>\n",
              "    <tr>\n",
              "      <th>0</th>\n",
              "      <td>BMW</td>\n",
              "      <td>4200.0</td>\n",
              "      <td>sedan</td>\n",
              "      <td>277</td>\n",
              "      <td>2.000000</td>\n",
              "      <td>Petrol</td>\n",
              "      <td>yes</td>\n",
              "      <td>1991</td>\n",
              "      <td>320</td>\n",
              "      <td>8400.0</td>\n",
              "    </tr>\n",
              "    <tr>\n",
              "      <th>1</th>\n",
              "      <td>Mercedes-Benz</td>\n",
              "      <td>7900.0</td>\n",
              "      <td>van</td>\n",
              "      <td>427</td>\n",
              "      <td>2.900000</td>\n",
              "      <td>Diesel</td>\n",
              "      <td>yes</td>\n",
              "      <td>1999</td>\n",
              "      <td>Sprinter 212</td>\n",
              "      <td>15800.0</td>\n",
              "    </tr>\n",
              "    <tr>\n",
              "      <th>2</th>\n",
              "      <td>Mercedes-Benz</td>\n",
              "      <td>13300.0</td>\n",
              "      <td>sedan</td>\n",
              "      <td>358</td>\n",
              "      <td>5.000000</td>\n",
              "      <td>Gas</td>\n",
              "      <td>yes</td>\n",
              "      <td>2003</td>\n",
              "      <td>S 500</td>\n",
              "      <td>26600.0</td>\n",
              "    </tr>\n",
              "    <tr>\n",
              "      <th>3</th>\n",
              "      <td>Audi</td>\n",
              "      <td>23000.0</td>\n",
              "      <td>crossover</td>\n",
              "      <td>240</td>\n",
              "      <td>4.200000</td>\n",
              "      <td>Petrol</td>\n",
              "      <td>yes</td>\n",
              "      <td>2007</td>\n",
              "      <td>Q7</td>\n",
              "      <td>46000.0</td>\n",
              "    </tr>\n",
              "    <tr>\n",
              "      <th>4</th>\n",
              "      <td>Toyota</td>\n",
              "      <td>18300.0</td>\n",
              "      <td>crossover</td>\n",
              "      <td>120</td>\n",
              "      <td>2.000000</td>\n",
              "      <td>Petrol</td>\n",
              "      <td>yes</td>\n",
              "      <td>2011</td>\n",
              "      <td>Rav 4</td>\n",
              "      <td>36600.0</td>\n",
              "    </tr>\n",
              "    <tr>\n",
              "      <th>...</th>\n",
              "      <td>...</td>\n",
              "      <td>...</td>\n",
              "      <td>...</td>\n",
              "      <td>...</td>\n",
              "      <td>...</td>\n",
              "      <td>...</td>\n",
              "      <td>...</td>\n",
              "      <td>...</td>\n",
              "      <td>...</td>\n",
              "      <td>...</td>\n",
              "    </tr>\n",
              "    <tr>\n",
              "      <th>4340</th>\n",
              "      <td>Mercedes-Benz</td>\n",
              "      <td>125000.0</td>\n",
              "      <td>sedan</td>\n",
              "      <td>9</td>\n",
              "      <td>3.000000</td>\n",
              "      <td>Diesel</td>\n",
              "      <td>yes</td>\n",
              "      <td>2014</td>\n",
              "      <td>S 350</td>\n",
              "      <td>250000.0</td>\n",
              "    </tr>\n",
              "    <tr>\n",
              "      <th>4341</th>\n",
              "      <td>BMW</td>\n",
              "      <td>6500.0</td>\n",
              "      <td>sedan</td>\n",
              "      <td>1</td>\n",
              "      <td>3.500000</td>\n",
              "      <td>Petrol</td>\n",
              "      <td>yes</td>\n",
              "      <td>1999</td>\n",
              "      <td>535</td>\n",
              "      <td>13000.0</td>\n",
              "    </tr>\n",
              "    <tr>\n",
              "      <th>4342</th>\n",
              "      <td>BMW</td>\n",
              "      <td>8000.0</td>\n",
              "      <td>sedan</td>\n",
              "      <td>194</td>\n",
              "      <td>2.000000</td>\n",
              "      <td>Petrol</td>\n",
              "      <td>yes</td>\n",
              "      <td>1985</td>\n",
              "      <td>520</td>\n",
              "      <td>16000.0</td>\n",
              "    </tr>\n",
              "    <tr>\n",
              "      <th>4343</th>\n",
              "      <td>Toyota</td>\n",
              "      <td>14200.0</td>\n",
              "      <td>sedan</td>\n",
              "      <td>31</td>\n",
              "      <td>2.790734</td>\n",
              "      <td>Petrol</td>\n",
              "      <td>yes</td>\n",
              "      <td>2014</td>\n",
              "      <td>Corolla</td>\n",
              "      <td>28400.0</td>\n",
              "    </tr>\n",
              "    <tr>\n",
              "      <th>4344</th>\n",
              "      <td>Volkswagen</td>\n",
              "      <td>13500.0</td>\n",
              "      <td>van</td>\n",
              "      <td>124</td>\n",
              "      <td>2.000000</td>\n",
              "      <td>Diesel</td>\n",
              "      <td>yes</td>\n",
              "      <td>2013</td>\n",
              "      <td>T5 (Transporter)</td>\n",
              "      <td>27000.0</td>\n",
              "    </tr>\n",
              "  </tbody>\n",
              "</table>\n",
              "<p>4345 rows × 10 columns</p>\n",
              "</div>"
            ],
            "text/plain": [
              "              Brand     Price       Body  ...  Year              Model   New_col\n",
              "0               BMW    4200.0      sedan  ...  1991                320    8400.0\n",
              "1     Mercedes-Benz    7900.0        van  ...  1999       Sprinter 212   15800.0\n",
              "2     Mercedes-Benz   13300.0      sedan  ...  2003              S 500   26600.0\n",
              "3              Audi   23000.0  crossover  ...  2007                 Q7   46000.0\n",
              "4            Toyota   18300.0  crossover  ...  2011              Rav 4   36600.0\n",
              "...             ...       ...        ...  ...   ...                ...       ...\n",
              "4340  Mercedes-Benz  125000.0      sedan  ...  2014              S 350  250000.0\n",
              "4341            BMW    6500.0      sedan  ...  1999                535   13000.0\n",
              "4342            BMW    8000.0      sedan  ...  1985                520   16000.0\n",
              "4343         Toyota   14200.0      sedan  ...  2014            Corolla   28400.0\n",
              "4344     Volkswagen   13500.0        van  ...  2013  T5 (Transporter)    27000.0\n",
              "\n",
              "[4345 rows x 10 columns]"
            ]
          },
          "metadata": {},
          "execution_count": 39
        }
      ]
    },
    {
      "cell_type": "markdown",
      "metadata": {
        "id": "mTNY67OlBOAT"
      },
      "source": [
        "#How do I delete a column from the dataset?"
      ]
    },
    {
      "cell_type": "code",
      "metadata": {
        "id": "1Stont_kAGVA",
        "colab": {
          "base_uri": "https://localhost:8080/",
          "height": 417
        },
        "outputId": "af074755-94d7-4bcf-d5a0-b2c3e34d1f81"
      },
      "source": [
        "data.drop(columns=['New_col'])"
      ],
      "execution_count": null,
      "outputs": [
        {
          "output_type": "execute_result",
          "data": {
            "text/html": [
              "<div>\n",
              "<style scoped>\n",
              "    .dataframe tbody tr th:only-of-type {\n",
              "        vertical-align: middle;\n",
              "    }\n",
              "\n",
              "    .dataframe tbody tr th {\n",
              "        vertical-align: top;\n",
              "    }\n",
              "\n",
              "    .dataframe thead th {\n",
              "        text-align: right;\n",
              "    }\n",
              "</style>\n",
              "<table border=\"1\" class=\"dataframe\">\n",
              "  <thead>\n",
              "    <tr style=\"text-align: right;\">\n",
              "      <th></th>\n",
              "      <th>Brand</th>\n",
              "      <th>Price</th>\n",
              "      <th>Body</th>\n",
              "      <th>Mileage</th>\n",
              "      <th>EngineV</th>\n",
              "      <th>Engine Type</th>\n",
              "      <th>Registration</th>\n",
              "      <th>Year</th>\n",
              "      <th>Model</th>\n",
              "    </tr>\n",
              "  </thead>\n",
              "  <tbody>\n",
              "    <tr>\n",
              "      <th>0</th>\n",
              "      <td>BMW</td>\n",
              "      <td>4200.0</td>\n",
              "      <td>sedan</td>\n",
              "      <td>277</td>\n",
              "      <td>2.000000</td>\n",
              "      <td>Petrol</td>\n",
              "      <td>yes</td>\n",
              "      <td>1991</td>\n",
              "      <td>320</td>\n",
              "    </tr>\n",
              "    <tr>\n",
              "      <th>1</th>\n",
              "      <td>Mercedes-Benz</td>\n",
              "      <td>7900.0</td>\n",
              "      <td>van</td>\n",
              "      <td>427</td>\n",
              "      <td>2.900000</td>\n",
              "      <td>Diesel</td>\n",
              "      <td>yes</td>\n",
              "      <td>1999</td>\n",
              "      <td>Sprinter 212</td>\n",
              "    </tr>\n",
              "    <tr>\n",
              "      <th>2</th>\n",
              "      <td>Mercedes-Benz</td>\n",
              "      <td>13300.0</td>\n",
              "      <td>sedan</td>\n",
              "      <td>358</td>\n",
              "      <td>5.000000</td>\n",
              "      <td>Gas</td>\n",
              "      <td>yes</td>\n",
              "      <td>2003</td>\n",
              "      <td>S 500</td>\n",
              "    </tr>\n",
              "    <tr>\n",
              "      <th>3</th>\n",
              "      <td>Audi</td>\n",
              "      <td>23000.0</td>\n",
              "      <td>crossover</td>\n",
              "      <td>240</td>\n",
              "      <td>4.200000</td>\n",
              "      <td>Petrol</td>\n",
              "      <td>yes</td>\n",
              "      <td>2007</td>\n",
              "      <td>Q7</td>\n",
              "    </tr>\n",
              "    <tr>\n",
              "      <th>4</th>\n",
              "      <td>Toyota</td>\n",
              "      <td>18300.0</td>\n",
              "      <td>crossover</td>\n",
              "      <td>120</td>\n",
              "      <td>2.000000</td>\n",
              "      <td>Petrol</td>\n",
              "      <td>yes</td>\n",
              "      <td>2011</td>\n",
              "      <td>Rav 4</td>\n",
              "    </tr>\n",
              "    <tr>\n",
              "      <th>...</th>\n",
              "      <td>...</td>\n",
              "      <td>...</td>\n",
              "      <td>...</td>\n",
              "      <td>...</td>\n",
              "      <td>...</td>\n",
              "      <td>...</td>\n",
              "      <td>...</td>\n",
              "      <td>...</td>\n",
              "      <td>...</td>\n",
              "    </tr>\n",
              "    <tr>\n",
              "      <th>4340</th>\n",
              "      <td>Mercedes-Benz</td>\n",
              "      <td>125000.0</td>\n",
              "      <td>sedan</td>\n",
              "      <td>9</td>\n",
              "      <td>3.000000</td>\n",
              "      <td>Diesel</td>\n",
              "      <td>yes</td>\n",
              "      <td>2014</td>\n",
              "      <td>S 350</td>\n",
              "    </tr>\n",
              "    <tr>\n",
              "      <th>4341</th>\n",
              "      <td>BMW</td>\n",
              "      <td>6500.0</td>\n",
              "      <td>sedan</td>\n",
              "      <td>1</td>\n",
              "      <td>3.500000</td>\n",
              "      <td>Petrol</td>\n",
              "      <td>yes</td>\n",
              "      <td>1999</td>\n",
              "      <td>535</td>\n",
              "    </tr>\n",
              "    <tr>\n",
              "      <th>4342</th>\n",
              "      <td>BMW</td>\n",
              "      <td>8000.0</td>\n",
              "      <td>sedan</td>\n",
              "      <td>194</td>\n",
              "      <td>2.000000</td>\n",
              "      <td>Petrol</td>\n",
              "      <td>yes</td>\n",
              "      <td>1985</td>\n",
              "      <td>520</td>\n",
              "    </tr>\n",
              "    <tr>\n",
              "      <th>4343</th>\n",
              "      <td>Toyota</td>\n",
              "      <td>14200.0</td>\n",
              "      <td>sedan</td>\n",
              "      <td>31</td>\n",
              "      <td>2.790734</td>\n",
              "      <td>Petrol</td>\n",
              "      <td>yes</td>\n",
              "      <td>2014</td>\n",
              "      <td>Corolla</td>\n",
              "    </tr>\n",
              "    <tr>\n",
              "      <th>4344</th>\n",
              "      <td>Volkswagen</td>\n",
              "      <td>13500.0</td>\n",
              "      <td>van</td>\n",
              "      <td>124</td>\n",
              "      <td>2.000000</td>\n",
              "      <td>Diesel</td>\n",
              "      <td>yes</td>\n",
              "      <td>2013</td>\n",
              "      <td>T5 (Transporter)</td>\n",
              "    </tr>\n",
              "  </tbody>\n",
              "</table>\n",
              "<p>4345 rows × 9 columns</p>\n",
              "</div>"
            ],
            "text/plain": [
              "              Brand     Price       Body  ...  Registration  Year              Model\n",
              "0               BMW    4200.0      sedan  ...           yes  1991                320\n",
              "1     Mercedes-Benz    7900.0        van  ...           yes  1999       Sprinter 212\n",
              "2     Mercedes-Benz   13300.0      sedan  ...           yes  2003              S 500\n",
              "3              Audi   23000.0  crossover  ...           yes  2007                 Q7\n",
              "4            Toyota   18300.0  crossover  ...           yes  2011              Rav 4\n",
              "...             ...       ...        ...  ...           ...   ...                ...\n",
              "4340  Mercedes-Benz  125000.0      sedan  ...           yes  2014              S 350\n",
              "4341            BMW    6500.0      sedan  ...           yes  1999                535\n",
              "4342            BMW    8000.0      sedan  ...           yes  1985                520\n",
              "4343         Toyota   14200.0      sedan  ...           yes  2014            Corolla\n",
              "4344     Volkswagen   13500.0        van  ...           yes  2013  T5 (Transporter) \n",
              "\n",
              "[4345 rows x 9 columns]"
            ]
          },
          "metadata": {},
          "execution_count": 40
        }
      ]
    },
    {
      "cell_type": "markdown",
      "metadata": {
        "id": "qDSNcHRl3JfM"
      },
      "source": [
        "\n",
        "## How do I drop rows with atleast one nan value from the dataset?"
      ]
    },
    {
      "cell_type": "code",
      "metadata": {
        "id": "LsnQcujX3Ikw",
        "colab": {
          "base_uri": "https://localhost:8080/",
          "height": 417
        },
        "outputId": "0a299ba0-be7f-42ed-a692-ea335719f355"
      },
      "source": [
        "data.dropna()"
      ],
      "execution_count": null,
      "outputs": [
        {
          "output_type": "execute_result",
          "data": {
            "text/html": [
              "<div>\n",
              "<style scoped>\n",
              "    .dataframe tbody tr th:only-of-type {\n",
              "        vertical-align: middle;\n",
              "    }\n",
              "\n",
              "    .dataframe tbody tr th {\n",
              "        vertical-align: top;\n",
              "    }\n",
              "\n",
              "    .dataframe thead th {\n",
              "        text-align: right;\n",
              "    }\n",
              "</style>\n",
              "<table border=\"1\" class=\"dataframe\">\n",
              "  <thead>\n",
              "    <tr style=\"text-align: right;\">\n",
              "      <th></th>\n",
              "      <th>Brand</th>\n",
              "      <th>Price</th>\n",
              "      <th>Body</th>\n",
              "      <th>Mileage</th>\n",
              "      <th>EngineV</th>\n",
              "      <th>Engine Type</th>\n",
              "      <th>Registration</th>\n",
              "      <th>Year</th>\n",
              "      <th>Model</th>\n",
              "      <th>New_col</th>\n",
              "    </tr>\n",
              "  </thead>\n",
              "  <tbody>\n",
              "    <tr>\n",
              "      <th>0</th>\n",
              "      <td>BMW</td>\n",
              "      <td>4200.0</td>\n",
              "      <td>sedan</td>\n",
              "      <td>277</td>\n",
              "      <td>2.000000</td>\n",
              "      <td>Petrol</td>\n",
              "      <td>yes</td>\n",
              "      <td>1991</td>\n",
              "      <td>320</td>\n",
              "      <td>8400.0</td>\n",
              "    </tr>\n",
              "    <tr>\n",
              "      <th>1</th>\n",
              "      <td>Mercedes-Benz</td>\n",
              "      <td>7900.0</td>\n",
              "      <td>van</td>\n",
              "      <td>427</td>\n",
              "      <td>2.900000</td>\n",
              "      <td>Diesel</td>\n",
              "      <td>yes</td>\n",
              "      <td>1999</td>\n",
              "      <td>Sprinter 212</td>\n",
              "      <td>15800.0</td>\n",
              "    </tr>\n",
              "    <tr>\n",
              "      <th>2</th>\n",
              "      <td>Mercedes-Benz</td>\n",
              "      <td>13300.0</td>\n",
              "      <td>sedan</td>\n",
              "      <td>358</td>\n",
              "      <td>5.000000</td>\n",
              "      <td>Gas</td>\n",
              "      <td>yes</td>\n",
              "      <td>2003</td>\n",
              "      <td>S 500</td>\n",
              "      <td>26600.0</td>\n",
              "    </tr>\n",
              "    <tr>\n",
              "      <th>3</th>\n",
              "      <td>Audi</td>\n",
              "      <td>23000.0</td>\n",
              "      <td>crossover</td>\n",
              "      <td>240</td>\n",
              "      <td>4.200000</td>\n",
              "      <td>Petrol</td>\n",
              "      <td>yes</td>\n",
              "      <td>2007</td>\n",
              "      <td>Q7</td>\n",
              "      <td>46000.0</td>\n",
              "    </tr>\n",
              "    <tr>\n",
              "      <th>4</th>\n",
              "      <td>Toyota</td>\n",
              "      <td>18300.0</td>\n",
              "      <td>crossover</td>\n",
              "      <td>120</td>\n",
              "      <td>2.000000</td>\n",
              "      <td>Petrol</td>\n",
              "      <td>yes</td>\n",
              "      <td>2011</td>\n",
              "      <td>Rav 4</td>\n",
              "      <td>36600.0</td>\n",
              "    </tr>\n",
              "    <tr>\n",
              "      <th>...</th>\n",
              "      <td>...</td>\n",
              "      <td>...</td>\n",
              "      <td>...</td>\n",
              "      <td>...</td>\n",
              "      <td>...</td>\n",
              "      <td>...</td>\n",
              "      <td>...</td>\n",
              "      <td>...</td>\n",
              "      <td>...</td>\n",
              "      <td>...</td>\n",
              "    </tr>\n",
              "    <tr>\n",
              "      <th>4340</th>\n",
              "      <td>Mercedes-Benz</td>\n",
              "      <td>125000.0</td>\n",
              "      <td>sedan</td>\n",
              "      <td>9</td>\n",
              "      <td>3.000000</td>\n",
              "      <td>Diesel</td>\n",
              "      <td>yes</td>\n",
              "      <td>2014</td>\n",
              "      <td>S 350</td>\n",
              "      <td>250000.0</td>\n",
              "    </tr>\n",
              "    <tr>\n",
              "      <th>4341</th>\n",
              "      <td>BMW</td>\n",
              "      <td>6500.0</td>\n",
              "      <td>sedan</td>\n",
              "      <td>1</td>\n",
              "      <td>3.500000</td>\n",
              "      <td>Petrol</td>\n",
              "      <td>yes</td>\n",
              "      <td>1999</td>\n",
              "      <td>535</td>\n",
              "      <td>13000.0</td>\n",
              "    </tr>\n",
              "    <tr>\n",
              "      <th>4342</th>\n",
              "      <td>BMW</td>\n",
              "      <td>8000.0</td>\n",
              "      <td>sedan</td>\n",
              "      <td>194</td>\n",
              "      <td>2.000000</td>\n",
              "      <td>Petrol</td>\n",
              "      <td>yes</td>\n",
              "      <td>1985</td>\n",
              "      <td>520</td>\n",
              "      <td>16000.0</td>\n",
              "    </tr>\n",
              "    <tr>\n",
              "      <th>4343</th>\n",
              "      <td>Toyota</td>\n",
              "      <td>14200.0</td>\n",
              "      <td>sedan</td>\n",
              "      <td>31</td>\n",
              "      <td>2.790734</td>\n",
              "      <td>Petrol</td>\n",
              "      <td>yes</td>\n",
              "      <td>2014</td>\n",
              "      <td>Corolla</td>\n",
              "      <td>28400.0</td>\n",
              "    </tr>\n",
              "    <tr>\n",
              "      <th>4344</th>\n",
              "      <td>Volkswagen</td>\n",
              "      <td>13500.0</td>\n",
              "      <td>van</td>\n",
              "      <td>124</td>\n",
              "      <td>2.000000</td>\n",
              "      <td>Diesel</td>\n",
              "      <td>yes</td>\n",
              "      <td>2013</td>\n",
              "      <td>T5 (Transporter)</td>\n",
              "      <td>27000.0</td>\n",
              "    </tr>\n",
              "  </tbody>\n",
              "</table>\n",
              "<p>4345 rows × 10 columns</p>\n",
              "</div>"
            ],
            "text/plain": [
              "              Brand     Price       Body  ...  Year              Model   New_col\n",
              "0               BMW    4200.0      sedan  ...  1991                320    8400.0\n",
              "1     Mercedes-Benz    7900.0        van  ...  1999       Sprinter 212   15800.0\n",
              "2     Mercedes-Benz   13300.0      sedan  ...  2003              S 500   26600.0\n",
              "3              Audi   23000.0  crossover  ...  2007                 Q7   46000.0\n",
              "4            Toyota   18300.0  crossover  ...  2011              Rav 4   36600.0\n",
              "...             ...       ...        ...  ...   ...                ...       ...\n",
              "4340  Mercedes-Benz  125000.0      sedan  ...  2014              S 350  250000.0\n",
              "4341            BMW    6500.0      sedan  ...  1999                535   13000.0\n",
              "4342            BMW    8000.0      sedan  ...  1985                520   16000.0\n",
              "4343         Toyota   14200.0      sedan  ...  2014            Corolla   28400.0\n",
              "4344     Volkswagen   13500.0        van  ...  2013  T5 (Transporter)    27000.0\n",
              "\n",
              "[4345 rows x 10 columns]"
            ]
          },
          "metadata": {},
          "execution_count": 41
        }
      ]
    },
    {
      "cell_type": "markdown",
      "metadata": {
        "id": "gyXMW--s3UAm"
      },
      "source": [
        "#Can I implement Linear Regression on my dataset so that I can predict the Price based on Year?"
      ]
    },
    {
      "cell_type": "code",
      "metadata": {
        "id": "44p6L0XlgBCh",
        "colab": {
          "base_uri": "https://localhost:8080/",
          "height": 296
        },
        "outputId": "1f2fe62d-ed02-4ae9-b9de-b42627653a63"
      },
      "source": [
        "import seaborn as sns\n",
        "sns.scatterplot( data=data, x='Year',y='Price')"
      ],
      "execution_count": null,
      "outputs": [
        {
          "output_type": "execute_result",
          "data": {
            "text/plain": [
              "<matplotlib.axes._subplots.AxesSubplot at 0x7f85a3e899d0>"
            ]
          },
          "metadata": {},
          "execution_count": 42
        },
        {
          "output_type": "display_data",
          "data": {
            "image/png": "[encoded data removed]",
            "text/plain": [
              "<Figure size 432x288 with 1 Axes>"
            ]
          },
          "metadata": {
            "needs_background": "light"
          }
        }
      ]
    },
    {
      "cell_type": "markdown",
      "metadata": {
        "id": "0Hp68kWMgUEE"
      },
      "source": [
        "Since the scatterplot is non-linear in nature, Linear Regression should not be used as a predictive model."
      ]
    },
    {
      "cell_type": "markdown",
      "metadata": {
        "id": "dRvx3rxdm-rF"
      },
      "source": [
        "#How can I find average numerical values in the dataset grouped by Year and Brand?"
      ]
    },
    {
      "cell_type": "code",
      "metadata": {
        "id": "4HoFejQSiWav",
        "colab": {
          "base_uri": "https://localhost:8080/",
          "height": 447
        },
        "outputId": "03a1b1eb-e5dd-4388-c62f-40bf4e0aece8"
      },
      "source": [
        "data.groupby(['Year','Brand']).mean()\n"
      ],
      "execution_count": null,
      "outputs": [
        {
          "output_type": "execute_result",
          "data": {
            "text/html": [
              "<div>\n",
              "<style scoped>\n",
              "    .dataframe tbody tr th:only-of-type {\n",
              "        vertical-align: middle;\n",
              "    }\n",
              "\n",
              "    .dataframe tbody tr th {\n",
              "        vertical-align: top;\n",
              "    }\n",
              "\n",
              "    .dataframe thead th {\n",
              "        text-align: right;\n",
              "    }\n",
              "</style>\n",
              "<table border=\"1\" class=\"dataframe\">\n",
              "  <thead>\n",
              "    <tr style=\"text-align: right;\">\n",
              "      <th></th>\n",
              "      <th></th>\n",
              "      <th>Price</th>\n",
              "      <th>Mileage</th>\n",
              "      <th>EngineV</th>\n",
              "      <th>New_col</th>\n",
              "    </tr>\n",
              "    <tr>\n",
              "      <th>Year</th>\n",
              "      <th>Brand</th>\n",
              "      <th></th>\n",
              "      <th></th>\n",
              "      <th></th>\n",
              "      <th></th>\n",
              "    </tr>\n",
              "  </thead>\n",
              "  <tbody>\n",
              "    <tr>\n",
              "      <th>1969</th>\n",
              "      <th>Mercedes-Benz</th>\n",
              "      <td>34999.000000</td>\n",
              "      <td>150.000000</td>\n",
              "      <td>2.800000</td>\n",
              "      <td>69998.000000</td>\n",
              "    </tr>\n",
              "    <tr>\n",
              "      <th>1978</th>\n",
              "      <th>Mercedes-Benz</th>\n",
              "      <td>3900.000000</td>\n",
              "      <td>350.500000</td>\n",
              "      <td>2.150000</td>\n",
              "      <td>7800.000000</td>\n",
              "    </tr>\n",
              "    <tr>\n",
              "      <th rowspan=\"2\" valign=\"top\">1979</th>\n",
              "      <th>Mercedes-Benz</th>\n",
              "      <td>2470.000000</td>\n",
              "      <td>150.500000</td>\n",
              "      <td>2.400000</td>\n",
              "      <td>4940.000000</td>\n",
              "    </tr>\n",
              "    <tr>\n",
              "      <th>Toyota</th>\n",
              "      <td>600.000000</td>\n",
              "      <td>10.000000</td>\n",
              "      <td>1.500000</td>\n",
              "      <td>1200.000000</td>\n",
              "    </tr>\n",
              "    <tr>\n",
              "      <th>1980</th>\n",
              "      <th>Audi</th>\n",
              "      <td>600.000000</td>\n",
              "      <td>112.000000</td>\n",
              "      <td>1.600000</td>\n",
              "      <td>1200.000000</td>\n",
              "    </tr>\n",
              "    <tr>\n",
              "      <th>...</th>\n",
              "      <th>...</th>\n",
              "      <td>...</td>\n",
              "      <td>...</td>\n",
              "      <td>...</td>\n",
              "      <td>...</td>\n",
              "    </tr>\n",
              "    <tr>\n",
              "      <th rowspan=\"5\" valign=\"top\">2016</th>\n",
              "      <th>Mercedes-Benz</th>\n",
              "      <td>90200.767960</td>\n",
              "      <td>0.333333</td>\n",
              "      <td>3.217650</td>\n",
              "      <td>180401.535921</td>\n",
              "    </tr>\n",
              "    <tr>\n",
              "      <th>Mitsubishi</th>\n",
              "      <td>32590.905000</td>\n",
              "      <td>0.300000</td>\n",
              "      <td>2.300000</td>\n",
              "      <td>65181.810000</td>\n",
              "    </tr>\n",
              "    <tr>\n",
              "      <th>Renault</th>\n",
              "      <td>16215.531429</td>\n",
              "      <td>1.571429</td>\n",
              "      <td>1.435714</td>\n",
              "      <td>32431.062857</td>\n",
              "    </tr>\n",
              "    <tr>\n",
              "      <th>Toyota</th>\n",
              "      <td>55872.702637</td>\n",
              "      <td>0.975000</td>\n",
              "      <td>3.410750</td>\n",
              "      <td>111745.405274</td>\n",
              "    </tr>\n",
              "    <tr>\n",
              "      <th>Volkswagen</th>\n",
              "      <td>32051.840323</td>\n",
              "      <td>2.838710</td>\n",
              "      <td>1.909677</td>\n",
              "      <td>64103.680645</td>\n",
              "    </tr>\n",
              "  </tbody>\n",
              "</table>\n",
              "<p>225 rows × 4 columns</p>\n",
              "</div>"
            ],
            "text/plain": [
              "                           Price     Mileage   EngineV        New_col\n",
              "Year Brand                                                           \n",
              "1969 Mercedes-Benz  34999.000000  150.000000  2.800000   69998.000000\n",
              "1978 Mercedes-Benz   3900.000000  350.500000  2.150000    7800.000000\n",
              "1979 Mercedes-Benz   2470.000000  150.500000  2.400000    4940.000000\n",
              "     Toyota           600.000000   10.000000  1.500000    1200.000000\n",
              "1980 Audi             600.000000  112.000000  1.600000    1200.000000\n",
              "...                          ...         ...       ...            ...\n",
              "2016 Mercedes-Benz  90200.767960    0.333333  3.217650  180401.535921\n",
              "     Mitsubishi     32590.905000    0.300000  2.300000   65181.810000\n",
              "     Renault        16215.531429    1.571429  1.435714   32431.062857\n",
              "     Toyota         55872.702637    0.975000  3.410750  111745.405274\n",
              "     Volkswagen     32051.840323    2.838710  1.909677   64103.680645\n",
              "\n",
              "[225 rows x 4 columns]"
            ]
          },
          "metadata": {},
          "execution_count": 43
        }
      ]
    },
    {
      "cell_type": "markdown",
      "metadata": {
        "id": "OwqYpvIDn1gq"
      },
      "source": [
        "# How can I see the above data row-wise?"
      ]
    },
    {
      "cell_type": "code",
      "metadata": {
        "id": "UFxFlD0AoCOO",
        "colab": {
          "base_uri": "https://localhost:8080/",
          "height": 373
        },
        "outputId": "1f4462a6-3d1e-44a7-c033-7f7ba56c9463"
      },
      "source": [
        "d=data.groupby(['Year','Brand']).mean()\n",
        "d[0:10]"
      ],
      "execution_count": null,
      "outputs": [
        {
          "output_type": "execute_result",
          "data": {
            "text/html": [
              "<div>\n",
              "<style scoped>\n",
              "    .dataframe tbody tr th:only-of-type {\n",
              "        vertical-align: middle;\n",
              "    }\n",
              "\n",
              "    .dataframe tbody tr th {\n",
              "        vertical-align: top;\n",
              "    }\n",
              "\n",
              "    .dataframe thead th {\n",
              "        text-align: right;\n",
              "    }\n",
              "</style>\n",
              "<table border=\"1\" class=\"dataframe\">\n",
              "  <thead>\n",
              "    <tr style=\"text-align: right;\">\n",
              "      <th></th>\n",
              "      <th></th>\n",
              "      <th>Price</th>\n",
              "      <th>Mileage</th>\n",
              "      <th>EngineV</th>\n",
              "    </tr>\n",
              "    <tr>\n",
              "      <th>Year</th>\n",
              "      <th>Brand</th>\n",
              "      <th></th>\n",
              "      <th></th>\n",
              "      <th></th>\n",
              "    </tr>\n",
              "  </thead>\n",
              "  <tbody>\n",
              "    <tr>\n",
              "      <th>1969</th>\n",
              "      <th>Mercedes-Benz</th>\n",
              "      <td>34999.00</td>\n",
              "      <td>150.0</td>\n",
              "      <td>2.80</td>\n",
              "    </tr>\n",
              "    <tr>\n",
              "      <th>1978</th>\n",
              "      <th>Mercedes-Benz</th>\n",
              "      <td>3900.00</td>\n",
              "      <td>350.5</td>\n",
              "      <td>2.15</td>\n",
              "    </tr>\n",
              "    <tr>\n",
              "      <th rowspan=\"2\" valign=\"top\">1979</th>\n",
              "      <th>Mercedes-Benz</th>\n",
              "      <td>2470.00</td>\n",
              "      <td>150.5</td>\n",
              "      <td>2.40</td>\n",
              "    </tr>\n",
              "    <tr>\n",
              "      <th>Toyota</th>\n",
              "      <td>600.00</td>\n",
              "      <td>10.0</td>\n",
              "      <td>1.50</td>\n",
              "    </tr>\n",
              "    <tr>\n",
              "      <th rowspan=\"3\" valign=\"top\">1980</th>\n",
              "      <th>Audi</th>\n",
              "      <td>600.00</td>\n",
              "      <td>112.0</td>\n",
              "      <td>1.60</td>\n",
              "    </tr>\n",
              "    <tr>\n",
              "      <th>Mercedes-Benz</th>\n",
              "      <td>7777.00</td>\n",
              "      <td>230.0</td>\n",
              "      <td>2.80</td>\n",
              "    </tr>\n",
              "    <tr>\n",
              "      <th>Volkswagen</th>\n",
              "      <td>1296.75</td>\n",
              "      <td>1.0</td>\n",
              "      <td>1.60</td>\n",
              "    </tr>\n",
              "    <tr>\n",
              "      <th>1982</th>\n",
              "      <th>Volkswagen</th>\n",
              "      <td>1950.00</td>\n",
              "      <td>94.0</td>\n",
              "      <td>1.10</td>\n",
              "    </tr>\n",
              "    <tr>\n",
              "      <th rowspan=\"2\" valign=\"top\">1983</th>\n",
              "      <th>BMW</th>\n",
              "      <td>3700.00</td>\n",
              "      <td>110.0</td>\n",
              "      <td>2.50</td>\n",
              "    </tr>\n",
              "    <tr>\n",
              "      <th>Mercedes-Benz</th>\n",
              "      <td>2400.00</td>\n",
              "      <td>237.0</td>\n",
              "      <td>3.80</td>\n",
              "    </tr>\n",
              "  </tbody>\n",
              "</table>\n",
              "</div>"
            ],
            "text/plain": [
              "                       Price  Mileage  EngineV\n",
              "Year Brand                                    \n",
              "1969 Mercedes-Benz  34999.00    150.0     2.80\n",
              "1978 Mercedes-Benz   3900.00    350.5     2.15\n",
              "1979 Mercedes-Benz   2470.00    150.5     2.40\n",
              "     Toyota           600.00     10.0     1.50\n",
              "1980 Audi             600.00    112.0     1.60\n",
              "     Mercedes-Benz   7777.00    230.0     2.80\n",
              "     Volkswagen      1296.75      1.0     1.60\n",
              "1982 Volkswagen      1950.00     94.0     1.10\n",
              "1983 BMW             3700.00    110.0     2.50\n",
              "     Mercedes-Benz   2400.00    237.0     3.80"
            ]
          },
          "metadata": {
            "tags": []
          },
          "execution_count": 38
        }
      ]
    },
    {
      "cell_type": "markdown",
      "metadata": {
        "id": "VuLTF-nY21I_"
      },
      "source": [
        "# How can I plot the relationship between Year and Price?"
      ]
    },
    {
      "cell_type": "code",
      "metadata": {
        "colab": {
          "base_uri": "https://localhost:8080/",
          "height": 383
        },
        "id": "MQRp7PD72_t9",
        "outputId": "371ea468-2ae0-41b3-9221-fa3e8e80effb"
      },
      "source": [
        "sns.relplot(x=data[\"Year\"], y=data[\"Price\"], data=data);"
      ],
      "execution_count": null,
      "outputs": [
        {
          "output_type": "display_data",
          "data": {
            "image/png": "[encoded data removed]",
            "text/plain": [
              "<Figure size 360x360 with 1 Axes>"
            ]
          },
          "metadata": {
            "tags": [],
            "needs_background": "light"
          }
        }
      ]
    },
    {
      "cell_type": "markdown",
      "metadata": {
        "id": "dJo08RuE3j_-"
      },
      "source": [
        "#How can I plot the relationship between Brand and Price?"
      ]
    },
    {
      "cell_type": "code",
      "metadata": {
        "colab": {
          "base_uri": "https://localhost:8080/",
          "height": 383
        },
        "id": "yQC8xDtR3vQu",
        "outputId": "7d1e7e48-d810-4e91-8e6a-5323dc7c1988"
      },
      "source": [
        "sns.relplot(x=data[\"Brand\"], y=data[\"Price\"], data=data);"
      ],
      "execution_count": null,
      "outputs": [
        {
          "output_type": "display_data",
          "data": {
            "image/png": "[encoded data removed]",
            "text/plain": [
              "<Figure size 360x360 with 1 Axes>"
            ]
          },
          "metadata": {
            "tags": [],
            "needs_background": "light"
          }
        }
      ]
    },
    {
      "cell_type": "markdown",
      "metadata": {
        "id": "hxOEcaBa4QPs"
      },
      "source": [
        "#How can I plot the relationship between Engine Type and Price? or Which Engine Type has fetched maximum resale price?"
      ]
    },
    {
      "cell_type": "code",
      "metadata": {
        "colab": {
          "base_uri": "https://localhost:8080/",
          "height": 383
        },
        "id": "BRwzf5r44HpA",
        "outputId": "975aabdf-2f4b-45ae-c6f2-15ce22e84ab9"
      },
      "source": [
        "sns.relplot(x=data[\"Engine Type\"], y=data[\"Price\"], data=data);"
      ],
      "execution_count": null,
      "outputs": [
        {
          "output_type": "display_data",
          "data": {
            "image/png": "[encoded data removed]",
            "text/plain": [
              "<Figure size 360x360 with 1 Axes>"
            ]
          },
          "metadata": {
            "tags": [],
            "needs_background": "light"
          }
        }
      ]
    },
    {
      "cell_type": "markdown",
      "metadata": {
        "id": "xfPN1Eu34iKc"
      },
      "source": [
        "Petrol Engine Type has fetched maximum resale price."
      ]
    },
    {
      "cell_type": "markdown",
      "metadata": {
        "id": "nZMNYZ168MTX"
      },
      "source": [
        "#52)How can I compare the registration status of various Engine Types and Brands?"
      ]
    },
    {
      "cell_type": "code",
      "metadata": {
        "colab": {
          "base_uri": "https://localhost:8080/",
          "height": 403
        },
        "id": "dkUdkrNE8ZzB",
        "outputId": "d41715a6-c6c3-4b4f-bf69-1102dd85c645"
      },
      "source": [
        "sns.relplot(x=data[\"Brand\"], y=data[\"Price\"], hue=data[\"Registration\"],\n",
        "            col=data[\"Engine Type\"], data=data);"
      ],
      "execution_count": null,
      "outputs": [
        {
          "output_type": "display_data",
          "data": {
            "image/png": "[encoded data removed]",
            "text/plain": [
              "<Figure size 1508.25x360 with 4 Axes>"
            ]
          },
          "metadata": {
            "tags": [],
            "needs_background": "light"
          }
        }
      ]
    }
  ]
}