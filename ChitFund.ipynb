{
 "cells": [
  {
   "cell_type": "markdown",
   "metadata": {},
   "source": [
    "# Initializing Code:\n"
   ]
  },
  {
   "cell_type": "code",
   "execution_count": 3,
   "metadata": {},
   "outputs": [
    {
     "name": "stdout",
     "output_type": "stream",
     "text": [
      "Initialized List of Members.............\n",
      "Ms. Prabha Biju\n",
      "Mr. Zeeshan Ahmed Siddiqui\n",
      "Ms. Archana Naik\n",
      "Ms. Swati Sharma\n",
      "Mr. Ashish Jain\n",
      "Ms. Sini Shibu\n",
      "Ms. Geetanjli Khambra\n",
      "Ms. Shilpa Jackson\n",
      "Mr. Jean George\n",
      "\n"
     ]
    }
   ],
   "source": [
    "import pandas as pd\n",
    "dept=['Ms. Prabha Biju\\n','Mr. Zeeshan Ahmed Siddiqui\\n','Ms. Archana Naik\\n','Ms. Swati Sharma\\n','Mr. Ashish Jain\\n','Ms. Sini Shibu\\n','Ms. Geetanjli Khambra\\n','Ms. Shilpa Jackson\\n','Mr. Jean George\\n']\n",
    "print(\"Initialized List of Members.............\")\n",
    "#print(dept)\n",
    "with open(\"myfile.xls\", \"w\") as file1: \n",
    "  # Writing data to a file \n",
    "  file1.writelines(dept) \n",
    "  file1.close()\n",
    "with open(\"myfile.xls\", \"r+\") as file1: \n",
    "  # Reading form a file \n",
    "  print(file1.read())\n"
   ]
  },
  {
   "cell_type": "markdown",
   "metadata": {},
   "source": [
    "# Display Current Members:\n"
   ]
  },
  {
   "cell_type": "code",
   "execution_count": 6,
   "metadata": {},
   "outputs": [
    {
     "name": "stdout",
     "output_type": "stream",
     "text": [
      "\n",
      "\n",
      "Members taking part in Today's Lucky Draw:\n",
      "\n",
      "Ms. Prabha Biju\n",
      "Mr. Zeeshan Ahmed Siddiqui\n",
      "Ms. Archana Naik\n",
      "Ms. Swati Sharma\n",
      "Mr. Ashish Jain\n",
      "Ms. Sini Shibu\n",
      "Ms. Geetanjli Khambra\n",
      "Ms. Shilpa Jackson\n",
      "Mr. Jean George\n",
      "\n"
     ]
    }
   ],
   "source": [
    "l=[]\n",
    "print(\"\\n\\nMembers taking part in Today's Lucky Draw:\\n\")\n",
    "with open(\"myfile.xls\", \"r+\") as file1: \n",
    "  # Reading form a file \n",
    "  print(file1.read())\n",
    "  file1.close()\n",
    "\n",
    "with open(\"myfile.xls\", \"r+\") as file1: \n",
    "  for i in range (0,9):\n",
    "        l.append(file1.readline())\n",
    "  file1.close()\n",
    " \n",
    "\n"
   ]
  },
  {
   "cell_type": "markdown",
   "metadata": {},
   "source": [
    "# Lucky Draw:\n"
   ]
  },
  {
   "cell_type": "code",
   "execution_count": 7,
   "metadata": {},
   "outputs": [
    {
     "name": "stdout",
     "output_type": "stream",
     "text": [
      "\n",
      "\n",
      "Congratulations!!!!! The lucky draw winner is Ms. Geetanjli Khambra\n",
      "\n",
      "\n",
      "\n",
      "Remaining Members:\n",
      "\n",
      "Ms. Prabha Biju\n",
      "Mr. Zeeshan Ahmed Siddiqui\n",
      "Ms. Archana Naik\n",
      "Ms. Swati Sharma\n",
      "Mr. Ashish Jain\n",
      "Ms. Sini Shibu\n",
      "Ms. Shilpa Jackson\n",
      "Mr. Jean George\n",
      "\n"
     ]
    }
   ],
   "source": [
    "import random\n",
    "r=''\n",
    "while(r==''):\n",
    "    r=random.choice(l)\n",
    "\n",
    "print(\"\\n\\nCongratulations!!!!! The lucky draw winner is \"+r)\n",
    "l.remove(r)\n",
    "  \n",
    "# Creating a file \n",
    "with open(\"myfile.xls\", \"w\") as file1: \n",
    "# Writing data to a file \n",
    "    file1.writelines(l) \n",
    "    file1.close()  # to change file access modes \n",
    "print(\"\\n\\nRemaining Members:\\n\")\n",
    "with open(\"myfile.xls\", \"r+\") as file1: \n",
    "    # Reading form a file \n",
    "    print(file1.read()) \n"
   ]
  },
  {
   "cell_type": "code",
   "execution_count": null,
   "metadata": {},
   "outputs": [],
   "source": []
  },
  {
   "cell_type": "code",
   "execution_count": null,
   "metadata": {},
   "outputs": [],
   "source": []
  }
 ],
 "metadata": {
  "kernelspec": {
   "display_name": "Python 3",
   "language": "python",
   "name": "python3"
  },
  "language_info": {
   "codemirror_mode": {
    "name": "ipython",
    "version": 3
   },
   "file_extension": ".py",
   "mimetype": "text/x-python",
   "name": "python",
   "nbconvert_exporter": "python",
   "pygments_lexer": "ipython3",
   "version": "3.7.3"
  }
 },
 "nbformat": 4,
 "nbformat_minor": 2
}
