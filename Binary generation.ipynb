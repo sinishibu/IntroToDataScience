{
 "cells": [
  {
   "cell_type": "code",
   "execution_count": 20,
   "metadata": {},
   "outputs": [
    {
     "name": "stdout",
     "output_type": "stream",
     "text": [
      "Enter any number:567\n",
      "111110000001111111"
     ]
    }
   ],
   "source": [
    "#Given an input number, print alternatinf 1s and 0s as many times as the digits\n",
    "#Eg. Input: 234 , Output:110001111\n",
    "n=int(input(\"Enter any number:\"))\n",
    "l=len(str(n))\n",
    "a=[]\n",
    "for i in range (l):\n",
    "    a.append(n%10)\n",
    "    n=int(n/10)\n",
    "a.reverse()\n",
    "k=0\n",
    "for i in (a):\n",
    "    if k==0:\n",
    "        for j in range(0,i):\n",
    "            print(\"1\", end=\"\")\n",
    "        k=1\n",
    "    else:\n",
    "        for j in range(0,i):\n",
    "            print(\"0\", end=\"\")\n",
    "        k=0"
   ]
  },
  {
   "cell_type": "code",
   "execution_count": null,
   "metadata": {},
   "outputs": [],
   "source": []
  }
 ],
 "metadata": {
  "kernelspec": {
   "display_name": "Python 3",
   "language": "python",
   "name": "python3"
  },
  "language_info": {
   "codemirror_mode": {
    "name": "ipython",
    "version": 3
   },
   "file_extension": ".py",
   "mimetype": "text/x-python",
   "name": "python",
   "nbconvert_exporter": "python",
   "pygments_lexer": "ipython3",
   "version": "3.7.3"
  }
 },
 "nbformat": 4,
 "nbformat_minor": 2
}
